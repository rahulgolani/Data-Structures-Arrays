{
 "cells": [
  {
   "cell_type": "markdown",
   "metadata": {},
   "source": [
    "# 1) Array Rotations"
   ]
  },
  {
   "cell_type": "markdown",
   "metadata": {},
   "source": [
    "# Rotate an array by d units"
   ]
  },
  {
   "cell_type": "markdown",
   "metadata": {},
   "source": [
    "Naive Approach-> Using Temporary array, store first d elements in temp array shift the array elements to the left and then store the d elements back"
   ]
  },
  {
   "cell_type": "code",
   "execution_count": 5,
   "metadata": {},
   "outputs": [
    {
     "name": "stdout",
     "output_type": "stream",
     "text": [
      "[1, 2, 3, 4, 5, 6, 7]\n",
      "[3, 4, 5, 6, 7, 1, 2]\n"
     ]
    }
   ],
   "source": [
    "def rotate(arr,d,n):\n",
    "    temp=[0]*d\n",
    "    for i in range(d):\n",
    "        temp[i]=arr[i] #Store\n",
    "    for i in range(d,n):\n",
    "        arr[i-d]=arr[i] #Shift\n",
    "    j=0\n",
    "    for i in range(n-d,n):\n",
    "        arr[i]=temp[j] #Put it in position\n",
    "        j+=1\n",
    "\n",
    "if __name__==\"__main__\":\n",
    "    arr=[1,2,3,4,5,6,7]\n",
    "    d=2\n",
    "    n=len(arr)\n",
    "    print(arr)\n",
    "    rotate(arr,d,n)\n",
    "    print(arr)\n",
    "        "
   ]
  },
  {
   "cell_type": "markdown",
   "metadata": {},
   "source": [
    "Time Complexity-O(n) and space-O(d)"
   ]
  },
  {
   "cell_type": "markdown",
   "metadata": {},
   "source": [
    "<strong>Another brute force solution is to rotate the elements one by one instead of storing the complete d elements at once, take one element, shift rest elements to the left/right and place the taken element at its correct position</strong>"
   ]
  },
  {
   "cell_type": "code",
   "execution_count": 6,
   "metadata": {},
   "outputs": [
    {
     "name": "stdout",
     "output_type": "stream",
     "text": [
      "[1, 2, 3, 4, 5, 6, 7]\n",
      "[3, 4, 5, 6, 7, 1, 2]\n"
     ]
    }
   ],
   "source": [
    "def rotate(arr,d,n):\n",
    "    for i in range(d):\n",
    "        rotateOneByOne(arr,n) #iterate d times\n",
    "\n",
    "def rotateOneByOne(arr,n):\n",
    "    temp=arr[0]   #store \n",
    "    for i in range(n-1):\n",
    "        arr[i]=arr[i+1] #shift\n",
    "    arr[n-1]=temp#put it in position\n",
    "\n",
    "if __name__==\"__main__\":\n",
    "    arr=[1,2,3,4,5,6,7]\n",
    "    d=2\n",
    "    n=len(arr)\n",
    "    print(arr)\n",
    "    rotate(arr,d,n)\n",
    "    print(arr)\n",
    "        "
   ]
  },
  {
   "cell_type": "markdown",
   "metadata": {},
   "source": [
    "Time Complexity-> O(n*d) O(n) time for shift and it happens for O(d) times"
   ]
  },
  {
   "cell_type": "markdown",
   "metadata": {},
   "source": [
    "Another Approach-> <strong>Juggling Algorithm </strong> (Instead of moving one by one,<strong> moving in sets) </strong>where number of sets is equal to GCD of n and d and move the elements within sets.\n",
    "If GCD is 1 as is for the above example array (n = 7 and d =2), then elements will be moved within one set only, we just start with temp = arr[0] and keep moving arr[I+d] to arr[I] and finally store temp at the right place."
   ]
  },
  {
   "cell_type": "code",
   "execution_count": 4,
   "metadata": {},
   "outputs": [
    {
     "name": "stdout",
     "output_type": "stream",
     "text": [
      "[1, 2, 3, 4, 5, 6, 7, 8, 9, 10, 11, 12]\n",
      "[4, 5, 6, 7, 8, 9, 10, 11, 12, 1, 2, 3]\n"
     ]
    }
   ],
   "source": [
    "from math import gcd\n",
    "def rotate(arr,d,n):\n",
    "    g_c_d=gcd(d,n) #no of sets equal to gcd\n",
    "    for i in range(g_c_d):\n",
    "        temp=arr[i] #store the first element\n",
    "        j=i\n",
    "        while True:\n",
    "            k=j+d #one by one take the elements from all sets and move them to correct position\n",
    "            if k>=n:\n",
    "                k=k-n \n",
    "            if k==i:\n",
    "                break #position for the stored element\n",
    "            arr[j]=arr[k]\n",
    "            j=k # move the pointer to the next element of the set\n",
    "        arr[j]=temp\n",
    "\n",
    "if __name__==\"__main__\":\n",
    "    arr=[1,2,3,4,5,6,7,8,9,10,11,12]\n",
    "    d=3\n",
    "    n=len(arr)\n",
    "    print(arr)\n",
    "    rotate(arr,d,n)\n",
    "    print(arr)\n"
   ]
  },
  {
   "cell_type": "markdown",
   "metadata": {},
   "source": [
    "Time Complexity - O(n) and space - O(1)"
   ]
  },
  {
   "cell_type": "markdown",
   "metadata": {},
   "source": [
    "# Reversal algorithm for array rotation"
   ]
  },
  {
   "cell_type": "markdown",
   "metadata": {},
   "source": [
    "<pre>\n",
    "Let AB are the two parts of the input array where A = arr[0..d-1] and B = arr[d..n-1]. The idea of the algorithm is :\n",
    "\n",
    "Reverse A to get ArB, where Ar is reverse of A.\n",
    "Reverse B to get ArBr, where Br is reverse of B.\n",
    "Reverse all to get (ArBr) r = BA.\n",
    "Example :\n",
    "Let the array be arr[] = [1, 2, 3, 4, 5, 6, 7], d =2 and n = 7\n",
    "A = [1, 2] and B = [3, 4, 5, 6, 7]\n",
    "\n",
    "Reverse A, we get ArB = [2, 1, 3, 4, 5, 6, 7]\n",
    "Reverse B, we get ArBr = [2, 1, 7, 6, 5, 4, 3]\n",
    "Reverse all, we get (ArBr)r = [3, 4, 5, 6, 7, 1, 2]\n",
    "</pre>"
   ]
  },
  {
   "cell_type": "code",
   "execution_count": 9,
   "metadata": {},
   "outputs": [
    {
     "name": "stdout",
     "output_type": "stream",
     "text": [
      "array('i', [3, 4, 5, 6, 7, 1, 2])\n"
     ]
    }
   ],
   "source": [
    "import array\n",
    "\n",
    "def reverseArray(arr,start,end):\n",
    "    while start<end:\n",
    "        arr[start],arr[end]=arr[end],arr[start] #2 pointers\n",
    "        start+=1\n",
    "        end-=1\n",
    "\n",
    "\n",
    "def rotate(arr,n,d):\n",
    "\n",
    "    reverseArray(arr,0,d-1)\n",
    "    reverseArray(arr,d,n-1)\n",
    "    arr.reverse()\n",
    "\n",
    "\n",
    "\n",
    "arr=array.array('i',[1,2,3,4,5,6,7])\n",
    "rotate(arr,7,2)\n",
    "print(arr)\n"
   ]
  },
  {
   "cell_type": "markdown",
   "metadata": {},
   "source": [
    "<strong>Concept- 2 pointers to reverse the array</strong>"
   ]
  },
  {
   "cell_type": "markdown",
   "metadata": {},
   "source": [
    "Time Complexity - O(n) space-O(1)"
   ]
  },
  {
   "cell_type": "markdown",
   "metadata": {},
   "source": [
    "# Block swap algorithm for array rotation"
   ]
  },
  {
   "cell_type": "markdown",
   "metadata": {},
   "source": [
    "<pre>\n",
    "Initialize A = arr[0..d-1] and B = arr[d..n-1]\n",
    "1) Do following until size of A is equal to size of B\n",
    "\n",
    "  a)  If A is shorter, divide B into Bl and Br such that Br is of same \n",
    "       length as A. Swap A and Br to change ABlBr into BrBlA. Now A\n",
    "       is at its final place, so recur on pieces of B.  \n",
    "\n",
    "   b)  If A is longer, divide A into Al and Ar such that Al is of same \n",
    "       length as B Swap Al and B to change AlArB into BArAl. Now B\n",
    "       is at its final place, so recur on pieces of A.\n",
    "\n",
    "2)  Finally when A and B are of equal size, block swap them.\n",
    "</pre>"
   ]
  },
  {
   "cell_type": "code",
   "execution_count": 19,
   "metadata": {},
   "outputs": [
    {
     "name": "stdout",
     "output_type": "stream",
     "text": [
      "[1, 2, 3, 4, 5, 6, 7]\n",
      "[6, 7, 3, 4, 5, 1, 2]\n",
      "[4, 5, 3, 6, 7, 1, 2]\n",
      "[3, 5, 4, 6, 7, 1, 2]\n",
      "[3, 4, 5, 6, 7, 1, 2]\n"
     ]
    }
   ],
   "source": [
    "def swap(arr,start,end,n):\n",
    "    count=0\n",
    "    while count<n:\n",
    "        arr[start],arr[end]=arr[end],arr[start]\n",
    "        start+=1\n",
    "        end+=1\n",
    "        count+=1\n",
    "\n",
    "def rotate(arr,d,n):\n",
    "    i=d\n",
    "    j=n-d\n",
    "    while i!=j:\n",
    "        if i<j:\n",
    "            swap(arr,d-i,d+j-i,i)\n",
    "            j-=i\n",
    "        elif j<i:\n",
    "            swap(arr,d-i,d,j)\n",
    "            i-=j\n",
    "        print(arr)\n",
    "    swap(arr,d-i,d,i)\n",
    "\n",
    "if __name__ == \"__main__\":\n",
    "    arr=[1,2,3,4,5,6,7]\n",
    "    d=2\n",
    "    n=len(arr)\n",
    "    print(arr)\n",
    "    rotate(arr,d,n)\n",
    "    print(arr)"
   ]
  },
  {
   "cell_type": "markdown",
   "metadata": {},
   "source": [
    "Time Complexity-O(n)"
   ]
  },
  {
   "cell_type": "markdown",
   "metadata": {},
   "source": [
    "# Find Element in sorted and rotated array"
   ]
  },
  {
   "cell_type": "markdown",
   "metadata": {},
   "source": [
    "Find pivot of the array (pivot element is the element in the array for which the next element is smaller that it)"
   ]
  },
  {
   "cell_type": "code",
   "execution_count": 3,
   "metadata": {},
   "outputs": [
    {
     "name": "stdout",
     "output_type": "stream",
     "text": [
      "9\n"
     ]
    }
   ],
   "source": [
    "import array\n",
    "\n",
    "#finding pivot element\n",
    "\n",
    "def pivotedBinarySearch(arr,low,high,key):\n",
    "    pivot=findPivot(arr,low,high)\n",
    "#     print(pivot)\n",
    "    if pivot==-1:\n",
    "        return binarySearch(arr,low,high,key)\n",
    "    if arr[pivot]==key:\n",
    "        return pivot\n",
    "    if arr[0]<=key:   #important\n",
    "        return binarySearch(arr,low,pivot-1,key)\n",
    "    return binarySearch(arr,pivot+1,high,key)\n",
    "\n",
    "def binarySearch(arr,low,high,key):\n",
    "    if high<low:\n",
    "        return -1\n",
    "    mid=int((high+low)/2)\n",
    "    if arr[mid]==key:\n",
    "        return mid\n",
    "    if arr[mid]>key:\n",
    "        return binarySearch(arr,low,mid-1,key)\n",
    "    return binarySearch(arr,mid+1,high,key)\n",
    "\n",
    "def findPivot(arr,low,high):\n",
    "\n",
    "    if arr[low]<arr[high]:\n",
    "        return -1\n",
    "    if high<low:\n",
    "        return -1\n",
    "    if high==low:\n",
    "        return low\n",
    "    mid=int((high+low)/2)\n",
    "    if mid<high and arr[mid]>arr[mid+1]:\n",
    "        return mid\n",
    "    if low<mid and arr[mid]<arr[mid-1]:\n",
    "        return (mid-1)\n",
    "    if arr[low]>=arr[mid]:\n",
    "        return findPivot(arr,low,mid-1)\n",
    "    return findPivot(arr,mid+1,high)\n",
    "\n",
    "\n",
    "arr=array.array('i',[30,40,50,60,70,90,100,110,10,20])\n",
    "result=pivotedBinarySearch(arr,0,len(arr)-1,20)\n",
    "print(result)\n"
   ]
  },
  {
   "cell_type": "markdown",
   "metadata": {},
   "source": [
    "<pre>\n",
    "We can search an element in one pass of Binary Search. The idea is to search\n",
    "\n",
    "1) Find middle point mid = (l + h)/2\n",
    "2) If key is present at middle point, return mid.\n",
    "3) Else If arr[l..mid] is sorted\n",
    "    a) If key to be searched lies in range from arr[l]\n",
    "       to arr[mid], recur for arr[l..mid].\n",
    "    b) Else recur for arr[mid+1..h]\n",
    "4) Else (arr[mid+1..h] must be sorted)\n",
    "    a) If key to be searched lies in range from arr[mid+1]\n",
    "       to arr[h], recur for arr[mid+1..h].\n",
    "    b) Else recur for arr[l..mid]\n",
    "</pre>"
   ]
  },
  {
   "cell_type": "code",
   "execution_count": 4,
   "metadata": {},
   "outputs": [
    {
     "name": "stdout",
     "output_type": "stream",
     "text": [
      "9\n"
     ]
    }
   ],
   "source": [
    "def pivotedBinarySearch(arr,low,high,key):\n",
    "    if low>high:\n",
    "        return -1\n",
    "    mid=(low+high)//2\n",
    "    if arr[mid]==key:\n",
    "        return mid\n",
    "    # if isSorted(arr,low,mid-1):\n",
    "    if arr[low]<=arr[mid]:#isSorted\n",
    "        if key>=arr[low] and key<=arr[mid]:\n",
    "            return pivotedBinarySearch(arr,low,mid-1,key)\n",
    "        else:\n",
    "            return pivotedBinarySearch(arr,mid+1,high,key)\n",
    "    else:\n",
    "        if key>=arr[mid] and key<=arr[high]:\n",
    "            return pivotedBinarySearch(arr,mid+1,high,key)\n",
    "        else:\n",
    "            return pivotedBinarySearch(arr,low,mid-1,key)\n",
    "\n",
    "def isSorted(arr,low,high):\n",
    "    while low<high:\n",
    "        if arr[low]>arr[low+1]:\n",
    "            return False\n",
    "        low+=1\n",
    "    return True\n",
    "\n",
    "if __name__ == '__main__':\n",
    "    arr=[30,40,50,60,70,90,100,110,10,20]\n",
    "    result=pivotedBinarySearch(arr,0,len(arr)-1,20)\n",
    "    print(result)\n"
   ]
  },
  {
   "cell_type": "markdown",
   "metadata": {},
   "source": [
    "Duplicates-> It does not seem possible to decide whether to recur for left subtree or right subtree"
   ]
  },
  {
   "cell_type": "markdown",
   "metadata": {},
   "source": [
    "# Given a sorted and rotated array, find if there is a pair with a given sum"
   ]
  },
  {
   "cell_type": "markdown",
   "metadata": {},
   "source": [
    "Approach1-> Find the pivot element, mark it as end, start will be end+1. Then use 2 pointer approach modular wise, to see if the pair is present or not"
   ]
  },
  {
   "cell_type": "code",
   "execution_count": 6,
   "metadata": {},
   "outputs": [
    {
     "name": "stdout",
     "output_type": "stream",
     "text": [
      "True\n"
     ]
    }
   ],
   "source": [
    "#The only thing new here is indexes are incremented and decremented in rotational manner using modular arithmetic.\n",
    "\n",
    "import array\n",
    "\n",
    "def doesPairExist(arr,size,summ):\n",
    "\n",
    "    pivot=findPivot(arr,0,size-1)\n",
    "    #print(pivot)\n",
    "    l=(pivot+1)%size\n",
    "    r=pivot\n",
    "    while l!=r:\n",
    "        if (arr[l]+arr[r])==summ:\n",
    "            return True\n",
    "\n",
    "        if (arr[l]+arr[r])<summ:\n",
    "            l=(l+1)%size\n",
    "        else:\n",
    "            r=(size+r-1)%size\n",
    "    return False\n",
    "\n",
    "def findPivot(arr,low,high):\n",
    "    if arr[low]<arr[high]:\n",
    "        return -1\n",
    "    if high<low:\n",
    "        return -1\n",
    "    if high==low:\n",
    "        return low\n",
    "    mid=int((high+low)/2)\n",
    "    if mid<high and arr[mid]>arr[mid+1]:\n",
    "        return mid\n",
    "    if mid>low and arr[mid]<arr[mid-1]:\n",
    "        return mid-1\n",
    "    if arr[low]<=arr[mid]:\n",
    "        return findPivot(arr,mid+1,high)\n",
    "    return findPivot(arr,low,mid-1)\n",
    "\n",
    "arr=array.array('i',[3,4,5,6,1,2])\n",
    "result=doesPairExist(arr,len(arr),8)\n",
    "print(result)\n"
   ]
  },
  {
   "cell_type": "markdown",
   "metadata": {},
   "source": [
    "<strong>Concept</strong>\n",
    "Another approach can be to use Hashing. iterate through the array, check if sum-ele is present in hash or not, if yes then  return true, if not then add ele in the hash"
   ]
  },
  {
   "cell_type": "markdown",
   "metadata": {},
   "source": [
    "Another approach can be to sort the array and use 2 pointer approach. Time-O(nlogn)"
   ]
  },
  {
   "cell_type": "markdown",
   "metadata": {},
   "source": [
    "# Find maximum value of Sum( i*arr[i]) with only rotations on given array allowed"
   ]
  },
  {
   "cell_type": "markdown",
   "metadata": {},
   "source": [
    "Simple solution is to check all the possible rotations, O(n^2)"
   ]
  },
  {
   "cell_type": "markdown",
   "metadata": {},
   "source": [
    "Efficient Solution->"
   ]
  },
  {
   "cell_type": "markdown",
   "metadata": {},
   "source": [
    "Let Rj be value of i*arr[i] with j rotations. The idea is to calculate next rotation value from previous rotation, i.e., calculate Rj from Rj-1. We can calculate initial value of result as R0, then keep calculating next rotation values."
   ]
  },
  {
   "cell_type": "markdown",
   "metadata": {},
   "source": [
    "<strong>CONCEPT</strong>\n",
    "<pre>\n",
    "Let us calculate initial value of i*arr[i] with no rotation\n",
    "R0 = 0*arr[0] + 1*arr[1] +...+ (n-1)*arr[n-1]\n",
    "\n",
    "After 1 rotation arr[n-1], becomes first element of array, \n",
    "arr[0] becomes second element, arr[1] becomes third element\n",
    "and so on.\n",
    "R1 = 0*arr[n-1] + 1*arr[0] +...+ (n-1)*arr[n-2]\n",
    "\n",
    "R1 - R0 = arr[0] + arr[1] + ... + arr[n-2] - (n-1)*arr[n-1]\n",
    "\n",
    "After 2 rotations arr[n-2], becomes first element of array, \n",
    "arr[n-1] becomes second element, arr[0] becomes third element\n",
    "and so on.\n",
    "R2 = 0*arr[n-2] + 1*arr[n-1] +...+ (n-1)*arr[n-3]\n",
    "\n",
    "R2 - R1 = arr[0] + arr[1] + ... + arr[n-3] - (n-1)*arr[n-2] + arr[n-1]\n",
    "\n",
    "If we take a closer look at above values, we can observe \n",
    "below pattern\n",
    "\n",
    "Rj - Rj-1 = arrSum - n * arr[n-j]\n",
    "</pre>"
   ]
  },
  {
   "cell_type": "code",
   "execution_count": 7,
   "metadata": {},
   "outputs": [
    {
     "name": "stdout",
     "output_type": "stream",
     "text": [
      "330 9\n"
     ]
    }
   ],
   "source": [
    "def maxValSum(arr,n):\n",
    "    total=sum(arr)\n",
    "    currVal=0\n",
    "    for i in range(n):\n",
    "        currVal+=i*arr[i]\n",
    "    maxVal=currVal\n",
    "    rCount=0\n",
    "    for i in range(1,n):\n",
    "        currVal=currVal+total-n*arr[n-i]\n",
    "        if currVal>maxVal:\n",
    "            maxVal=currVal\n",
    "            rCount=i\n",
    "    print(maxVal,rCount)\n",
    "\n",
    "if __name__ == '__main__':\n",
    "    arr=[10, 1, 2, 3, 4, 5, 6, 7, 8, 9]\n",
    "    n=len(arr)\n",
    "    maxValSum(arr,len(arr))\n"
   ]
  },
  {
   "cell_type": "markdown",
   "metadata": {},
   "source": [
    "Time Complexity - O(n)\n",
    "Space-O(1)"
   ]
  },
  {
   "cell_type": "markdown",
   "metadata": {},
   "source": [
    "# Find the Rotation Count in Rotated Sorted array"
   ]
  },
  {
   "cell_type": "markdown",
   "metadata": {},
   "source": [
    "Rotation count is nothing but the index of the minimum element "
   ]
  },
  {
   "cell_type": "markdown",
   "metadata": {},
   "source": [
    "Use Binary Search for logn solution and linear search for n solution"
   ]
  },
  {
   "cell_type": "markdown",
   "metadata": {},
   "source": [
    "# Quickly find multiple left rotations of an array"
   ]
  },
  {
   "cell_type": "markdown",
   "metadata": {},
   "source": [
    "<strong>CONCEPT-Doubled size array</strong>\n",
    "\n",
    "<pre>\n",
    "The techniques discussed earlier make modifications to the array. \n",
    "\n",
    "To handle multiple queries of array rotation, we use a temp array of size 2n and quickly handle rotations.\n",
    "\n",
    "Step 1 : Copy the entire array two times in temp[0..2n-1] array.\n",
    "Step 2 : Starting position of array after k rotations in temp[] will be k % n. We do k\n",
    "Step 3 : Print temp[] array from k % n to k % n + n.\n",
    "</pre>"
   ]
  },
  {
   "cell_type": "code",
   "execution_count": 8,
   "metadata": {},
   "outputs": [
    {
     "name": "stdout",
     "output_type": "stream",
     "text": [
      "5 7 9 1 3 "
     ]
    }
   ],
   "source": [
    "def preprocessArray(arr,temp,n):\n",
    "    for i in range(n):\n",
    "        temp[i]=arr[i]\n",
    "        temp[i+n]=arr[i]\n",
    "\n",
    "def rotate(arr,n,k):\n",
    "    temp=[0]*(2*n)\n",
    "    preprocessArray(arr,temp,n)\n",
    "    # print(temp)\n",
    "    # start=(n-k)%n#right rotate\n",
    "    start=k%n#left rotate\n",
    "    for i in range(start,start+n):\n",
    "        print(temp[i],end=\" \")\n",
    "\n",
    "if __name__ == '__main__':\n",
    "    arr=[1, 3, 5, 7, 9]\n",
    "    rotate(arr,len(arr),2)\n"
   ]
  },
  {
   "cell_type": "markdown",
   "metadata": {},
   "source": [
    "Time Complexity - O(n) and Space Complexity O(2n)"
   ]
  },
  {
   "cell_type": "markdown",
   "metadata": {},
   "source": [
    "Space Efficient Solution-> Use modular arithmetic"
   ]
  },
  {
   "cell_type": "code",
   "execution_count": 10,
   "metadata": {},
   "outputs": [
    {
     "name": "stdout",
     "output_type": "stream",
     "text": [
      "7 9 1 3 5 "
     ]
    }
   ],
   "source": [
    "def rotate(arr,n,k):\n",
    "    for i in range(k,k+n):\n",
    "        print(arr[i%n],end=\" \")\n",
    "\n",
    "if __name__ == '__main__':\n",
    "    arr=[1, 3, 5, 7, 9]\n",
    "    rotate(arr,len(arr),3)\n"
   ]
  },
  {
   "cell_type": "markdown",
   "metadata": {},
   "source": [
    "# Find the minimum element in a sorted and rotated array"
   ]
  },
  {
   "cell_type": "markdown",
   "metadata": {},
   "source": [
    "Binary Search, find pivot, pivotindex+1 is the min element"
   ]
  },
  {
   "cell_type": "markdown",
   "metadata": {},
   "source": [
    "# Find a rotation with maximum hamming distance"
   ]
  },
  {
   "cell_type": "markdown",
   "metadata": {},
   "source": [
    "Hamming distance between two arrays or strings of equal length is the number of positions at which the corresponding character(elements) are different."
   ]
  },
  {
   "cell_type": "code",
   "execution_count": 12,
   "metadata": {},
   "outputs": [
    {
     "name": "stdout",
     "output_type": "stream",
     "text": [
      "4\n"
     ]
    }
   ],
   "source": [
    "def preprocessArray(arr,temp,n):\n",
    "    for i in range(n):\n",
    "        temp[i]=arr[i]\n",
    "        temp[i+n]=arr[i]\n",
    "\n",
    "def maxHammingDistance(arr,n):\n",
    "    temp=[0]*(2*n)\n",
    "    preprocessArray(arr,temp,n)\n",
    "    result=0\n",
    "    for i in range(1,n):\n",
    "        k=0\n",
    "        hamDistance=0\n",
    "        for j in range(i,i+n):\n",
    "            if arr[j%n]!=arr[k]:\n",
    "                hamDistance+=1\n",
    "            k+=1\n",
    "        result=max(result,hamDistance)\n",
    "    return hamDistance\n",
    "\n",
    "if __name__ == '__main__':\n",
    "    arr=[2,4,8,0]\n",
    "    n=len(arr)\n",
    "    print(maxHammingDistance(arr,n))\n"
   ]
  },
  {
   "cell_type": "markdown",
   "metadata": {},
   "source": [
    "<strong>Concept-</strong> Doubled size array, check for each rotation the hamming distance"
   ]
  },
  {
   "cell_type": "markdown",
   "metadata": {},
   "source": [
    "Time Complexity - O(n)"
   ]
  },
  {
   "cell_type": "markdown",
   "metadata": {},
   "source": [
    "# Queries on Left and Right Circular shift on array"
   ]
  },
  {
   "cell_type": "markdown",
   "metadata": {},
   "source": [
    "<strong>Concept</strong> -> <strong>Prefix Sum</strong> - A quick way to deal with mutliple queries requiring the sum of elements between 2 indices"
   ]
  },
  {
   "cell_type": "markdown",
   "metadata": {},
   "source": [
    "We can evaluate the prefix sum of all elements in the array, prefixsum[i] will denote the sum of all the integers upto ith index.\n",
    "Now, if we want to find sum of elements between two indexes i.e l and r, we compute it in constant time by just calculating <strong>prefixsum[r] – prefixsum[l – 1]</strong> ."
   ]
  },
  {
   "cell_type": "markdown",
   "metadata": {},
   "source": [
    "<pre>\n",
    "Given an array A of N integers. There are three type of type of commands:\n",
    "\n",
    "1 x : Right Circular Shift the array x times. If an array is a[0], a[1], …., a[n – 1], then after one right circular shift the array will become a[n – 1], a[0], a[1], …., a[n – 2].\n",
    "2 y : Left Circular Shift the array y times. If an array is a[0], a[1], …., a[n – 1], then after one right circular shift the array will become a[1], …., a[n – 2], a[n – 1], a[0].\n",
    "3 l r : Print the sum of all integers in the subarray a[l…r] (l and r inclusive).\n",
    "</pre>    "
   ]
  },
  {
   "cell_type": "markdown",
   "metadata": {},
   "source": [
    "<pre>\n",
    "For rotations, if we are rotating the array for every query, that will be highly inefficient.\n",
    "We just need to track the net rotation. If the tracked number is negative, it means left rotation has domainated else right rotation has dominated. When we are tracking the net rotations, we need to do mod n. As after every n rotation, array will return to its original state.\n",
    "We need to observe it in such a way that every time we rotate the array, only its indexes are changing.\n",
    "If we need to answer any query of third type and we have l and r. We need to find what l and r were in the original order. We can easily find it out by adding the net rotations to the index and taking mod n.\n",
    "</pre>"
   ]
  },
  {
   "cell_type": "code",
   "execution_count": 2,
   "metadata": {},
   "outputs": [
    {
     "name": "stdout",
     "output_type": "stream",
     "text": [
      "12\n",
      "11\n"
     ]
    }
   ],
   "source": [
    "def queryType1(toRotate,times,n):\n",
    "    toRotate[0]=(toRotate[0]-times)%n #right rotate\n",
    "\n",
    "def queryType2(toRotate,times,n):\n",
    "    toRotate[0]=(toRotate[0]+times)%n #left rotate\n",
    "\n",
    "def queryType3(toRotate,preArr,l,r,n):\n",
    "    l=(l+toRotate[0]+n)%n #get the value of actual indices\n",
    "    r=(r+toRotate[0]+n)%n\n",
    "    if l<=r:\n",
    "        print(preArr[r]-preArr[l-1])\n",
    "    else:\n",
    "        print(preArr[n-1]+preArr[r]-preArr[l-1])\n",
    "\n",
    "def query(arr,n):\n",
    "    preArr=[0]*n\n",
    "    preArr[0]=arr[0]\n",
    "    for i in range(1,n):\n",
    "        preArr[i]=preArr[i-1]+arr[i]\n",
    "    toRotate=[0]\n",
    "    queryType1(toRotate,3,n)\n",
    "    # print(toRotate[0])\n",
    "    queryType3(toRotate,preArr,0,2,n)\n",
    "    queryType2(toRotate,1,n)\n",
    "    queryType3(toRotate,preArr,1,4,n)\n",
    "\n",
    "if __name__ == '__main__':\n",
    "    arr=[1,2,3,4,5]\n",
    "    query(arr,len(arr))\n"
   ]
  },
  {
   "cell_type": "markdown",
   "metadata": {},
   "source": [
    "<strong>Concept</strong>- Keep track of net rotations"
   ]
  },
  {
   "cell_type": "markdown",
   "metadata": {},
   "source": [
    "# Print left rotation of array in O(n) time and O(1) space"
   ]
  },
  {
   "cell_type": "markdown",
   "metadata": {},
   "source": [
    "Same as Quickly find multiple left rotations of an array"
   ]
  },
  {
   "cell_type": "markdown",
   "metadata": {},
   "source": [
    "# Split the array and add the first part to the end"
   ]
  },
  {
   "cell_type": "markdown",
   "metadata": {},
   "source": [
    "Rotate the array k times"
   ]
  },
  {
   "cell_type": "markdown",
   "metadata": {},
   "source": [
    "# Find element at given index after a number of rotations"
   ]
  },
  {
   "cell_type": "markdown",
   "metadata": {},
   "source": [
    "to do"
   ]
  },
  {
   "cell_type": "markdown",
   "metadata": {},
   "source": [
    "# 2) Array Rearrangement"
   ]
  },
  {
   "cell_type": "markdown",
   "metadata": {},
   "source": [
    "# Write a program to reverse an array or string"
   ]
  },
  {
   "cell_type": "code",
   "execution_count": 1,
   "metadata": {},
   "outputs": [
    {
     "name": "stdout",
     "output_type": "stream",
     "text": [
      "[5, 4, 3, 2, 1]\n"
     ]
    }
   ],
   "source": [
    "# def reverseArray(arr):\n",
    "#     start=0\n",
    "#     end=len(arr)-1\n",
    "#     while start<end:\n",
    "#         arr[start],arr[end]=arr[end],arr[start]\n",
    "#         start+=1\n",
    "#         end-=1\n",
    "\n",
    "def reverseArray(arr,start,end):\n",
    "    if start>=end:\n",
    "        return\n",
    "    arr[start],arr[end]=arr[end],arr[start]\n",
    "    reverseArray(arr,start+1,end-1)\n",
    "\n",
    "if __name__ == '__main__':\n",
    "    arr=[1, 2, 3, 4, 5]\n",
    "    reverseArray(arr,0,len(arr)-1)\n",
    "    print(arr)\n"
   ]
  },
  {
   "cell_type": "markdown",
   "metadata": {},
   "source": [
    "Concept- 2 pointer approach"
   ]
  },
  {
   "cell_type": "markdown",
   "metadata": {},
   "source": [
    "Time Complexity - O(n)"
   ]
  },
  {
   "cell_type": "markdown",
   "metadata": {},
   "source": [
    "# Rearrange an array such that arr[i] = i"
   ]
  },
  {
   "cell_type": "markdown",
   "metadata": {},
   "source": [
    "Given an array of elements of length N, ranging from 0 to N – 1. All elements may not be present in the array. If element is not present then there will be -1 present in the array. Rearrange the array such that A[i] = i and if i is not present, display -1 at that place"
   ]
  },
  {
   "cell_type": "code",
   "execution_count": 2,
   "metadata": {},
   "outputs": [
    {
     "name": "stdout",
     "output_type": "stream",
     "text": [
      "[-1, -1, 6, 1, 9, 3, 2, -1, 4, -1]\n",
      "[-1, 1, 2, 3, 4, -1, 6, -1, -1, 9]\n"
     ]
    }
   ],
   "source": [
    "def rearrange(arr,n):\n",
    "    for i in range(n):\n",
    "        if arr[i]!=1 and arr[i]!=i: #if arr[i] is -1 or in correct place ignore it\n",
    "            x=arr[i]\n",
    "            while arr[x]!=-1 and arr[x]!=x: #while x does not reaches its correct position\n",
    "                y=arr[x]\n",
    "                arr[x]=x\n",
    "                x=y\n",
    "            arr[x]=x #place x in correct position\n",
    "            if arr[i]!=i: #if element corressponding to i is not found put -1\n",
    "                arr[i]=-1\n",
    "\n",
    "\n",
    "\n",
    "if __name__ == '__main__':\n",
    "    arr=[-1, -1, 6, 1, 9, 3, 2, -1, 4, -1]\n",
    "    print(arr)\n",
    "    rearrange(arr,len(arr))\n",
    "    print(arr)\n"
   ]
  },
  {
   "cell_type": "code",
   "execution_count": null,
   "metadata": {},
   "outputs": [],
   "source": [
    "Time Complexity- O(n), it takes O(n) time for each element to be in place"
   ]
  },
  {
   "cell_type": "markdown",
   "metadata": {},
   "source": [
    "Another Approach is to use a hashset, store all numbers in hashset, iterate throught the array, if i is found in hash put it in arr[i] else put -1"
   ]
  },
  {
   "cell_type": "markdown",
   "metadata": {},
   "source": [
    "Time Complexity -O(n), space complexity-O(n)"
   ]
  },
  {
   "cell_type": "markdown",
   "metadata": {},
   "source": [
    "<pre>\n",
    "Another Approach (Swap elements in Array) :\n",
    "1) Iterate through elements in array\n",
    "2) If arr[i] >= 0 && arr[i] != i, put arr[i] at i ( swap arr[i] with arr[arr[i]])\n",
    "</pre>"
   ]
  },
  {
   "cell_type": "markdown",
   "metadata": {},
   "source": [
    "Time Complexity -O(n)"
   ]
  },
  {
   "cell_type": "markdown",
   "metadata": {},
   "source": [
    "# Rearrange array such that arr[i] >= arr[j] if i is even and arr[i]<=arr[j] if i is odd and j < i"
   ]
  },
  {
   "cell_type": "markdown",
   "metadata": {},
   "source": [
    "Given an array of n elements. Our task is to write a program to rearrange the array such that elements at even positions are greater than all elements before it and elements at odd positions are less than all elements before it."
   ]
  },
  {
   "cell_type": "code",
   "execution_count": 1,
   "metadata": {},
   "outputs": [
    {
     "name": "stdout",
     "output_type": "stream",
     "text": [
      "[4, 5, 2, 6, 1, 8, 1, 8]\n"
     ]
    }
   ],
   "source": [
    "import math\n",
    "def arrange(arr,n):\n",
    "    temp=[0]*n\n",
    "    for i in range(n):\n",
    "        temp[i]=arr[i]\n",
    "    temp.sort()\n",
    "    oddPosition=math.ceil(n/2)\n",
    "    # print(oddPosition)\n",
    "    evenPosition=oddPosition-1\n",
    "    odd=1\n",
    "    even=0\n",
    "    for i in range(0,n,2):\n",
    "        arr[i]=temp[evenPosition]\n",
    "        if i+1<n:\n",
    "            arr[i+1]=temp[oddPosition]\n",
    "        # odd+=2\n",
    "        # even+=2\n",
    "        oddPosition+=1\n",
    "        evenPosition-=1\n",
    "    print(arr)\n",
    "\n",
    "arr=[1,2,1,4,5,6,8,8]\n",
    "# arr=[1,2,3,4,5,6,7]\n",
    "n=len(arr)\n",
    "arrange(arr,n)\n"
   ]
  },
  {
   "cell_type": "markdown",
   "metadata": {},
   "source": [
    "Concept- 2 pointers, alternate inserting"
   ]
  },
  {
   "cell_type": "markdown",
   "metadata": {},
   "source": [
    "Time Complexity - O(nlogn) and space complexity -O(n)"
   ]
  },
  {
   "cell_type": "markdown",
   "metadata": {},
   "source": [
    "# Rearrange positive and negative numbers in O(n) time and O(1) extra space"
   ]
  },
  {
   "cell_type": "markdown",
   "metadata": {},
   "source": [
    "An array contains both positive and negative numbers in random order. Rearrange the array elements so that positive and negative numbers are placed alternatively. Number of positive and negative numbers need not be equal. If there are more positive numbers they appear at the end of the array. If there are more negative numbers, they too appear in the end of the array."
   ]
  },
  {
   "cell_type": "markdown",
   "metadata": {},
   "source": [
    "Aproach 1 [Similar to merge method of merge sort]"
   ]
  },
  {
   "cell_type": "code",
   "execution_count": 3,
   "metadata": {},
   "outputs": [
    {
     "name": "stdout",
     "output_type": "stream",
     "text": [
      "[2, -1, 4, -3, 5, -7, 6, 8, 9]\n"
     ]
    }
   ],
   "source": [
    "def alternateElements(arr,n):\n",
    "    positive=[]\n",
    "    negative=[]\n",
    "    for i in range(len(arr)):\n",
    "        if arr[i]>0:\n",
    "            positive.append(arr[i])\n",
    "        else:\n",
    "            negative.append(arr[i])\n",
    "    # print(positive)\n",
    "    # print(negative)\n",
    "    p=len(positive)\n",
    "    n=len(negative)\n",
    "    k=0;i=0;j=0\n",
    "    while i<p and j<n:\n",
    "        arr[k]=positive[i]\n",
    "        k+=1\n",
    "        arr[k]=negative[j]\n",
    "        k+=1\n",
    "        i+=1\n",
    "        j+=1\n",
    "    while i<len(positive):\n",
    "        arr[k]=positive[i]\n",
    "        i+=1\n",
    "        k+=1\n",
    "    while j<len(negative):\n",
    "        arr[k]=negative[j]\n",
    "        j+=1\n",
    "        k+=1\n",
    "    print(arr)\n",
    "\n",
    "if __name__ == '__main__':\n",
    "    arr=[-1, 2, -3, 4, 5, 6, -7, 8, 9]\n",
    "    alternateElements(arr,len(arr))"
   ]
  },
  {
   "cell_type": "markdown",
   "metadata": {},
   "source": [
    "Swap the lines if negative values need to be fill in first"
   ]
  },
  {
   "cell_type": "markdown",
   "metadata": {},
   "source": [
    "<strong>Concept-</strong> Merge method of merge sort"
   ]
  },
  {
   "cell_type": "markdown",
   "metadata": {},
   "source": [
    "Time Complexity->O(n) and space Complexity-O(positive) + O(negative)"
   ]
  },
  {
   "cell_type": "code",
   "execution_count": 5,
   "metadata": {},
   "outputs": [
    {
     "name": "stdout",
     "output_type": "stream",
     "text": [
      "[4, -3, 5, -1, 6, -7, 2, 8, 9]\n"
     ]
    },
    {
     "data": {
      "text/plain": [
       "'\\n-ve elements first\\n# 0(n) time 0(1) extra space\\ndef arrangeAlternate(arr,n):\\n    i=-1\\n    for j in range(n):\\n        if arr[j]>0:\\n            i+=1\\n            arr[i],arr[j]=arr[j],arr[i]\\n    print(arr)\\n    neg=i+1\\n    pos=0\\n    while neg<n and pos<neg and arr[pos]>0:\\n        arr[pos],arr[neg]=arr[neg],arr[pos]\\n        neg+=1\\n        pos+=2\\n    print(arr)\\n\\narr=[1, 2, 3, -4, -1, 4,-9,-8,-6,-7,-5]\\nn=len(arr)\\narrangeAlternate(arr,n)\\n\\n'"
      ]
     },
     "execution_count": 5,
     "metadata": {},
     "output_type": "execute_result"
    }
   ],
   "source": [
    "def arrangeAlternate(arr,n):\n",
    "    #separating the positive and negative numbers using partition method of quick sort\n",
    "    i=-1\n",
    "    for j in range(n):\n",
    "        if arr[j]<0:\n",
    "            i+=1\n",
    "            arr[i],arr[j]=arr[j],arr[i]\n",
    "    pos=i+1\n",
    "    neg=0\n",
    "    #putting positive and negative numbers alternatively\n",
    "    while pos<n and neg<pos and arr[neg]<0:\n",
    "        arr[pos],arr[neg]=arr[neg],arr[pos]\n",
    "        pos+=1\n",
    "        neg+=2\n",
    "    print(arr)\n",
    "\n",
    "arr=[-1, 2, -3, 4, 5, 6, -7, 8, 9]\n",
    "n=len(arr)\n",
    "arrangeAlternate(arr,n)\n",
    "\n",
    "'''\n",
    "-ve elements first\n",
    "# 0(n) time 0(1) extra space\n",
    "def arrangeAlternate(arr,n):\n",
    "    i=-1\n",
    "    for j in range(n):\n",
    "        if arr[j]>0:\n",
    "            i+=1\n",
    "            arr[i],arr[j]=arr[j],arr[i]\n",
    "    print(arr)\n",
    "    neg=i+1\n",
    "    pos=0\n",
    "    while neg<n and pos<neg and arr[pos]>0:\n",
    "        arr[pos],arr[neg]=arr[neg],arr[pos]\n",
    "        neg+=1\n",
    "        pos+=2\n",
    "    print(arr)\n",
    "\n",
    "arr=[1, 2, 3, -4, -1, 4,-9,-8,-6,-7,-5]\n",
    "n=len(arr)\n",
    "arrangeAlternate(arr,n)\n",
    "\n",
    "'''"
   ]
  },
  {
   "cell_type": "markdown",
   "metadata": {},
   "source": [
    "Time Complexity - O(n) and space complexity -O(1), but order of elements is not maintained"
   ]
  },
  {
   "cell_type": "markdown",
   "metadata": {},
   "source": [
    "<strong>Concept</strong> - Segregate elements using the quick sort's partition method"
   ]
  },
  {
   "cell_type": "markdown",
   "metadata": {},
   "source": [
    "# Rearrange positive and negative numbers with constant extra space and RETAIN THE ORDER"
   ]
  },
  {
   "cell_type": "markdown",
   "metadata": {},
   "source": [
    "Previous approach where we used quick sort's partition method did not reatin the order of the elements."
   ]
  },
  {
   "cell_type": "markdown",
   "metadata": {},
   "source": [
    "Approach 1 -> Modified Insertion Sort to segregate the elements"
   ]
  },
  {
   "cell_type": "code",
   "execution_count": 8,
   "metadata": {},
   "outputs": [
    {
     "name": "stdout",
     "output_type": "stream",
     "text": [
      "[-13, -5, -7, -3, -6, 12, 11, 6, 5]\n"
     ]
    }
   ],
   "source": [
    "def segragateElements(arr,n):\n",
    "    for i in range(1,n):\n",
    "        if arr[i]>0:\n",
    "            continue\n",
    "        key=arr[i]\n",
    "        j=i-1\n",
    "        while j>=0 and arr[j]>0: #shift all the positive elements till right\n",
    "            arr[j+1]=arr[j]\n",
    "            j-=1\n",
    "        arr[j+1]=key #place the negative number\n",
    "    print(arr)\n",
    "\n",
    "if __name__ == '__main__':\n",
    "    arr=[12, 11, -13, -5, 6, -7, 5, -3, -6]\n",
    "    n=len(arr)\n",
    "    segragateElements(arr,n)\n"
   ]
  },
  {
   "cell_type": "markdown",
   "metadata": {},
   "source": [
    "<strong>Concept</strong>- Modified insertion sort"
   ]
  },
  {
   "cell_type": "markdown",
   "metadata": {},
   "source": [
    "Time complexity->O(n^2) and Space Complexity-O(1)"
   ]
  },
  {
   "cell_type": "markdown",
   "metadata": {},
   "source": [
    "Another Approach - Optimized Merge Sort method\n",
    "<br><br>\n",
    "Merge method of standard merge sort algorithm can be modified to solve this problem. While merging two sorted halves say left and right, we need to merge in such a way that negative part of left and right sub-array is copied first followed by positive part of left and right sub-array."
   ]
  },
  {
   "cell_type": "code",
   "execution_count": 1,
   "metadata": {},
   "outputs": [
    {
     "name": "stdout",
     "output_type": "stream",
     "text": [
      "[-12, -13, -5, -7, -3, -6, 11, 6, 5]\n"
     ]
    }
   ],
   "source": [
    "#Merge Sort Approach\n",
    "\n",
    "def merge(arr,left,right):\n",
    "    i,j,k=0,0,0\n",
    "    # print(left,right)\n",
    "    n1=len(left)\n",
    "    n2=len(right)\n",
    "    while i<n1 and left[i]<0:\n",
    "        arr[k]=left[i]\n",
    "        i+=1\n",
    "        k+=1\n",
    "    while j<n2 and right[j]<0:\n",
    "        arr[k]=right[j]\n",
    "        j+=1\n",
    "        k+=1\n",
    "    while i<n1:\n",
    "        arr[k]=left[i]\n",
    "        i+=1\n",
    "        k+=1\n",
    "    while j<n2:\n",
    "        arr[k]=right[j]\n",
    "        j+=1\n",
    "        k+=1\n",
    "\n",
    "def arrange(arr):\n",
    "\n",
    "    if len(arr)>1:\n",
    "        # print(arr)\n",
    "        mid=len(arr)//2\n",
    "        left=arr[:mid]\n",
    "        right=arr[mid:]\n",
    "        arrange(left)\n",
    "        arrange(right)\n",
    "        merge(arr,left,right)\n",
    "\n",
    "if __name__ == '__main__':\n",
    "    arr=[-12, 11, -13, -5, 6, -7, 5, -3, -6]\n",
    "    arrange(arr)\n",
    "    print(arr)\n"
   ]
  },
  {
   "cell_type": "markdown",
   "metadata": {},
   "source": [
    "<strong>Concept-</strong> Merge Sort Method"
   ]
  },
  {
   "cell_type": "markdown",
   "metadata": {},
   "source": [
    "Time Complexity - O(nlogn) Space Complexity -O(n)"
   ]
  },
  {
   "cell_type": "markdown",
   "metadata": {},
   "source": [
    "Another Approach -> Merge Sort without any space"
   ]
  },
  {
   "cell_type": "markdown",
   "metadata": {},
   "source": [
    "<strong>Concept-</strong> Reversal Rotation"
   ]
  },
  {
   "cell_type": "markdown",
   "metadata": {},
   "source": [
    "<pre>\n",
    "Let Ln and Lp denotes the negative part and positive part of left sub-array respectively. Similarly, Rn and Rp denotes the negative and positive part of right sub-array respectively.\n",
    "Below are the steps to convert [Ln Lp Rn Rp] to [Ln Rn Lp Rp] without using extra space.\n",
    "\n",
    "1. Reverse Lp and Rn. We get [Lp] -> [Lp'] and [Rn] -> [Rn'] \n",
    "    [Ln Lp Rn Rp] -> [Ln Lp’ Rn’ Rp]\n",
    "\n",
    "2. Reverse [Lp’ Rn’]. We get [Rn Lp].\n",
    "    [Ln Lp’ Rn’ Rp] -> [Ln Rn Lp Rp]\n",
    "</pre>    "
   ]
  },
  {
   "cell_type": "code",
   "execution_count": 3,
   "metadata": {},
   "outputs": [
    {
     "name": "stdout",
     "output_type": "stream",
     "text": [
      "[-12, -13, -5, -7, -3, -6, 11, 6, 5]\n"
     ]
    }
   ],
   "source": [
    "#Merge Sort Approach without any data structure\n",
    "\n",
    "def reverse(arr,start,end):\n",
    "    while start<end:\n",
    "        arr[start],arr[end]=arr[end],arr[start]\n",
    "        start+=1\n",
    "        end-=1\n",
    "\n",
    "def merge(arr,l,m,r):\n",
    "    i=l\n",
    "    j=m+1\n",
    "    while i<=m and arr[i]<0:\n",
    "        i+=1\n",
    "#     [i...m] is positive    \n",
    "    while j<=r and arr[j]<0:\n",
    "        j+=1\n",
    "#     [j...r] is positive    \n",
    "    reverse(arr,i,m)\n",
    "    reverse(arr,m+1,j-1)\n",
    "    reverse(arr,i,j-1)\n",
    "\n",
    "def arrange(arr,l,r):\n",
    "\n",
    "    if l<r:\n",
    "\n",
    "        mid=(l+r)//2\n",
    "        arrange(arr,l,mid)\n",
    "        arrange(arr,mid+1,r)\n",
    "        merge(arr,l,mid,r)\n",
    "\n",
    "if __name__ == '__main__':\n",
    "    arr=[-12, 11, -13, -5, 6, -7, 5, -3, -6]\n",
    "    arrange(arr,0,len(arr)-1)\n",
    "    print(arr)\n"
   ]
  },
  {
   "cell_type": "markdown",
   "metadata": {},
   "source": [
    "Time complexity - O(nlogn) and space complexity - O(logn) for function call stack(recursive calls). But no additional data structure used"
   ]
  },
  {
   "cell_type": "markdown",
   "metadata": {},
   "source": [
    "If extra space would have been allowed, then we could have created a temporary array, and copied all the positive numbers first, then the negative numbers and then copied the temp array into the original array"
   ]
  },
  {
   "cell_type": "markdown",
   "metadata": {},
   "source": [
    "Another Approach - (5) to do"
   ]
  },
  {
   "cell_type": "code",
   "execution_count": null,
   "metadata": {},
   "outputs": [],
   "source": []
  }
 ],
 "metadata": {
  "kernelspec": {
   "display_name": "Python 3",
   "language": "python",
   "name": "python3"
  },
  "language_info": {
   "codemirror_mode": {
    "name": "ipython",
    "version": 3
   },
   "file_extension": ".py",
   "mimetype": "text/x-python",
   "name": "python",
   "nbconvert_exporter": "python",
   "pygments_lexer": "ipython3",
   "version": "3.7.6"
  }
 },
 "nbformat": 4,
 "nbformat_minor": 4
}
