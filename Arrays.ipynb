{
 "cells": [
  {
   "cell_type": "markdown",
   "metadata": {},
   "source": [
    "# 1) Array Rotations"
   ]
  },
  {
   "cell_type": "markdown",
   "metadata": {},
   "source": [
    "# Rotate an array by d units"
   ]
  },
  {
   "cell_type": "markdown",
   "metadata": {},
   "source": [
    "Naive Approach-> Using Temporary array, store first d elements in temp array shift the array elements to the left and then store the d elements back"
   ]
  },
  {
   "cell_type": "code",
   "execution_count": 5,
   "metadata": {},
   "outputs": [
    {
     "name": "stdout",
     "output_type": "stream",
     "text": [
      "[1, 2, 3, 4, 5, 6, 7]\n",
      "[3, 4, 5, 6, 7, 1, 2]\n"
     ]
    }
   ],
   "source": [
    "def rotate(arr,d,n):\n",
    "    temp=[0]*d\n",
    "    for i in range(d):\n",
    "        temp[i]=arr[i] #Store\n",
    "    for i in range(d,n):\n",
    "        arr[i-d]=arr[i] #Shift\n",
    "    j=0\n",
    "    for i in range(n-d,n):\n",
    "        arr[i]=temp[j] #Put it in position\n",
    "        j+=1\n",
    "\n",
    "if __name__==\"__main__\":\n",
    "    arr=[1,2,3,4,5,6,7]\n",
    "    d=2\n",
    "    n=len(arr)\n",
    "    print(arr)\n",
    "    rotate(arr,d,n)\n",
    "    print(arr)\n",
    "        "
   ]
  },
  {
   "cell_type": "markdown",
   "metadata": {},
   "source": [
    "Time Complexity-O(n) and space-O(d)"
   ]
  },
  {
   "cell_type": "markdown",
   "metadata": {},
   "source": [
    "<strong>Another brute force solution is to rotate the elements one by one instead of storing the complete d elements at once, take one element, shift rest elements to the left/right and place the taken element at its correct position</strong>"
   ]
  },
  {
   "cell_type": "code",
   "execution_count": 6,
   "metadata": {},
   "outputs": [
    {
     "name": "stdout",
     "output_type": "stream",
     "text": [
      "[1, 2, 3, 4, 5, 6, 7]\n",
      "[3, 4, 5, 6, 7, 1, 2]\n"
     ]
    }
   ],
   "source": [
    "def rotate(arr,d,n):\n",
    "    for i in range(d):\n",
    "        rotateOneByOne(arr,n) #iterate d times\n",
    "\n",
    "def rotateOneByOne(arr,n):\n",
    "    temp=arr[0]   #store \n",
    "    for i in range(n-1):\n",
    "        arr[i]=arr[i+1] #shift\n",
    "    arr[n-1]=temp#put it in position\n",
    "\n",
    "if __name__==\"__main__\":\n",
    "    arr=[1,2,3,4,5,6,7]\n",
    "    d=2\n",
    "    n=len(arr)\n",
    "    print(arr)\n",
    "    rotate(arr,d,n)\n",
    "    print(arr)\n",
    "        "
   ]
  },
  {
   "cell_type": "markdown",
   "metadata": {},
   "source": [
    "Time Complexity-> O(n*d) O(n) time for shift and it happens for O(d) times"
   ]
  },
  {
   "cell_type": "markdown",
   "metadata": {},
   "source": [
    "Another Approach-> <strong>Juggling Algorithm </strong> (Instead of moving one by one,<strong> moving in sets) </strong>where number of sets is equal to GCD of n and d and move the elements within sets.\n",
    "If GCD is 1 as is for the above example array (n = 7 and d =2), then elements will be moved within one set only, we just start with temp = arr[0] and keep moving arr[I+d] to arr[I] and finally store temp at the right place."
   ]
  },
  {
   "cell_type": "code",
   "execution_count": 4,
   "metadata": {},
   "outputs": [
    {
     "name": "stdout",
     "output_type": "stream",
     "text": [
      "[1, 2, 3, 4, 5, 6, 7, 8, 9, 10, 11, 12]\n",
      "[4, 5, 6, 7, 8, 9, 10, 11, 12, 1, 2, 3]\n"
     ]
    }
   ],
   "source": [
    "from math import gcd\n",
    "def rotate(arr,d,n):\n",
    "    g_c_d=gcd(d,n) #no of sets equal to gcd\n",
    "    for i in range(g_c_d):\n",
    "        temp=arr[i] #store the first element\n",
    "        j=i #starting position of the current set\n",
    "        while True:\n",
    "            k=j+d #taking out the next element of the set; one by one take the elements from all sets and move them to correct position\n",
    "            if k>=n:\n",
    "                k=k-n \n",
    "            if k==i:\n",
    "                break #position for the stored element\n",
    "            arr[j]=arr[k]\n",
    "            j=k # move the pointer to the next element of the set\n",
    "        arr[j]=temp\n",
    "\n",
    "if __name__==\"__main__\":\n",
    "    arr=[1,2,3,4,5,6,7,8,9,10,11,12]\n",
    "    d=3\n",
    "    n=len(arr)\n",
    "    print(arr)\n",
    "    rotate(arr,d,n)\n",
    "    print(arr)\n"
   ]
  },
  {
   "cell_type": "markdown",
   "metadata": {},
   "source": [
    "Time Complexity - O(n) and space - O(1)"
   ]
  },
  {
   "cell_type": "markdown",
   "metadata": {},
   "source": [
    "# Reversal algorithm for array rotation"
   ]
  },
  {
   "cell_type": "markdown",
   "metadata": {},
   "source": [
    "<pre>\n",
    "Let AB are the two parts of the input array where A = arr[0..d-1] and B = arr[d..n-1]. The idea of the algorithm is :\n",
    "\n",
    "Reverse A to get ArB, where Ar is reverse of A.\n",
    "Reverse B to get ArBr, where Br is reverse of B.\n",
    "Reverse all to get (ArBr) r = BA.\n",
    "Example :\n",
    "Let the array be arr[] = [1, 2, 3, 4, 5, 6, 7], d =2 and n = 7\n",
    "A = [1, 2] and B = [3, 4, 5, 6, 7]\n",
    "\n",
    "Reverse A, we get ArB = [2, 1, 3, 4, 5, 6, 7]\n",
    "Reverse B, we get ArBr = [2, 1, 7, 6, 5, 4, 3]\n",
    "Reverse all, we get (ArBr)r = [3, 4, 5, 6, 7, 1, 2]\n",
    "</pre>"
   ]
  },
  {
   "cell_type": "code",
   "execution_count": 9,
   "metadata": {},
   "outputs": [
    {
     "name": "stdout",
     "output_type": "stream",
     "text": [
      "array('i', [3, 4, 5, 6, 7, 1, 2])\n"
     ]
    }
   ],
   "source": [
    "import array\n",
    "\n",
    "def reverseArray(arr,start,end):\n",
    "    while start<end:\n",
    "        arr[start],arr[end]=arr[end],arr[start] #2 pointers\n",
    "        start+=1\n",
    "        end-=1\n",
    "\n",
    "\n",
    "def rotate(arr,n,d):\n",
    "\n",
    "    reverseArray(arr,0,d-1)\n",
    "    reverseArray(arr,d,n-1)\n",
    "    arr.reverse()\n",
    "\n",
    "\n",
    "\n",
    "arr=array.array('i',[1,2,3,4,5,6,7])\n",
    "rotate(arr,7,2)\n",
    "print(arr)\n"
   ]
  },
  {
   "cell_type": "markdown",
   "metadata": {},
   "source": [
    "<strong>Concept- 2 pointers to reverse the array</strong>"
   ]
  },
  {
   "cell_type": "markdown",
   "metadata": {},
   "source": [
    "Time Complexity - O(n) space-O(1)"
   ]
  },
  {
   "cell_type": "markdown",
   "metadata": {},
   "source": [
    "# Block swap algorithm for array rotation"
   ]
  },
  {
   "cell_type": "markdown",
   "metadata": {},
   "source": [
    "<pre>\n",
    "Initialize A = arr[0..d-1] and B = arr[d..n-1]\n",
    "1) Do following until size of A is equal to size of B\n",
    "\n",
    "  a)  If A is shorter, divide B into Bl and Br such that Br is of same \n",
    "       length as A. Swap A and Br to change ABlBr into BrBlA. Now A\n",
    "       is at its final place, so recur on pieces of B.  \n",
    "\n",
    "   b)  If A is longer, divide A into Al and Ar such that Al is of same \n",
    "       length as B Swap Al and B to change AlArB into BArAl. Now B\n",
    "       is at its final place, so recur on pieces of A.\n",
    "\n",
    "2)  Finally when A and B are of equal size, block swap them.\n",
    "</pre>"
   ]
  },
  {
   "cell_type": "code",
   "execution_count": 19,
   "metadata": {},
   "outputs": [
    {
     "name": "stdout",
     "output_type": "stream",
     "text": [
      "[1, 2, 3, 4, 5, 6, 7]\n",
      "[6, 7, 3, 4, 5, 1, 2]\n",
      "[4, 5, 3, 6, 7, 1, 2]\n",
      "[3, 5, 4, 6, 7, 1, 2]\n",
      "[3, 4, 5, 6, 7, 1, 2]\n"
     ]
    }
   ],
   "source": [
    "def swap(arr,start,end,n):\n",
    "    count=0\n",
    "    while count<n:\n",
    "        arr[start],arr[end]=arr[end],arr[start]\n",
    "        start+=1\n",
    "        end+=1\n",
    "        count+=1\n",
    "\n",
    "def rotate(arr,d,n):\n",
    "    i=d\n",
    "    j=n-d\n",
    "    while i!=j:\n",
    "        if i<j:\n",
    "            swap(arr,d-i,d+j-i,i)\n",
    "            j-=i\n",
    "        elif j<i:\n",
    "            swap(arr,d-i,d,j)\n",
    "            i-=j\n",
    "        print(arr)\n",
    "    swap(arr,d-i,d,i)\n",
    "\n",
    "if __name__ == \"__main__\":\n",
    "    arr=[1,2,3,4,5,6,7]\n",
    "    d=2\n",
    "    n=len(arr)\n",
    "    print(arr)\n",
    "    rotate(arr,d,n)\n",
    "    print(arr)"
   ]
  },
  {
   "cell_type": "markdown",
   "metadata": {},
   "source": [
    "Time Complexity-O(n)"
   ]
  },
  {
   "cell_type": "markdown",
   "metadata": {},
   "source": [
    "# Find Element in sorted and rotated array"
   ]
  },
  {
   "cell_type": "markdown",
   "metadata": {},
   "source": [
    "Brute force approach will be to search element one by one. Time Cmoplexity O(n)"
   ]
  },
  {
   "cell_type": "markdown",
   "metadata": {},
   "source": [
    "Find pivot of the array (pivot element is the element in the array for which the next element is smaller that it).\n",
    "\n",
    "NOTE- We always find the greatest element as the pivot"
   ]
  },
  {
   "cell_type": "code",
   "execution_count": 1,
   "metadata": {},
   "outputs": [
    {
     "name": "stdout",
     "output_type": "stream",
     "text": [
      "8\n"
     ]
    }
   ],
   "source": [
    "def findPivot(arr,low,high):\n",
    "    if low>high: #array not at all rotated\n",
    "        return -1\n",
    "    if low==high:\n",
    "        return low\n",
    "    mid=(low+high)//2\n",
    "    if (mid>low and arr[mid]<arr[mid-1]):\n",
    "        return mid-1\n",
    "    if (mid<high and arr[mid+1]<arr[mid]):\n",
    "        return mid\n",
    "    if arr[low]<arr[mid]:\n",
    "        return findPivot(arr,mid+1,high)\n",
    "    return findPivot(arr,low,mid-1)\n",
    "\n",
    "def searchElement(arr,key):\n",
    "    pivot=findPivot(arr,0,len(arr)-1)\n",
    "    # print(pivot)\n",
    "    if pivot==-1: #array not at all rotated\n",
    "        return binarySearch(arr,0,len(arr)-1,key)\n",
    "    if arr[pivot]==key:\n",
    "        return pivot\n",
    "    # compare key with the pivot element (ie the largest element)\n",
    "    if key>=arr[0] and key<=arr[pivot]:\n",
    "        return binarySearch(arr,0,pivot,key)\n",
    "    return binarySearch(arr,pivot+1,len(arr)-1,key)\n",
    "\n",
    "def binarySearch(arr,low,high,key):\n",
    "    if low>high:\n",
    "        return -1\n",
    "    mid=(low+high)//2\n",
    "    if key==arr[mid]:\n",
    "        return mid\n",
    "    if key<arr[mid]:\n",
    "        return binarySearch(arr,low,mid-1,key)\n",
    "    return binarySearch(arr,mid+1,high,key)\n",
    "\n",
    "if __name__ == '__main__':\n",
    "    arr=[5, 6, 7, 8, 9, 10, 1, 2, 3]\n",
    "    key=3\n",
    "    result=searchElement(arr,key)\n",
    "    print(result)"
   ]
  },
  {
   "cell_type": "markdown",
   "metadata": {},
   "source": [
    "<pre>\n",
    "We can search an element in one pass of Binary Search. The idea is to search\n",
    "\n",
    "1) Find middle point mid = (l + h)/2\n",
    "2) If key is present at middle point, return mid.\n",
    "3) Else If arr[l..mid] is sorted\n",
    "    a) If key to be searched lies in range from arr[l]\n",
    "       to arr[mid], recur for arr[l..mid].\n",
    "    b) Else recur for arr[mid+1..h]\n",
    "4) Else (arr[mid+1..h] must be sorted)\n",
    "    a) If key to be searched lies in range from arr[mid+1]\n",
    "       to arr[h], recur for arr[mid+1..h].\n",
    "    b) Else recur for arr[l..mid]\n",
    "</pre>"
   ]
  },
  {
   "cell_type": "code",
   "execution_count": 4,
   "metadata": {},
   "outputs": [
    {
     "name": "stdout",
     "output_type": "stream",
     "text": [
      "9\n"
     ]
    }
   ],
   "source": [
    "def pivotedBinarySearch(arr,low,high,key):\n",
    "    if low>high:\n",
    "        return -1\n",
    "    mid=(low+high)//2\n",
    "    if arr[mid]==key:\n",
    "        return mid\n",
    "    # if isSorted(arr,low,mid-1):\n",
    "    if arr[low]<=arr[mid]:#isSorted\n",
    "        if key>=arr[low] and key<=arr[mid]:\n",
    "            return pivotedBinarySearch(arr,low,mid-1,key)\n",
    "        else:\n",
    "            return pivotedBinarySearch(arr,mid+1,high,key)\n",
    "    else:\n",
    "        if key>=arr[mid] and key<=arr[high]:\n",
    "            return pivotedBinarySearch(arr,mid+1,high,key)\n",
    "        else:\n",
    "            return pivotedBinarySearch(arr,low,mid-1,key)\n",
    "\n",
    "def isSorted(arr,low,high):\n",
    "    while low<high:\n",
    "        if arr[low]>arr[low+1]:\n",
    "            return False\n",
    "        low+=1\n",
    "    return True\n",
    "\n",
    "if __name__ == '__main__':\n",
    "    arr=[30,40,50,60,70,90,100,110,10,20]\n",
    "    result=pivotedBinarySearch(arr,0,len(arr)-1,20)\n",
    "    print(result)\n"
   ]
  },
  {
   "cell_type": "markdown",
   "metadata": {},
   "source": [
    "Duplicates-> It does not seem possible to decide whether to recur for left subtree or right subtree"
   ]
  },
  {
   "cell_type": "markdown",
   "metadata": {},
   "source": [
    "# Given a sorted and rotated array, find if there is a pair with a given sum"
   ]
  },
  {
   "cell_type": "markdown",
   "metadata": {},
   "source": [
    "Approach1-> Find the pivot element, mark it as end, start will be end+1. Then use 2 pointer approach modular wise, to see if the pair is present or not"
   ]
  },
  {
   "cell_type": "code",
   "execution_count": 2,
   "metadata": {},
   "outputs": [
    {
     "name": "stdout",
     "output_type": "stream",
     "text": [
      "True\n"
     ]
    }
   ],
   "source": [
    "def findPivot(arr,low,high):\n",
    "    if low>high:\n",
    "        return -1\n",
    "    mid=(low+high)//2\n",
    "    if mid>low and arr[mid-1]>arr[mid]:\n",
    "        return mid-1\n",
    "    if mid<high and arr[mid]>arr[mid+1]:\n",
    "        return mid\n",
    "    if arr[low]<arr[high]:\n",
    "        return findPivot(arr,mid+1,high)\n",
    "    return findPivot(arr,low,mid-1)\n",
    "\n",
    "def findIfSumExists(arr,ele):\n",
    "    n=len(arr)\n",
    "    pivot=findPivot(arr,0,len(arr)-1)\n",
    "    start=pivot+1\n",
    "    end=pivot\n",
    "    while start!=end:\n",
    "        if arr[start]+arr[end]==ele:\n",
    "            return True\n",
    "        elif arr[start]+arr[end]<ele:\n",
    "            start=(start+1)%n\n",
    "        else:\n",
    "            end=(end-1+n)%n\n",
    "\n",
    "if __name__ == '__main__':\n",
    "    arr=[11,15,6,8,9,10]\n",
    "    ele=16\n",
    "    print(findIfSumExists(arr,ele))"
   ]
  },
  {
   "cell_type": "markdown",
   "metadata": {},
   "source": [
    "Time Complexity (n)"
   ]
  },
  {
   "cell_type": "markdown",
   "metadata": {},
   "source": [
    "<strong>Concept</strong>\n",
    "Another approach can be to use Hashing. iterate through the array, check if sum-ele is present in hash or not, if yes then  return true, if not then add ele in the hash"
   ]
  },
  {
   "cell_type": "markdown",
   "metadata": {},
   "source": [
    "Another approach can be to sort the array and use 2 pointer approach. Time-O(nlogn)"
   ]
  },
  {
   "cell_type": "markdown",
   "metadata": {},
   "source": [
    "**Till when to iterate while counting the number of times sum exists-> till start!=end or start!=end-1**"
   ]
  },
  {
   "cell_type": "markdown",
   "metadata": {},
   "source": [
    "# Find maximum value of Sum( i*arr[i]) with only rotations on given array allowed"
   ]
  },
  {
   "cell_type": "markdown",
   "metadata": {},
   "source": [
    "Simple solution is to check all the possible rotations, O(n^2)"
   ]
  },
  {
   "cell_type": "markdown",
   "metadata": {},
   "source": [
    "Efficient Solution->"
   ]
  },
  {
   "cell_type": "markdown",
   "metadata": {},
   "source": [
    "Let Rj be value of i*arr[i] with j rotations. The idea is to calculate next rotation value from previous rotation, i.e., calculate Rj from Rj-1. We can calculate initial value of result as R0, then keep calculating next rotation values."
   ]
  },
  {
   "cell_type": "markdown",
   "metadata": {},
   "source": [
    "<strong>CONCEPT</strong>\n",
    "<pre>\n",
    "Let us calculate initial value of i*arr[i] with no rotation\n",
    "R0 = 0*arr[0] + 1*arr[1] +...+ (n-1)*arr[n-1]\n",
    "\n",
    "After 1 rotation arr[n-1], becomes first element of array, \n",
    "arr[0] becomes second element, arr[1] becomes third element\n",
    "and so on.\n",
    "R1 = 0*arr[n-1] + 1*arr[0] +...+ (n-1)*arr[n-2]\n",
    "\n",
    "R1 - R0 = arr[0] + arr[1] + ... + arr[n-2] - (n-1)*arr[n-1]\n",
    "\n",
    "After 2 rotations arr[n-2], becomes first element of array, \n",
    "arr[n-1] becomes second element, arr[0] becomes third element\n",
    "and so on.\n",
    "R2 = 0*arr[n-2] + 1*arr[n-1] +...+ (n-1)*arr[n-3]\n",
    "\n",
    "R2 - R1 = arr[0] + arr[1] + ... + arr[n-3] - (n-1)*arr[n-2] + arr[n-1]\n",
    "\n",
    "If we take a closer look at above values, we can observe \n",
    "below pattern\n",
    "\n",
    "Rj - Rj-1 = arrSum - n * arr[n-j]\n",
    "</pre>"
   ]
  },
  {
   "cell_type": "code",
   "execution_count": 7,
   "metadata": {},
   "outputs": [
    {
     "name": "stdout",
     "output_type": "stream",
     "text": [
      "330 9\n"
     ]
    }
   ],
   "source": [
    "def maxValSum(arr,n):\n",
    "    total=sum(arr)\n",
    "    currVal=0\n",
    "    for i in range(n):\n",
    "        currVal+=i*arr[i]\n",
    "    maxVal=currVal\n",
    "    rCount=0\n",
    "    for i in range(1,n):\n",
    "        currVal=currVal+total-n*arr[n-i]\n",
    "        if currVal>maxVal:\n",
    "            maxVal=currVal\n",
    "            rCount=i\n",
    "    print(maxVal,rCount)\n",
    "\n",
    "if __name__ == '__main__':\n",
    "    arr=[10, 1, 2, 3, 4, 5, 6, 7, 8, 9]\n",
    "    n=len(arr)\n",
    "    maxValSum(arr,len(arr))\n"
   ]
  },
  {
   "cell_type": "markdown",
   "metadata": {},
   "source": [
    "Time Complexity - O(n)\n",
    "Space-O(1)"
   ]
  },
  {
   "cell_type": "markdown",
   "metadata": {},
   "source": [
    "# Find the Rotation Count in Rotated Sorted array"
   ]
  },
  {
   "cell_type": "markdown",
   "metadata": {},
   "source": [
    "Rotation count is nothing but the index of the minimum element "
   ]
  },
  {
   "cell_type": "markdown",
   "metadata": {},
   "source": [
    "Use Binary Search for logn solution and linear search for n solution"
   ]
  },
  {
   "cell_type": "markdown",
   "metadata": {},
   "source": [
    "# Quickly find multiple left rotations of an array"
   ]
  },
  {
   "cell_type": "markdown",
   "metadata": {},
   "source": [
    "<strong>CONCEPT-Doubled size array</strong>\n",
    "\n",
    "<pre>\n",
    "The techniques discussed earlier make modifications to the array. \n",
    "\n",
    "To handle multiple queries of array rotation, we use a temp array of size 2n and quickly handle rotations.\n",
    "\n",
    "Step 1 : Copy the entire array two times in temp[0..2n-1] array.\n",
    "Step 2 : Starting position of array after k rotations in temp[] will be k % n. We do k\n",
    "Step 3 : Print temp[] array from k % n to k % n + n.\n",
    "</pre>"
   ]
  },
  {
   "cell_type": "code",
   "execution_count": 8,
   "metadata": {},
   "outputs": [
    {
     "name": "stdout",
     "output_type": "stream",
     "text": [
      "5 7 9 1 3 "
     ]
    }
   ],
   "source": [
    "def preprocessArray(arr,temp,n):\n",
    "    for i in range(n):\n",
    "        temp[i]=arr[i]\n",
    "        temp[i+n]=arr[i]\n",
    "\n",
    "def rotate(arr,n,k):\n",
    "    temp=[0]*(2*n)\n",
    "    preprocessArray(arr,temp,n)\n",
    "    # print(temp)\n",
    "    # start=(n-k)%n#right rotate\n",
    "    start=k%n#left rotate\n",
    "    for i in range(start,start+n):\n",
    "        print(temp[i],end=\" \")\n",
    "\n",
    "if __name__ == '__main__':\n",
    "    arr=[1, 3, 5, 7, 9]\n",
    "    rotate(arr,len(arr),2)\n"
   ]
  },
  {
   "cell_type": "markdown",
   "metadata": {},
   "source": [
    "Time Complexity - O(n) and Space Complexity O(2n)"
   ]
  },
  {
   "cell_type": "markdown",
   "metadata": {},
   "source": [
    "Space Efficient Solution-> Use modular arithmetic"
   ]
  },
  {
   "cell_type": "code",
   "execution_count": 10,
   "metadata": {},
   "outputs": [
    {
     "name": "stdout",
     "output_type": "stream",
     "text": [
      "7 9 1 3 5 "
     ]
    }
   ],
   "source": [
    "def rotate(arr,n,k):\n",
    "    for i in range(k,k+n):\n",
    "        print(arr[i%n],end=\" \")\n",
    "\n",
    "if __name__ == '__main__':\n",
    "    arr=[1, 3, 5, 7, 9]\n",
    "    rotate(arr,len(arr),3)\n"
   ]
  },
  {
   "cell_type": "markdown",
   "metadata": {},
   "source": [
    "# Find the minimum element in a sorted and rotated array"
   ]
  },
  {
   "cell_type": "markdown",
   "metadata": {},
   "source": [
    "Binary Search, find pivot, pivotindex+1 is the min element"
   ]
  },
  {
   "cell_type": "markdown",
   "metadata": {},
   "source": [
    "# Reversal algorithm for right rotation of an array"
   ]
  },
  {
   "cell_type": "code",
   "execution_count": 3,
   "metadata": {},
   "outputs": [
    {
     "name": "stdout",
     "output_type": "stream",
     "text": [
      "[8, 9, 10, 1, 2, 3, 4, 5, 6, 7]\n"
     ]
    }
   ],
   "source": [
    "def reverse(arr,start,end):\n",
    "    while start<end:\n",
    "        arr[start],arr[end]=arr[end],arr[start]\n",
    "        start+=1\n",
    "        end-=1\n",
    "\n",
    "def rotateRight(arr,n,k):\n",
    "    reverse(arr,n-k,n-1)\n",
    "    reverse(arr,0,n-k-1)\n",
    "    reverse(arr,0,n-1)\n",
    "\n",
    "if __name__ == '__main__':\n",
    "    arr=[1,2,3,4,5,6,7,8,9,10]\n",
    "    k=3\n",
    "    rotateRight(arr,len(arr),k)\n",
    "    print(arr)\n"
   ]
  },
  {
   "cell_type": "markdown",
   "metadata": {},
   "source": [
    "Time Complexity O(n) and Space Complexity O(1)"
   ]
  },
  {
   "cell_type": "markdown",
   "metadata": {},
   "source": [
    "# Find a rotation with maximum hamming distance"
   ]
  },
  {
   "cell_type": "markdown",
   "metadata": {},
   "source": [
    "Hamming distance between two arrays or strings of equal length is the number of positions at which the corresponding character(elements) are different."
   ]
  },
  {
   "cell_type": "code",
   "execution_count": 12,
   "metadata": {},
   "outputs": [
    {
     "name": "stdout",
     "output_type": "stream",
     "text": [
      "4\n"
     ]
    }
   ],
   "source": [
    "def preprocessArray(arr,temp,n):\n",
    "    for i in range(n):\n",
    "        temp[i]=arr[i]\n",
    "        temp[i+n]=arr[i]\n",
    "\n",
    "def maxHammingDistance(arr,n):\n",
    "    temp=[0]*(2*n)\n",
    "    preprocessArray(arr,temp,n)\n",
    "    result=0\n",
    "    for i in range(1,n):\n",
    "        k=0\n",
    "        hamDistance=0\n",
    "        for j in range(i,i+n):\n",
    "            if arr[j%n]!=arr[k]:\n",
    "                hamDistance+=1\n",
    "            k+=1\n",
    "        result=max(result,hamDistance)\n",
    "    return hamDistance\n",
    "\n",
    "if __name__ == '__main__':\n",
    "    arr=[2,4,8,0]\n",
    "    n=len(arr)\n",
    "    print(maxHammingDistance(arr,n))\n"
   ]
  },
  {
   "cell_type": "markdown",
   "metadata": {},
   "source": [
    "<strong>Concept-</strong> Doubled size array, check for each rotation the hamming distance"
   ]
  },
  {
   "cell_type": "markdown",
   "metadata": {},
   "source": [
    "Time Complexity - O(n*n)"
   ]
  },
  {
   "cell_type": "markdown",
   "metadata": {},
   "source": [
    "# Queries on Left and Right Circular shift on array"
   ]
  },
  {
   "cell_type": "markdown",
   "metadata": {},
   "source": [
    "<strong>Concept</strong> -> <strong>Prefix Sum</strong> - A quick way to deal with mutliple queries requiring the sum of elements between 2 indices"
   ]
  },
  {
   "cell_type": "markdown",
   "metadata": {},
   "source": [
    "We can evaluate the prefix sum of all elements in the array, prefixsum[i] will denote the sum of all the integers upto ith index.\n",
    "Now, if we want to find sum of elements between two indexes i.e l and r, we compute it in constant time by just calculating <strong>prefixsum[r] – prefixsum[l – 1]</strong> ."
   ]
  },
  {
   "cell_type": "markdown",
   "metadata": {},
   "source": [
    "<pre>\n",
    "Given an array A of N integers. There are three type of type of commands:\n",
    "\n",
    "1 x : Right Circular Shift the array x times. If an array is a[0], a[1], …., a[n – 1], then after one right circular shift the array will become a[n – 1], a[0], a[1], …., a[n – 2].\n",
    "2 y : Left Circular Shift the array y times. If an array is a[0], a[1], …., a[n – 1], then after one right circular shift the array will become a[1], …., a[n – 2], a[n – 1], a[0].\n",
    "3 l r : Print the sum of all integers in the subarray a[l…r] (l and r inclusive).\n",
    "</pre>    "
   ]
  },
  {
   "cell_type": "markdown",
   "metadata": {},
   "source": [
    "<pre>\n",
    "For rotations, if we are rotating the array for every query, that will be highly inefficient.\n",
    "We just need to track the net rotation. If the tracked number is negative, it means left rotation has domainated else right rotation has dominated. When we are tracking the net rotations, we need to do mod n. As after every n rotation, array will return to its original state.\n",
    "We need to observe it in such a way that every time we rotate the array, only its indexes are changing.\n",
    "If we need to answer any query of third type and we have l and r. We need to find what l and r were in the original order. We can easily find it out by adding the net rotations to the index and taking mod n.\n",
    "</pre>"
   ]
  },
  {
   "cell_type": "code",
   "execution_count": 2,
   "metadata": {},
   "outputs": [
    {
     "name": "stdout",
     "output_type": "stream",
     "text": [
      "12\n",
      "11\n"
     ]
    }
   ],
   "source": [
    "def query1(netRotation,times,n):\n",
    "    netRotation[0]=(netRotation[0]+times)%n #right rotation\n",
    "\n",
    "def query2(netRotation,times,n):\n",
    "    netRotation[0]=(netRotation[0]-times)%n #left rotation\n",
    "\n",
    "def query3(netRotation,prefixSum,l,r,n):\n",
    "    l=(l-netRotation[0]+n)%n\n",
    "    r=(r-netRotation[0]+n)%n\n",
    "    if l<=r:\n",
    "        print(prefixSum[r]-prefixSum[l-1])\n",
    "    else:\n",
    "        print(prefixSum[r]+prefixSum[n-1]-prefixSum[l-1])\n",
    "\n",
    "def query(arr,n):\n",
    "    prefixSum=[0]*n\n",
    "    prefixSum[0]=arr[0]\n",
    "    for i in range(1,n):\n",
    "        prefixSum[i]=prefixSum[i-1]+arr[i]\n",
    "    netRotation=[0]\n",
    "    query1(netRotation,3,n)\n",
    "    query3(netRotation,prefixSum,0,2,n)\n",
    "    query2(netRotation,1,n)\n",
    "    query3(netRotation,prefixSum,1,4,n)\n",
    "\n",
    "\n",
    "if __name__ == '__main__':\n",
    "    arr=[1,2,3,4,5]\n",
    "    query(arr,len(arr))\n"
   ]
  },
  {
   "cell_type": "markdown",
   "metadata": {},
   "source": [
    "<strong>Concept</strong>- Keep track of net rotations"
   ]
  },
  {
   "cell_type": "markdown",
   "metadata": {},
   "source": [
    "Every query is handled in constant time"
   ]
  },
  {
   "cell_type": "markdown",
   "metadata": {},
   "source": [
    "# Print left rotation of array in O(n) time and O(1) space"
   ]
  },
  {
   "cell_type": "markdown",
   "metadata": {},
   "source": [
    "Same as Quickly find multiple left rotations of an array"
   ]
  },
  {
   "cell_type": "markdown",
   "metadata": {},
   "source": [
    "Use modular arithmetic because we cannot use double sized array since we need to solve in constant space"
   ]
  },
  {
   "cell_type": "code",
   "execution_count": 3,
   "metadata": {},
   "outputs": [
    {
     "name": "stdout",
     "output_type": "stream",
     "text": [
      "3 5 7 9 1 "
     ]
    }
   ],
   "source": [
    "def rotate(arr,k,n):\n",
    "    for i in range(k,k+n):\n",
    "        print(arr[i%n],end=\" \")\n",
    "\n",
    "if __name__ == '__main__':\n",
    "    arr=[1,3,5,7,9]\n",
    "    k=1\n",
    "    k=3\n",
    "    k=4\n",
    "    k=6\n",
    "    rotate(arr,k,len(arr))\n"
   ]
  },
  {
   "cell_type": "markdown",
   "metadata": {},
   "source": [
    "# Split the array and add the first part to the end"
   ]
  },
  {
   "cell_type": "markdown",
   "metadata": {},
   "source": [
    "Rotate the array k times"
   ]
  },
  {
   "cell_type": "markdown",
   "metadata": {},
   "source": [
    "# Find element at given index after a number of rotations"
   ]
  },
  {
   "cell_type": "markdown",
   "metadata": {},
   "source": [
    "<pre>\n",
    "We can do offline processing after saving all ranges.\n",
    "Suppose, our rotate ranges are : [0..2] and [0..3]\n",
    "We run through these ranges from reverse.\n",
    "\n",
    "\n",
    "\n",
    "\n",
    "After range [0..3], index 0 will have the element which was on index 3.\n",
    "So, we can change 0 to 3, i.e. if index = left, index will be changed to right.\n",
    "After range [0..2], index 3 will remain unaffected.\n",
    "\n",
    "So, we can make 3 cases :\n",
    "If index = left, index will be changed to right.\n",
    "If index is not bounds by the range, no effect of rotation.\n",
    "If index is in bounds, index will have the element at index-1.\n",
    "</pre>"
   ]
  },
  {
   "cell_type": "code",
   "execution_count": 4,
   "metadata": {},
   "outputs": [
    {
     "name": "stdout",
     "output_type": "stream",
     "text": [
      "3\n"
     ]
    }
   ],
   "source": [
    "def getElementAtIndex(arr,ranges,index):\n",
    "    for i in range(len(ranges)-1,-1,-1):\n",
    "        l=ranges[i][0]\n",
    "        r=ranges[i][1]\n",
    "        if l<=index and r>=index: #if index lies in the range\n",
    "            if index==l: #if index is the left most index in the current array then it is the rightmost index in th previous rotation\n",
    "                index=r\n",
    "            else:\n",
    "                index-=1\n",
    "    return arr[index]\n",
    "\n",
    "if __name__ == '__main__':\n",
    "    arr=[1,2,3,4,5]\n",
    "    ranges=[[0,2],[0,3]]\n",
    "    rotations=2\n",
    "    index=1\n",
    "    print(getElementAtIndex(arr,ranges,index))\n"
   ]
  },
  {
   "cell_type": "markdown",
   "metadata": {},
   "source": [
    "<pre>\n",
    "10 20 30 40 50\n",
    "Index: 1\n",
    "Rotations: {0,2} {1,4} {0,3}\n",
    "Answer: Index 1 will have 30 after all the 3 rotations in the order {0,2} {1,4} {0,3}.\n",
    "\n",
    "We performed {0,2} on A and now we have a new array A1.\n",
    "We performed {1,4} on A1 and now we have a new array A2.\n",
    "We performed {0,3} on A2 and now we have a new array A3.\n",
    "Now we are looking for the value at index 1 in A3.\n",
    "But A3 is {0,3} done on A2.\n",
    "So index 1 in A3 is index 0 in A2.\n",
    "But A2 is {1,4} done on A1.\n",
    "So index 0 in A2 is also index 0 in A1 as it does not lie in the range {1,4}.\n",
    "But A1 is {0,2} done on A.\n",
    "So index 0 in A1 is index 2 in A.\n",
    "\n",
    "On observing it, we are going deeper into the previous rotations staring from the latest rotation.\n",
    "{0,3}\n",
    "|\n",
    "{1,4}\n",
    "|\n",
    "{0,2}\n",
    "\n",
    "This is the reason we are processing the rotations in reverse order\n",
    "</pre>"
   ]
  },
  {
   "cell_type": "markdown",
   "metadata": {},
   "source": [
    "# 2) Array Rearrangement"
   ]
  },
  {
   "cell_type": "markdown",
   "metadata": {},
   "source": [
    "# Write a program to reverse an array or string"
   ]
  },
  {
   "cell_type": "code",
   "execution_count": 1,
   "metadata": {},
   "outputs": [
    {
     "name": "stdout",
     "output_type": "stream",
     "text": [
      "[5, 4, 3, 2, 1]\n"
     ]
    }
   ],
   "source": [
    "# def reverseArray(arr):\n",
    "#     start=0\n",
    "#     end=len(arr)-1\n",
    "#     while start<end:\n",
    "#         arr[start],arr[end]=arr[end],arr[start]\n",
    "#         start+=1\n",
    "#         end-=1\n",
    "\n",
    "def reverseArray(arr,start,end):\n",
    "    if start>=end:\n",
    "        return\n",
    "    arr[start],arr[end]=arr[end],arr[start]\n",
    "    reverseArray(arr,start+1,end-1)\n",
    "\n",
    "if __name__ == '__main__':\n",
    "    arr=[1, 2, 3, 4, 5]\n",
    "    reverseArray(arr,0,len(arr)-1)\n",
    "    print(arr)\n"
   ]
  },
  {
   "cell_type": "markdown",
   "metadata": {},
   "source": [
    "Concept- 2 pointer approach"
   ]
  },
  {
   "cell_type": "markdown",
   "metadata": {},
   "source": [
    "Time Complexity - O(n)"
   ]
  },
  {
   "cell_type": "markdown",
   "metadata": {},
   "source": [
    "# Rearrange an array such that arr[i] = i"
   ]
  },
  {
   "cell_type": "markdown",
   "metadata": {},
   "source": [
    "Given an array of elements of length N, ranging from 0 to N – 1. All elements may not be present in the array. If element is not present then there will be -1 present in the array. Rearrange the array such that A[i] = i and if i is not present, display -1 at that place"
   ]
  },
  {
   "cell_type": "markdown",
   "metadata": {},
   "source": [
    "Naive solution is to take one ele at a time and put this element to its correct position. Time Compleity O(n*n)"
   ]
  },
  {
   "cell_type": "code",
   "execution_count": 5,
   "metadata": {},
   "outputs": [
    {
     "name": "stdout",
     "output_type": "stream",
     "text": [
      "[-1, -1, 6, 1, 9, 3, 2, -1, 4, -1]\n",
      "[-1, 1, 2, 3, 4, -1, 6, -1, -1, 9]\n"
     ]
    }
   ],
   "source": [
    "def rearrange(arr,n):\n",
    "    for i in range(n):\n",
    "        if arr[i]!=1 and arr[i]!=i: #if arr[i] is -1 or in correct place ignore it\n",
    "            x=arr[i]\n",
    "            arr[i]=-1#vacate the current position\n",
    "            while arr[x]!=-1 and arr[x]!=x: #while x does not reaches its correct position\n",
    "                y=arr[x]\n",
    "                arr[x]=x\n",
    "                x=y\n",
    "            arr[x]=x #place x in correct position\n",
    "            # if arr[i]!=i: #if element corressponding to i is not found put -1\n",
    "            #     arr[i]=-1\n",
    "\n",
    "if __name__ == '__main__':\n",
    "    arr=[-1, -1, 6, 1, 9, 3, 2, -1, 4, -1]\n",
    "    # arr=[19, 7, 0, 3, 18, 15, 12, 6, 1, 8,11, 10, 9, 5, 13, 16, 2, 14, 17, 4]\n",
    "    print(arr)\n",
    "    rearrange(arr,len(arr))\n",
    "    print(arr)\n"
   ]
  },
  {
   "cell_type": "markdown",
   "metadata": {},
   "source": [
    "My Solution-"
   ]
  },
  {
   "cell_type": "code",
   "execution_count": 5,
   "metadata": {},
   "outputs": [
    {
     "name": "stdout",
     "output_type": "stream",
     "text": [
      "[-1, 1, 2, 3, 4, -1, 6, -1, -1, 9]\n",
      "[0, 1, 2, 3, 4, 5, 6, 7, 8, 9, 10, 11, 12, 13, 14, 15, 16, 17, 18, 19]\n"
     ]
    }
   ],
   "source": [
    "def rearrageArray(arr):\n",
    "    n=len(arr)\n",
    "    for i in range(n):\n",
    "        if arr[i]!=i and arr[i]!=-1:\n",
    "            while arr[i]!=i and arr[i]!=-1:\n",
    "                x=arr[i]\n",
    "                arr[i]=arr[x]\n",
    "                arr[x]=x\n",
    "\n",
    "\n",
    "if __name__ == '__main__':\n",
    "    arr=[-1, -1, 6, 1, 9, 3, 2, -1, 4, -1]\n",
    "    rearrageArray(arr)\n",
    "    print(arr)\n",
    "    arr=[19, 7, 0, 3, 18, 15, 12, 6, 1, 8,11, 10, 9, 5, 13, 16, 2, 14, 17, 4]\n",
    "    rearrageArray(arr)\n",
    "    print(arr)"
   ]
  },
  {
   "cell_type": "markdown",
   "metadata": {},
   "source": [
    "Time Complexity- O(n), it takes O(n) time for each element to be in place"
   ]
  },
  {
   "cell_type": "markdown",
   "metadata": {},
   "source": [
    "Another Approach is to use a hashset, store all numbers in hashset, iterate throught the array, if i is found in hash put it in arr[i] else put -1"
   ]
  },
  {
   "cell_type": "markdown",
   "metadata": {},
   "source": [
    "Time Complexity -O(n), space complexity-O(n)"
   ]
  },
  {
   "cell_type": "markdown",
   "metadata": {},
   "source": [
    "<pre>\n",
    "Another Approach (Swap elements in Array) :\n",
    "1) Iterate through elements in array\n",
    "2) If arr[i] >= 0 && arr[i] != i, put arr[i] at i ( swap arr[i] with arr[arr[i]])\n",
    "</pre>"
   ]
  },
  {
   "cell_type": "markdown",
   "metadata": {},
   "source": [
    "Time Complexity -O(n)"
   ]
  },
  {
   "cell_type": "markdown",
   "metadata": {},
   "source": [
    "# Rearrange array such that arr[i] >= arr[j] if i is even and arr[i]<=arr[j] if i is odd and j < i"
   ]
  },
  {
   "cell_type": "markdown",
   "metadata": {},
   "source": [
    "Given an array of n elements. Our task is to write a program to rearrange the array such that elements at even positions are greater than all elements before it and elements at odd positions are less than all elements before it."
   ]
  },
  {
   "cell_type": "code",
   "execution_count": 1,
   "metadata": {},
   "outputs": [
    {
     "name": "stdout",
     "output_type": "stream",
     "text": [
      "[4, 5, 2, 6, 1, 8, 1, 8]\n"
     ]
    }
   ],
   "source": [
    "import math\n",
    "def arrange(arr,n):\n",
    "    temp=[0]*n\n",
    "    for i in range(n):\n",
    "        temp[i]=arr[i]\n",
    "    temp.sort()\n",
    "    oddPosition=math.ceil(n/2)\n",
    "    # print(oddPosition)\n",
    "    evenPosition=oddPosition-1\n",
    "    odd=1\n",
    "    even=0\n",
    "    for i in range(0,n,2):\n",
    "        arr[i]=temp[evenPosition]\n",
    "        if i+1<n:\n",
    "            arr[i+1]=temp[oddPosition]\n",
    "        # odd+=2\n",
    "        # even+=2\n",
    "        oddPosition+=1\n",
    "        evenPosition-=1\n",
    "    print(arr)\n",
    "\n",
    "arr=[1,2,1,4,5,6,8,8]\n",
    "# arr=[1,2,3,4,5,6,7]\n",
    "n=len(arr)\n",
    "arrange(arr,n)\n"
   ]
  },
  {
   "cell_type": "markdown",
   "metadata": {},
   "source": [
    "Concept- 2 pointers, alternate inserting"
   ]
  },
  {
   "cell_type": "markdown",
   "metadata": {},
   "source": [
    "Time Complexity - O(nlogn) and space complexity -O(n)"
   ]
  },
  {
   "cell_type": "markdown",
   "metadata": {},
   "source": [
    "# Rearrange positive and negative numbers in O(n) time and O(1) extra space"
   ]
  },
  {
   "cell_type": "markdown",
   "metadata": {},
   "source": [
    "An array contains both positive and negative numbers in random order. Rearrange the array elements so that positive and negative numbers are placed alternatively. Number of positive and negative numbers need not be equal. If there are more positive numbers they appear at the end of the array. If there are more negative numbers, they too appear in the end of the array."
   ]
  },
  {
   "cell_type": "markdown",
   "metadata": {},
   "source": [
    "Aproach 1 [Similar to merge method of merge sort]"
   ]
  },
  {
   "cell_type": "code",
   "execution_count": 3,
   "metadata": {},
   "outputs": [
    {
     "name": "stdout",
     "output_type": "stream",
     "text": [
      "[2, -1, 4, -3, 5, -7, 6, 8, 9]\n"
     ]
    }
   ],
   "source": [
    "def alternateElements(arr,n):\n",
    "    positive=[]\n",
    "    negative=[]\n",
    "    for i in range(len(arr)):\n",
    "        if arr[i]>0:\n",
    "            positive.append(arr[i])\n",
    "        else:\n",
    "            negative.append(arr[i])\n",
    "    # print(positive)\n",
    "    # print(negative)\n",
    "    p=len(positive)\n",
    "    n=len(negative)\n",
    "    k=0;i=0;j=0\n",
    "    while i<p and j<n:\n",
    "        arr[k]=positive[i]\n",
    "        k+=1\n",
    "        arr[k]=negative[j]\n",
    "        k+=1\n",
    "        i+=1\n",
    "        j+=1\n",
    "    while i<len(positive):\n",
    "        arr[k]=positive[i]\n",
    "        i+=1\n",
    "        k+=1\n",
    "    while j<len(negative):\n",
    "        arr[k]=negative[j]\n",
    "        j+=1\n",
    "        k+=1\n",
    "    print(arr)\n",
    "\n",
    "if __name__ == '__main__':\n",
    "    arr=[-1, 2, -3, 4, 5, 6, -7, 8, 9]\n",
    "    alternateElements(arr,len(arr))"
   ]
  },
  {
   "cell_type": "markdown",
   "metadata": {},
   "source": [
    "Swap the lines if negative values need to be fill in first"
   ]
  },
  {
   "cell_type": "markdown",
   "metadata": {},
   "source": [
    "<strong>Concept-</strong> Merge method of merge sort"
   ]
  },
  {
   "cell_type": "markdown",
   "metadata": {},
   "source": [
    "Time Complexity->O(n) and space Complexity-O(positive) + O(negative)"
   ]
  },
  {
   "cell_type": "code",
   "execution_count": 5,
   "metadata": {},
   "outputs": [
    {
     "name": "stdout",
     "output_type": "stream",
     "text": [
      "[4, -3, 5, -1, 6, -7, 2, 8, 9]\n"
     ]
    },
    {
     "data": {
      "text/plain": [
       "'\\n-ve elements first\\n# 0(n) time 0(1) extra space\\ndef arrangeAlternate(arr,n):\\n    i=-1\\n    for j in range(n):\\n        if arr[j]>0:\\n            i+=1\\n            arr[i],arr[j]=arr[j],arr[i]\\n    print(arr)\\n    neg=i+1\\n    pos=0\\n    while neg<n and pos<neg and arr[pos]>0:\\n        arr[pos],arr[neg]=arr[neg],arr[pos]\\n        neg+=1\\n        pos+=2\\n    print(arr)\\n\\narr=[1, 2, 3, -4, -1, 4,-9,-8,-6,-7,-5]\\nn=len(arr)\\narrangeAlternate(arr,n)\\n\\n'"
      ]
     },
     "execution_count": 5,
     "metadata": {},
     "output_type": "execute_result"
    }
   ],
   "source": [
    "def arrangeAlternate(arr,n):\n",
    "    #separating the positive and negative numbers using partition method of quick sort\n",
    "    i=-1\n",
    "    for j in range(n):\n",
    "        if arr[j]<0:\n",
    "            i+=1\n",
    "            arr[i],arr[j]=arr[j],arr[i]\n",
    "    pos=i+1\n",
    "    neg=0\n",
    "    #putting positive and negative numbers alternatively\n",
    "    while pos<n and neg<pos and arr[neg]<0:\n",
    "        arr[pos],arr[neg]=arr[neg],arr[pos]\n",
    "        pos+=1\n",
    "        neg+=2\n",
    "    print(arr)\n",
    "\n",
    "arr=[-1, 2, -3, 4, 5, 6, -7, 8, 9]\n",
    "n=len(arr)\n",
    "arrangeAlternate(arr,n)\n",
    "\n",
    "'''\n",
    "-ve elements first\n",
    "# 0(n) time 0(1) extra space\n",
    "def arrangeAlternate(arr,n):\n",
    "    i=-1\n",
    "    for j in range(n):\n",
    "        if arr[j]>0:\n",
    "            i+=1\n",
    "            arr[i],arr[j]=arr[j],arr[i]\n",
    "    print(arr)\n",
    "    neg=i+1\n",
    "    pos=0\n",
    "    while neg<n and pos<neg and arr[pos]>0:\n",
    "        arr[pos],arr[neg]=arr[neg],arr[pos]\n",
    "        neg+=1\n",
    "        pos+=2\n",
    "    print(arr)\n",
    "\n",
    "arr=[1, 2, 3, -4, -1, 4,-9,-8,-6,-7,-5]\n",
    "n=len(arr)\n",
    "arrangeAlternate(arr,n)\n",
    "\n",
    "'''"
   ]
  },
  {
   "cell_type": "markdown",
   "metadata": {},
   "source": [
    "Time Complexity - O(n) and space complexity -O(1), but order of elements is not maintained"
   ]
  },
  {
   "cell_type": "markdown",
   "metadata": {},
   "source": [
    "<strong>Concept</strong> - Segregate elements using the quick sort's partition method"
   ]
  },
  {
   "cell_type": "markdown",
   "metadata": {},
   "source": [
    "# REARRANGE NEGATIVE AND POSITIVE NUMBERS ALTERNATIVELY BY MAINTAINING THE RELATIVE ORDERING"
   ]
  },
  {
   "cell_type": "markdown",
   "metadata": {},
   "source": [
    "**CONCEPT-** track the outofplace element and find the next element of opposite polarity and right rotate the subarray to put the element in place"
   ]
  },
  {
   "cell_type": "code",
   "execution_count": 1,
   "metadata": {},
   "outputs": [
    {
     "name": "stdout",
     "output_type": "stream",
     "text": [
      "[3, -2, 4, -8, 5, 6, 7, 9, 10, 11, 12]\n"
     ]
    }
   ],
   "source": [
    "def rightRotate(arr,n,start,end):\n",
    "    temp=arr[end]\n",
    "    for i in range(end,start-1,-1):\n",
    "        arr[i]=arr[i-1]\n",
    "    arr[start]=temp\n",
    "\n",
    "def rearrangeArray(arr,n):\n",
    "    outOfPlace=-1\n",
    "    for i in range(n):\n",
    "        if outOfPlace>=0:\n",
    "            if (arr[i]>=0 and arr[outOfPlace]<0) or (arr[i]<0 and arr[outOfPlace]>=0):\n",
    "                rightRotate(arr,n,outOfPlace,i)\n",
    "                if (i-outOfPlace)>2:\n",
    "                    outOfPlace+=2\n",
    "                else:\n",
    "                    outOfPlace=-1\n",
    "        if outOfPlace==-1:\n",
    "            if (arr[i]>=0 and i%2==1) or (arr[i]<0 and i%2==0):\n",
    "                outOfPlace=i\n",
    "\n",
    "if __name__ == '__main__':\n",
    "    arr=[-5, -2, 5, 2, 4, 7, 1, 8, 0, -8]\n",
    "    arr=[-2,3,4,5,6,7,-8,9,10,11,12]\n",
    "    rearrangeArray(arr,len(arr))\n",
    "    print(arr)\n"
   ]
  },
  {
   "cell_type": "markdown",
   "metadata": {},
   "source": [
    "Time Complexity-> O(n*2) and Space Complexity O(1)"
   ]
  },
  {
   "cell_type": "markdown",
   "metadata": {},
   "source": [
    "# Rearrange Positive and Negative Numbers"
   ]
  },
  {
   "cell_type": "markdown",
   "metadata": {},
   "source": [
    "Previous approach where we used quick sort's partition method did not reatin the order of the elements."
   ]
  },
  {
   "cell_type": "markdown",
   "metadata": {},
   "source": [
    "Approach 1 -> Modified Insertion Sort to segregate the elements and **maintain the order of elements**"
   ]
  },
  {
   "cell_type": "code",
   "execution_count": 8,
   "metadata": {},
   "outputs": [
    {
     "name": "stdout",
     "output_type": "stream",
     "text": [
      "[-13, -5, -7, -3, -6, 12, 11, 6, 5]\n"
     ]
    }
   ],
   "source": [
    "def segragateElements(arr,n):\n",
    "    for i in range(1,n):\n",
    "        if arr[i]>0:\n",
    "            continue\n",
    "        key=arr[i]\n",
    "        j=i-1\n",
    "        while j>=0 and arr[j]>0: #shift all the positive elements till right\n",
    "            arr[j+1]=arr[j]\n",
    "            j-=1\n",
    "        arr[j+1]=key #place the negative number\n",
    "    print(arr)\n",
    "\n",
    "if __name__ == '__main__':\n",
    "    arr=[12, 11, -13, -5, 6, -7, 5, -3, -6]\n",
    "    n=len(arr)\n",
    "    segragateElements(arr,n)\n"
   ]
  },
  {
   "cell_type": "markdown",
   "metadata": {},
   "source": [
    "<strong>Concept</strong>- Modified insertion sort"
   ]
  },
  {
   "cell_type": "markdown",
   "metadata": {},
   "source": [
    "Time complexity->O(n^2) and Space Complexity-O(1)"
   ]
  },
  {
   "cell_type": "markdown",
   "metadata": {},
   "source": [
    "Another Approach - Optimized Merge Sort method\n",
    "<br><br>\n",
    "Merge method of standard merge sort algorithm can be modified to solve this problem. While merging two sorted halves say left and right, we need to merge in such a way that negative part of left and right sub-array is copied first followed by positive part of left and right sub-array."
   ]
  },
  {
   "cell_type": "code",
   "execution_count": 1,
   "metadata": {},
   "outputs": [
    {
     "name": "stdout",
     "output_type": "stream",
     "text": [
      "[-12, -13, -5, -7, -3, -6, 11, 6, 5]\n"
     ]
    }
   ],
   "source": [
    "#Merge Sort Approach\n",
    "\n",
    "def merge(arr,left,right):\n",
    "    i,j,k=0,0,0\n",
    "    # print(left,right)\n",
    "    n1=len(left)\n",
    "    n2=len(right)\n",
    "    while i<n1 and left[i]<0:\n",
    "        arr[k]=left[i]\n",
    "        i+=1\n",
    "        k+=1\n",
    "    while j<n2 and right[j]<0:\n",
    "        arr[k]=right[j]\n",
    "        j+=1\n",
    "        k+=1\n",
    "    while i<n1:\n",
    "        arr[k]=left[i]\n",
    "        i+=1\n",
    "        k+=1\n",
    "    while j<n2:\n",
    "        arr[k]=right[j]\n",
    "        j+=1\n",
    "        k+=1\n",
    "\n",
    "def arrange(arr):\n",
    "\n",
    "    if len(arr)>1:\n",
    "        # print(arr)\n",
    "        mid=len(arr)//2\n",
    "        left=arr[:mid]\n",
    "        right=arr[mid:]\n",
    "        arrange(left)\n",
    "        arrange(right)\n",
    "        merge(arr,left,right)\n",
    "\n",
    "if __name__ == '__main__':\n",
    "    arr=[-12, 11, -13, -5, 6, -7, 5, -3, -6]\n",
    "    arrange(arr)\n",
    "    print(arr)\n"
   ]
  },
  {
   "cell_type": "markdown",
   "metadata": {},
   "source": [
    "<strong>Concept-</strong> Merge Sort Method"
   ]
  },
  {
   "cell_type": "markdown",
   "metadata": {},
   "source": [
    "Time Complexity - O(nlogn) Space Complexity -O(n)"
   ]
  },
  {
   "cell_type": "markdown",
   "metadata": {},
   "source": [
    "Another Approach -> Merge Sort without any space"
   ]
  },
  {
   "cell_type": "markdown",
   "metadata": {},
   "source": [
    "<strong>Concept-</strong> Reversal Rotation"
   ]
  },
  {
   "cell_type": "markdown",
   "metadata": {},
   "source": [
    "<pre>\n",
    "Let Ln and Lp denotes the negative part and positive part of left sub-array respectively. Similarly, Rn and Rp denotes the negative and positive part of right sub-array respectively.\n",
    "Below are the steps to convert [Ln Lp Rn Rp] to [Ln Rn Lp Rp] without using extra space.\n",
    "\n",
    "1. Reverse Lp and Rn. We get [Lp] -> [Lp'] and [Rn] -> [Rn'] \n",
    "    [Ln Lp Rn Rp] -> [Ln Lp’ Rn’ Rp]\n",
    "\n",
    "2. Reverse [Lp’ Rn’]. We get [Rn Lp].\n",
    "    [Ln Lp’ Rn’ Rp] -> [Ln Rn Lp Rp]\n",
    "</pre>    "
   ]
  },
  {
   "cell_type": "code",
   "execution_count": 3,
   "metadata": {},
   "outputs": [
    {
     "name": "stdout",
     "output_type": "stream",
     "text": [
      "[-12, -13, -5, -7, -3, -6, 11, 6, 5]\n"
     ]
    }
   ],
   "source": [
    "#Merge Sort Approach without any data structure\n",
    "\n",
    "def reverse(arr,start,end):\n",
    "    while start<end:\n",
    "        arr[start],arr[end]=arr[end],arr[start]\n",
    "        start+=1\n",
    "        end-=1\n",
    "\n",
    "def merge(arr,l,m,r):\n",
    "    i=l\n",
    "    j=m+1\n",
    "    while i<=m and arr[i]<0:\n",
    "        i+=1\n",
    "#     [i...m] is positive    \n",
    "    while j<=r and arr[j]<0:\n",
    "        j+=1\n",
    "#     [j...r] is positive    \n",
    "    reverse(arr,i,m)\n",
    "    reverse(arr,m+1,j-1)\n",
    "    reverse(arr,i,j-1)\n",
    "\n",
    "def arrange(arr,l,r):\n",
    "\n",
    "    if l<r:\n",
    "\n",
    "        mid=(l+r)//2\n",
    "        arrange(arr,l,mid)\n",
    "        arrange(arr,mid+1,r)\n",
    "        merge(arr,l,mid,r)\n",
    "\n",
    "if __name__ == '__main__':\n",
    "    arr=[-12, 11, -13, -5, 6, -7, 5, -3, -6]\n",
    "    arrange(arr,0,len(arr)-1)\n",
    "    print(arr)\n"
   ]
  },
  {
   "cell_type": "markdown",
   "metadata": {},
   "source": [
    "Time complexity - O(nlogn) and space complexity - O(logn) for function call stack(recursive calls). But no additional data structure used"
   ]
  },
  {
   "cell_type": "markdown",
   "metadata": {},
   "source": [
    "If extra space would have been allowed, then we could have created a temporary array, and copied all the positive numbers first, then the negative numbers and then copied the temp array into the original array"
   ]
  },
  {
   "cell_type": "markdown",
   "metadata": {},
   "source": [
    "Another Approach - (5) to do"
   ]
  },
  {
   "cell_type": "markdown",
   "metadata": {},
   "source": [
    "Another approach (8) to do"
   ]
  },
  {
   "cell_type": "markdown",
   "metadata": {},
   "source": [
    "# Move all zeroes to end of array"
   ]
  },
  {
   "cell_type": "markdown",
   "metadata": {},
   "source": [
    "Approach 1- Segregate 0 using <strong>quick sort's partition method</strong> [order not retained]"
   ]
  },
  {
   "cell_type": "code",
   "execution_count": 2,
   "metadata": {},
   "outputs": [
    {
     "name": "stdout",
     "output_type": "stream",
     "text": [
      "[1, 2, 4, 3, 5, 0, 0, 0]\n"
     ]
    }
   ],
   "source": [
    "def moveZeros(arr,n):\n",
    "    i=-1\n",
    "    for j in range(n):\n",
    "        if arr[j]>0:\n",
    "            i+=1\n",
    "            arr[i],arr[j]=arr[j],arr[i]\n",
    "#             print(arr)\n",
    "    print(arr)\n",
    "\n",
    "if __name__ == '__main__':\n",
    "    arr=[1, 2, 0, 4, 3, 0, 5, 0]\n",
    "    moveZeros(arr,len(arr))"
   ]
  },
  {
   "cell_type": "markdown",
   "metadata": {},
   "source": [
    "<pre>\n",
    "To Retain the order->\n",
    "\n",
    "<strong>Concept-Maintain count</strong>\n",
    "\n",
    "Traverse the given array ‘arr’ from left to right. While traversing, maintain count of non-zero elements in array. Let the count be ‘count’. For every non-zero element arr[i], put the element at ‘arr[count]’ and increment ‘count’. After complete traversal, all non-zero elements have already been shifted to front end and ‘count’ is set as index of first 0. Now all we need to do is that run a loop which makes all elements zero from ‘count’ till end of the array.\n",
    "</pre>"
   ]
  },
  {
   "cell_type": "code",
   "execution_count": 3,
   "metadata": {},
   "outputs": [
    {
     "name": "stdout",
     "output_type": "stream",
     "text": [
      "[1, 2, 4, 3, 5, 0, 0, 0, 0, 0]\n"
     ]
    }
   ],
   "source": [
    "def moveZeros(arr,n):\n",
    "    count=0\n",
    "    for i in range(n):\n",
    "        if arr[i]!=0:\n",
    "            arr[count]=arr[i]\n",
    "            count+=1\n",
    "    while count<n:\n",
    "        arr[count]=0\n",
    "        count+=1\n",
    "    print(arr)\n",
    "arr=[0,0,1,2,0,4,3,0,5,0]\n",
    "moveZeros(arr,len(arr))"
   ]
  },
  {
   "cell_type": "markdown",
   "metadata": {},
   "source": [
    "Time Complexity- O(n) and space -O(1)"
   ]
  },
  {
   "cell_type": "markdown",
   "metadata": {},
   "source": [
    "Approach 3-> Maintain count and single traversal"
   ]
  },
  {
   "cell_type": "code",
   "execution_count": 4,
   "metadata": {},
   "outputs": [
    {
     "name": "stdout",
     "output_type": "stream",
     "text": [
      "[1, 2, 4, 3, 5, 0, 0, 0, 0, 0]\n"
     ]
    }
   ],
   "source": [
    "def moveZeros(arr,n):\n",
    "    count=0\n",
    "    for i in range(n):\n",
    "        if arr[i]!=0:\n",
    "            arr[count],arr[i]=arr[i],arr[count]\n",
    "            count+=1\n",
    "    print(arr)\n",
    "arr=[0,0,1,2,0,4,3,0,5,0]\n",
    "moveZeros(arr,len(arr))"
   ]
  },
  {
   "cell_type": "markdown",
   "metadata": {},
   "source": [
    "# Minimum swaps required to bring all elements less than or equal to k together"
   ]
  },
  {
   "cell_type": "markdown",
   "metadata": {},
   "source": [
    "Approach1-> count the number of elements less than equal to k, maintain a window of the number and for every subarray of size window count the number of swaps required"
   ]
  },
  {
   "cell_type": "markdown",
   "metadata": {},
   "source": [
    "<strong>Concept-> Window</strong>"
   ]
  },
  {
   "cell_type": "code",
   "execution_count": 2,
   "metadata": {},
   "outputs": [
    {
     "name": "stdout",
     "output_type": "stream",
     "text": [
      "1\n",
      "2\n"
     ]
    }
   ],
   "source": [
    "def getMinSwaps(arr,n,k):\n",
    "    count=0\n",
    "    for i in range(n):\n",
    "        if arr[i]<=k:\n",
    "            count+=1\n",
    "    minSwaps=float('infinity')\n",
    "    for i in range(n-count+1):\n",
    "        swaps=0\n",
    "        j=0\n",
    "        while j<count:\n",
    "            if arr[i+j]>k:\n",
    "                swaps+=1\n",
    "            j+=1\n",
    "        minSwaps=min(minSwaps,swaps)\n",
    "    return minSwaps\n",
    "\n",
    "if __name__ == '__main__':\n",
    "    arr=[2,1,5,6,3]\n",
    "    n=len(arr)\n",
    "    k=3\n",
    "    print(getMinSwaps(arr,n,k))\n",
    "    arr=[2, 7, 9, 5, 8, 7, 4]\n",
    "    n=len(arr)\n",
    "    k=5\n",
    "    print(getMinSwaps(arr,n,k))"
   ]
  },
  {
   "cell_type": "markdown",
   "metadata": {},
   "source": [
    "Time Complexity - O(n<sup>2</sup>)"
   ]
  },
  {
   "cell_type": "markdown",
   "metadata": {},
   "source": [
    "Another approch -> maintain window and use two pointers"
   ]
  },
  {
   "cell_type": "markdown",
   "metadata": {},
   "source": [
    "<strong>Concept-> Window and Two pointers</strong>"
   ]
  },
  {
   "cell_type": "code",
   "execution_count": 7,
   "metadata": {},
   "outputs": [
    {
     "name": "stdout",
     "output_type": "stream",
     "text": [
      "2\n"
     ]
    }
   ],
   "source": [
    "def minSwaps(arr,n,k):\n",
    "    count=0\n",
    "    #counting the window size\n",
    "    for i in range(len(arr)):\n",
    "        if arr[i]<=k:\n",
    "            count+=1\n",
    "    res=0\n",
    "    for i in range(count):\n",
    "        if arr[i]>k:\n",
    "            res+=1\n",
    "    temp=res#initial number of swaps\n",
    "    j=0\n",
    "    for i in range(count,n):\n",
    "        #element going out of window\n",
    "        if arr[j]>k:\n",
    "            temp-=1\n",
    "        #element coming inside window\n",
    "        if arr[i]>k:\n",
    "            temp+=1\n",
    "        res=min(res,temp)\n",
    "        j+=1\n",
    "    print(res)\n",
    "\n",
    "arr=[2, 7, 9, 5, 8, 7, 4]\n",
    "minSwaps(arr,len(arr),5)"
   ]
  },
  {
   "cell_type": "markdown",
   "metadata": {},
   "source": [
    "Time complexity - O(n) and space complexity -O(1)"
   ]
  },
  {
   "cell_type": "markdown",
   "metadata": {},
   "source": [
    "# Rearrange array such that even positioned are greater than odd"
   ]
  },
  {
   "cell_type": "markdown",
   "metadata": {},
   "source": [
    "<pre>\n",
    "Given an array A of n elements, sort the array according to the following relations :\n",
    " A[i] >= A[i-1]  , if i is even.\n",
    " A[i] <= A[i-1]  , if i is odd.\n",
    "</pre>"
   ]
  },
  {
   "cell_type": "code",
   "execution_count": 1,
   "metadata": {},
   "outputs": [
    {
     "name": "stdout",
     "output_type": "stream",
     "text": [
      "[1, 5, 2, 3, 2]\n"
     ]
    }
   ],
   "source": [
    "def rearrange(arr,n):\n",
    "    temp=[0]*n\n",
    "    for i in range(n):\n",
    "        temp[i]=arr[i]\n",
    "    temp.sort()\n",
    "    start=0\n",
    "    end=n-1\n",
    "    for i in range(n):\n",
    "        if i%2!=0:\n",
    "            arr[i]=temp[end]\n",
    "            end-=1\n",
    "        else:\n",
    "            arr[i]=temp[start]\n",
    "            start+=1\n",
    "    print(arr)\n",
    "\n",
    "if __name__ == '__main__':\n",
    "    arr=[1, 3, 2, 2, 5]\n",
    "    rearrange(arr,len(arr))\n"
   ]
  },
  {
   "cell_type": "markdown",
   "metadata": {},
   "source": [
    "Time Complexity O(nlogn) and Space Complexity O(n)"
   ]
  },
  {
   "cell_type": "markdown",
   "metadata": {},
   "source": [
    "<strong>Concept- Sorting and 2 pointers</strong>"
   ]
  },
  {
   "cell_type": "code",
   "execution_count": 1,
   "metadata": {},
   "outputs": [
    {
     "name": "stdout",
     "output_type": "stream",
     "text": [
      "[1, 3, 2, 2, 5]\n",
      "[1, 3, 2, 5, 2]\n"
     ]
    }
   ],
   "source": [
    "def rearrangeArray(arr,n):\n",
    "    # odd element should be greater and even element should be smaller\n",
    "    for i in range(1,n):\n",
    "        if i%2==0:\n",
    "            if arr[i]>arr[i-1]:\n",
    "                arr[i],arr[i-1]=arr[i-1],arr[i]\n",
    "        else:\n",
    "            if arr[i]<arr[i-1]:\n",
    "                arr[i],arr[i-1]=arr[i-1],arr[i]\n",
    "\n",
    "\n",
    "if __name__ == '__main__':\n",
    "    arr=[1,3,2,2,5]\n",
    "    n=len(arr)\n",
    "    print(arr)\n",
    "    rearrangeArray(arr,n)\n",
    "    print(arr)"
   ]
  },
  {
   "cell_type": "markdown",
   "metadata": {},
   "source": [
    "**Concept-> Start from the second element and swap the element if it does not satisfy the current requirement**"
   ]
  },
  {
   "cell_type": "markdown",
   "metadata": {},
   "source": [
    "Time Complexity O(n) and Space Complexity O(1)"
   ]
  },
  {
   "cell_type": "markdown",
   "metadata": {},
   "source": [
    "# Rearrange an array in order – smallest, largest, 2nd smallest, 2nd largest, .."
   ]
  },
  {
   "cell_type": "markdown",
   "metadata": {},
   "source": [
    "A simple solution is to first find the smallest element, swap it with first element. Then find largest element, swap it with second element and so on. Time complexity of this solution is O(n2)."
   ]
  },
  {
   "cell_type": "markdown",
   "metadata": {},
   "source": [
    "Efficient solution is to use sorting and using 2 pointers"
   ]
  },
  {
   "cell_type": "code",
   "execution_count": 2,
   "metadata": {},
   "outputs": [
    {
     "name": "stdout",
     "output_type": "stream",
     "text": [
      "[1, 9, 2, 8, 3, 7, 4, 6, 5]\n"
     ]
    }
   ],
   "source": [
    "def rearrange(arr,n):\n",
    "    temp=[0]*n\n",
    "    for i in range(n):\n",
    "        temp[i]=arr[i]\n",
    "    temp.sort()\n",
    "    start=0\n",
    "    end=n-1\n",
    "    for i in range(0,n,2):\n",
    "        arr[i]=temp[start]\n",
    "        i+=1\n",
    "        if i<n:\n",
    "            arr[i]=temp[end]\n",
    "        start+=1\n",
    "        end-=1\n",
    "    print(arr)\n",
    "\n",
    "if __name__ == '__main__':\n",
    "    arr=[5, 8, 1, 4, 2, 9, 3, 7, 6]\n",
    "    rearrange(arr,len(arr))\n"
   ]
  },
  {
   "cell_type": "markdown",
   "metadata": {},
   "source": [
    "Time Complexity - O(nlogn) and Space Complexity - O(n)"
   ]
  },
  {
   "cell_type": "markdown",
   "metadata": {},
   "source": [
    "# Double the first element and move zero to end"
   ]
  },
  {
   "cell_type": "markdown",
   "metadata": {},
   "source": [
    "Given an array of integers of size n. Assume ‘0’ as invalid number and all other as valid number. Convert the array in such a way that if next number is a valid number and same as current number, double its value and replace the next number with 0. After the modification, rearrange the array such that all 0’s are shifted to the end."
   ]
  },
  {
   "cell_type": "code",
   "execution_count": 3,
   "metadata": {},
   "outputs": [
    {
     "name": "stdout",
     "output_type": "stream",
     "text": [
      "[4, 2, 12, 8, 0, 0, 0, 0, 0, 0]\n"
     ]
    }
   ],
   "source": [
    "def rearrange(arr,n):\n",
    "    count=0\n",
    "    for i in range(n):\n",
    "        if arr[i]>0:\n",
    "            if (i+1)<n:\n",
    "                if arr[i+1]==arr[i]:\n",
    "                    arr[i]*=2\n",
    "                    arr[i+1]=0\n",
    "            arr[count]=arr[i]\n",
    "            count+=1\n",
    "    while count<n:\n",
    "        arr[count]=0\n",
    "        count+=1\n",
    "    print(arr)\n",
    "\n",
    "\n",
    "if __name__ == '__main__':\n",
    "    # arr=[2, 2, 0, 4, 0, 8]\n",
    "    arr=[0, 2, 2, 2, 0, 6, 6, 0, 0, 8]\n",
    "    rearrange(arr,len(arr))\n",
    "\n",
    "    "
   ]
  },
  {
   "cell_type": "markdown",
   "metadata": {},
   "source": [
    "Time Complexity - O(n)"
   ]
  },
  {
   "cell_type": "code",
   "execution_count": 2,
   "metadata": {},
   "outputs": [
    {
     "name": "stdout",
     "output_type": "stream",
     "text": [
      "[0, 2, 2, 2, 0, 6, 6, 0, 0, 8]\n",
      "[4, 2, 12, 8, 0, 0, 0, 0, 0, 0]\n"
     ]
    }
   ],
   "source": [
    "def rearrangeArray(arr,n):\n",
    "    for i in range(n-1):\n",
    "        if arr[i]!=0 and arr[i]==arr[i+1]:\n",
    "            arr[i]+=arr[i+1]\n",
    "            arr[i+1]=0\n",
    "    # print(arr)\n",
    "    count=0\n",
    "    for i in range(n):\n",
    "        if arr[i]!=0:\n",
    "            arr[count],arr[i]=arr[i],arr[count]\n",
    "            count+=1\n",
    "\n",
    "if __name__ == '__main__':\n",
    "    arr=[0, 2, 2, 2, 0, 6, 6, 0, 0, 8]\n",
    "    n=len(arr)\n",
    "    print(arr)\n",
    "    rearrangeArray(arr,n)\n",
    "    print(arr)"
   ]
  },
  {
   "cell_type": "markdown",
   "metadata": {},
   "source": [
    "Time Complexity O(n)"
   ]
  },
  {
   "cell_type": "markdown",
   "metadata": {},
   "source": [
    "# Reorder an array according to given indexes"
   ]
  },
  {
   "cell_type": "markdown",
   "metadata": {},
   "source": [
    "<pre>\n",
    "Reorder an array according to given indexes\n",
    "\n",
    "Input:  arr[]   = [10, 11, 12];\n",
    "        index[] = [1, 0, 2];\n",
    "Output: arr[]   = [11, 10, 12]\n",
    "        index[] = [0,  1,  2] \n",
    "\n",
    "Input:  arr[]   = [50, 40, 70, 60, 90]\n",
    "        index[] = [3,  0,  4,  1,  2]\n",
    "Output: arr[]   = [40, 60, 90, 50, 70]\n",
    "        index[] = [0,  1,  2,  3,   4] \n",
    "</pre>"
   ]
  },
  {
   "cell_type": "markdown",
   "metadata": {},
   "source": [
    "Extenstion of the problem- rearrange elements in order i==arr[i]"
   ]
  },
  {
   "cell_type": "code",
   "execution_count": 1,
   "metadata": {},
   "outputs": [
    {
     "name": "stdout",
     "output_type": "stream",
     "text": [
      "[50, 40, 70, 60, 90]\n",
      "[3, 0, 4, 1, 2]\n",
      "\n",
      "After Rearranging->\n",
      "\n",
      "[40, 60, 90, 50, 70]\n",
      "[0, 1, 2, 3, 4]\n"
     ]
    }
   ],
   "source": [
    "def rearrangeArray(arr,index):\n",
    "    n=len(arr)\n",
    "    for i in range(n):\n",
    "        if i!=index[i]:\n",
    "            while i!=index[i]:\n",
    "                x=index[i]\n",
    "                index[x],index[i]=index[i],index[x]\n",
    "                arr[x],arr[i]=arr[i],arr[x]\n",
    "\n",
    "\n",
    "if __name__ == '__main__':\n",
    "    arr=[50,40,70,60,90]\n",
    "    index=[3,0,4,1,2]\n",
    "    print(arr)\n",
    "    print(index)\n",
    "    rearrangeArray(arr,index)\n",
    "    print(\"\\nAfter Rearranging->\\n\")\n",
    "    print(arr)\n",
    "    print(index)"
   ]
  },
  {
   "cell_type": "markdown",
   "metadata": {},
   "source": [
    "Time complexity - O(n) and space complexity - O(1)"
   ]
  },
  {
   "cell_type": "markdown",
   "metadata": {},
   "source": [
    "# Arrange given numbers to form the biggest number"
   ]
  },
  {
   "cell_type": "markdown",
   "metadata": {},
   "source": [
    "Given an array of numbers, arrange them in a way that yields the largest value. For example, if the given numbers are {54, 546, 548, 60}, the arrangement 6054854654 gives the largest value. And if the given numbers are {1, 34, 3, 98, 9, 76, 45, 4}, then the arrangement 998764543431 gives the largest value."
   ]
  },
  {
   "cell_type": "code",
   "execution_count": 1,
   "metadata": {},
   "outputs": [
    {
     "name": "stdout",
     "output_type": "stream",
     "text": [
      "998764543431\n"
     ]
    }
   ],
   "source": [
    "def compare(a,b):\n",
    "    if a>b:\n",
    "        return False\n",
    "    else:\n",
    "        return True\n",
    "\n",
    "def getLargestNumber(arr,n):\n",
    "    for i in range(n):\n",
    "        x=arr[i]\n",
    "        for j in range(i+1,n):\n",
    "            y=arr[j]\n",
    "            xy=str(x)+str(y)\n",
    "            yx=str(y)+str(x)\n",
    "            flag=compare(int(xy),int(yx))\n",
    "            if flag:\n",
    "                arr[i],arr[j]=arr[j],arr[i]\n",
    "                x=arr[i]\n",
    "    return \"\".join(map(str,arr))\n",
    "\n",
    "if __name__ == '__main__':\n",
    "    # arr=[54, 546, 548, 60]\n",
    "    arr=[1, 34, 3, 98, 9, 76, 45, 4]\n",
    "    result=getLargestNumber(arr,len(arr))\n",
    "    print(result)\n"
   ]
  },
  {
   "cell_type": "markdown",
   "metadata": {},
   "source": [
    "Approach- do comparison based sorting"
   ]
  },
  {
   "cell_type": "markdown",
   "metadata": {},
   "source": [
    "Another approach - Python's Itertools library, generate all possible permutations and return the largest one of them"
   ]
  },
  {
   "cell_type": "code",
   "execution_count": 2,
   "metadata": {},
   "outputs": [
    {
     "name": "stdout",
     "output_type": "stream",
     "text": [
      "998764543431\n"
     ]
    }
   ],
   "source": [
    "from itertools import permutations\n",
    "def getLargestNumber(arr,n):\n",
    "    result=[]\n",
    "    for i in permutations(arr):\n",
    "        result.append(int(\"\".join(map(str,i))))\n",
    "    return max(result)\n",
    "\n",
    "if __name__ == '__main__':\n",
    "    # arr=[54, 546, 548, 60]\n",
    "    arr=[1, 34, 3, 98, 9, 76, 45, 4]\n",
    "    result=getLargestNumber(arr,len(arr))\n",
    "    print(result)\n"
   ]
  },
  {
   "cell_type": "markdown",
   "metadata": {},
   "source": [
    "# Rearrange an array such that ‘arr[j]’ becomes ‘i’ if ‘arr[i]’ is ‘j’"
   ]
  },
  {
   "cell_type": "markdown",
   "metadata": {},
   "source": [
    "Simple solution by creating a temporary array"
   ]
  },
  {
   "cell_type": "code",
   "execution_count": 2,
   "metadata": {},
   "outputs": [
    {
     "name": "stdout",
     "output_type": "stream",
     "text": [
      "[2, 0, 3, 1]\n",
      "[1, 2, 0, 5, 3, 4]\n",
      "[0, 1, 2, 3]\n",
      "[3, 2, 1, 0]\n"
     ]
    }
   ],
   "source": [
    "def rearrangeArray(arr,n):\n",
    "    result=[0]*n\n",
    "    for i in range(n):\n",
    "        if arr[i]<n and arr[arr[i]]!=i:\n",
    "            result[arr[i]]=i\n",
    "        else:\n",
    "            result[i]=arr[i]\n",
    "    return result\n",
    "\n",
    "if __name__ == '__main__':\n",
    "    arr=[1,3,0,2]\n",
    "    result=rearrangeArray(arr,len(arr))\n",
    "    print(result)\n",
    "    arr=[2, 0, 1, 4, 5, 3]\n",
    "    result=rearrangeArray(arr,len(arr))\n",
    "    print(result)\n",
    "    arr=[0, 1, 2, 3]\n",
    "    result=rearrangeArray(arr,len(arr))\n",
    "    print(result)\n",
    "    arr=[3, 2, 1, 0]\n",
    "    result=rearrangeArray(arr,len(arr))\n",
    "    print(result)"
   ]
  },
  {
   "cell_type": "markdown",
   "metadata": {},
   "source": [
    "Time complexity - O(n) and space complexity O(n)"
   ]
  },
  {
   "cell_type": "markdown",
   "metadata": {},
   "source": [
    "# Rearrange array in maximum minimum form"
   ]
  },
  {
   "cell_type": "markdown",
   "metadata": {},
   "source": [
    "Basic approach to use auxiliary array and copy the elements. T- O(n) S-O(n)"
   ]
  },
  {
   "cell_type": "markdown",
   "metadata": {},
   "source": [
    "# Rearrange an array in maximum minimum form  (O(1) extra space)"
   ]
  },
  {
   "cell_type": "markdown",
   "metadata": {},
   "source": [
    "**The idea is to use multiplication and modular trick to store two elements at an index.**"
   ]
  },
  {
   "cell_type": "code",
   "execution_count": 1,
   "metadata": {},
   "outputs": [
    {
     "name": "stdout",
     "output_type": "stream",
     "text": [
      "[1, 2, 3, 4, 5, 6, 7]\n",
      "[7, 1, 6, 2, 5, 3, 4]\n",
      "[1, 2, 3, 4, 5, 6, 7, 8, 9]\n",
      "[9, 1, 8, 2, 7, 3, 6, 4, 5]\n"
     ]
    }
   ],
   "source": [
    "def rearrangeArray(arr,n):\n",
    "    max_ele=arr[n-1]+1\n",
    "    min_index=0\n",
    "    max_index=n-1\n",
    "    for i in range(n):\n",
    "        if i%2==0:\n",
    "            arr[i]+=(arr[max_index]%max_ele)*max_ele\n",
    "            max_index-=1\n",
    "        else:\n",
    "            arr[i]+=(arr[min_index]%max_ele)*max_ele\n",
    "            min_index+=1\n",
    "    for i in range(n):\n",
    "        arr[i]=arr[i]//max_ele\n",
    "\n",
    "if __name__ == '__main__':\n",
    "    arr=[1,2,3,4,5,6,7]\n",
    "    print(arr)\n",
    "    rearrangeArray(arr,len(arr))\n",
    "    print(arr)\n",
    "    arr=[1,2,3,4,5,6,7,8,9]\n",
    "    print(arr)\n",
    "    rearrangeArray(arr,len(arr))\n",
    "    print(arr)\n"
   ]
  },
  {
   "cell_type": "markdown",
   "metadata": {},
   "source": [
    "**How does expression “arr[i] += arr[max_index] % max_element * max_element” work?**\n",
    "\n",
    "The purpose of this expression is to store two elements at index arr[i]. arr[max_index] is stored as multiplier and “arr[i]” is stored as remainder. For example in {1 2 3 4 5 6 7 8 9}, max_element is 10 and we store 91 at index 0. With 91, we can get original element as 91%10 and new element as 91/10.\n"
   ]
  },
  {
   "cell_type": "markdown",
   "metadata": {},
   "source": [
    "S- O(1) and T - O(n)"
   ]
  },
  {
   "cell_type": "markdown",
   "metadata": {},
   "source": [
    "# Move all negative numbers to beginning and positive to end with constant extra space | Order not important"
   ]
  },
  {
   "cell_type": "markdown",
   "metadata": {},
   "source": [
    "We can apply partition method of quick sort as order is not important here. T-O(n), S-O(1)"
   ]
  },
  {
   "cell_type": "markdown",
   "metadata": {},
   "source": [
    "# Move all negative elements to end in order with extra space allowed | Order important"
   ]
  },
  {
   "cell_type": "markdown",
   "metadata": {},
   "source": [
    "We can just use a auxiliary array to copy +ve elements first and then we can copy -ve elements and copy the entire array to original array. T-O(n) and S-O(n)"
   ]
  },
  {
   "cell_type": "markdown",
   "metadata": {},
   "source": [
    "# Rearrange array such that even index elements are smaller and odd index elements are greater"
   ]
  },
  {
   "cell_type": "markdown",
   "metadata": {},
   "source": [
    "Start from the second element and keep swapping with the previous element if required. Time-O(n) and Space-O(1)"
   ]
  },
  {
   "cell_type": "markdown",
   "metadata": {},
   "source": [
    "# Positive elements at even and negative at odd positions (Relative order not maintained)"
   ]
  },
  {
   "cell_type": "markdown",
   "metadata": {},
   "source": [
    "We can use the partition method of quick sort to segregate the elements first and then we can swap the elements alternatively using two pointers pointing to positive number and negative number. T-O(n) and Space-O(1)"
   ]
  },
  {
   "cell_type": "markdown",
   "metadata": {},
   "source": [
    "If order is to be maintained then we can use the outofplace and rotation technique"
   ]
  },
  {
   "cell_type": "markdown",
   "metadata": {},
   "source": [
    "# Replace every array element by multiplication of previous and next"
   ]
  },
  {
   "cell_type": "markdown",
   "metadata": {},
   "source": [
    "<pre>\n",
    "Given an array of integers, update every element with multiplication of previous and next elements with following exceptions. \n",
    "a) First element is replaced by multiplication of first and second. \n",
    "b) Last element is replaced by multiplication of last and second last.\n",
    "</pre>"
   ]
  },
  {
   "cell_type": "markdown",
   "metadata": {},
   "source": [
    "Basic Approach would be to use a auxiliary array, but efficient approach would be to keep track of the previous elements"
   ]
  },
  {
   "cell_type": "code",
   "execution_count": 3,
   "metadata": {},
   "outputs": [
    {
     "name": "stdout",
     "output_type": "stream",
     "text": [
      "[2, 3, 4, 5, 6]\n",
      "[6, 8, 15, 24, 30]\n"
     ]
    }
   ],
   "source": [
    "def rearrangeArray(arr,n):\n",
    "    prev=arr[0]\n",
    "    arr[0]=arr[0]*arr[1]\n",
    "    for i in range(1,n-1):\n",
    "        curr=arr[i]\n",
    "        arr[i]=prev*arr[i+1]\n",
    "        prev=curr\n",
    "    arr[n-1]=arr[n-1]*prev\n",
    "\n",
    "if __name__ == '__main__':\n",
    "    arr=[2, 3, 4, 5, 6]\n",
    "    print(arr)\n",
    "    rearrangeArray(arr,len(arr))\n",
    "    print(arr)\n"
   ]
  },
  {
   "cell_type": "markdown",
   "metadata": {},
   "source": [
    "# Shuffle a given array using Fisher–Yates shuffle Algorithm | Shuffle a deck of cards | Randomize a given array"
   ]
  },
  {
   "cell_type": "code",
   "execution_count": 4,
   "metadata": {},
   "outputs": [
    {
     "name": "stdout",
     "output_type": "stream",
     "text": [
      "[1, 2, 3, 4, 5, 6, 7, 8]\n",
      "[6, 4, 8, 7, 1, 5, 3, 2]\n"
     ]
    }
   ],
   "source": [
    "from random import randint\n",
    "\n",
    "def shuffle(arr,n):\n",
    "    for i in range(n-1,0,-1):\n",
    "        j=randint(0,i+1)\n",
    "        arr[i],arr[j]=arr[j],arr[i]\n",
    "\n",
    "\n",
    "if __name__ == '__main__':\n",
    "    arr=[1, 2, 3, 4, 5, 6, 7, 8]\n",
    "    n=len(arr)\n",
    "    print(arr)\n",
    "    shuffle(arr,n)\n",
    "    print(arr)\n"
   ]
  },
  {
   "cell_type": "markdown",
   "metadata": {},
   "source": [
    "Time Complexity - O(n) "
   ]
  },
  {
   "cell_type": "markdown",
   "metadata": {},
   "source": [
    "# Segregate Even and Odd numbers."
   ]
  },
  {
   "cell_type": "markdown",
   "metadata": {},
   "source": [
    "We can follow similar approach as we did for the positive and negtive numbers"
   ]
  },
  {
   "cell_type": "markdown",
   "metadata": {},
   "source": [
    "# Segregate 0s and 1s in an array in a single traversal"
   ]
  },
  {
   "cell_type": "code",
   "execution_count": 5,
   "metadata": {},
   "outputs": [
    {
     "name": "stdout",
     "output_type": "stream",
     "text": [
      "[0, 1, 0, 1, 0, 0, 1, 1, 1, 0]\n",
      "[0, 0, 0, 0, 0, 1, 1, 1, 1, 1]\n"
     ]
    }
   ],
   "source": [
    "def rearrangeArray(arr,n):\n",
    "    count=0\n",
    "    for i in range(n):\n",
    "        if arr[i]==0:\n",
    "            arr[count],arr[i]=arr[i],arr[count]\n",
    "            count+=1\n",
    "\n",
    "if __name__ == '__main__':\n",
    "    arr=[0, 1, 0, 1, 0, 0, 1, 1, 1, 0]\n",
    "    print(arr)\n",
    "    rearrangeArray(arr,len(arr))\n",
    "    print(arr)\n"
   ]
  },
  {
   "cell_type": "markdown",
   "metadata": {},
   "source": [
    "# Longest Bitonic Subsequence"
   ]
  },
  {
   "cell_type": "markdown",
   "metadata": {},
   "source": [
    "Covered in Dynamic Programming"
   ]
  },
  {
   "cell_type": "markdown",
   "metadata": {},
   "source": [
    "# Find a sorted subsequence of size 3 in linear time"
   ]
  },
  {
   "cell_type": "markdown",
   "metadata": {},
   "source": [
    "**Concept - We need to find a triplet in which a element has a element smaller than itself on the left side and has a element greater than itself on the right side. SO we can just find the NEXT GREATER ELEMENT  and NEXT SMALLER ELEMENT and the triplet is our answer**"
   ]
  },
  {
   "cell_type": "code",
   "execution_count": 6,
   "metadata": {},
   "outputs": [
    {
     "name": "stdout",
     "output_type": "stream",
     "text": [
      "5 6 30\n",
      "1 2 3\n",
      "2 3 4\n"
     ]
    }
   ],
   "source": [
    "def getNGE(arr,n,nge):\n",
    "    stack=[]\n",
    "    for i in range(n-1, -1,-1):\n",
    "        while stack and arr[stack[-1]]<=arr[i]:\n",
    "            stack.pop()\n",
    "        if len(stack)==0:\n",
    "            nge[i]=-1\n",
    "        else:\n",
    "            nge[i]=stack[-1]\n",
    "        stack.append(i)\n",
    "\n",
    "\n",
    "def getNSE(arr,n,nse):\n",
    "    stack=[]\n",
    "    for i in range(n):\n",
    "        while stack and arr[stack[-1]]>=arr[i]:\n",
    "            stack.pop()\n",
    "        if stack:\n",
    "            nse[i]=stack[-1]\n",
    "        else:\n",
    "            nse[i]=-1\n",
    "        stack.append(i)\n",
    "\n",
    "def findSortedSubsequence(arr,n):\n",
    "    nge=[0]*n\n",
    "    nse=[0]*n\n",
    "    getNGE(arr,n,nge)\n",
    "    getNSE(arr,n,nse)\n",
    "    # print(nge)\n",
    "    # print(nse)\n",
    "    for i in range(n):\n",
    "        if nse[i]!=-1 and nge[i]!=-1:\n",
    "            print(arr[nse[i]],arr[i],arr[nge[i]])\n",
    "\n",
    "if __name__ == '__main__':\n",
    "    arr=[12, 11, 10, 5, 6, 2, 30]\n",
    "    n=len(arr)\n",
    "    findSortedSubsequence(arr,n)\n",
    "    arr=[1, 2, 3, 4]\n",
    "    n=len(arr)\n",
    "    findSortedSubsequence(arr,n)\n",
    "    arr=[4,3,2,1]\n",
    "    n=len(arr)\n",
    "    findSortedSubsequence(arr,n)\n"
   ]
  },
  {
   "cell_type": "markdown",
   "metadata": {},
   "source": [
    "Time Complexity O(n) and Space Complexity O(n)"
   ]
  },
  {
   "cell_type": "markdown",
   "metadata": {},
   "source": [
    "# Largest subarray with equal number of 0s and 1s"
   ]
  },
  {
   "cell_type": "markdown",
   "metadata": {},
   "source": [
    "Brute Force Solution is to check for each and every subarray"
   ]
  },
  {
   "cell_type": "code",
   "execution_count": 7,
   "metadata": {},
   "outputs": [
    {
     "name": "stdout",
     "output_type": "stream",
     "text": [
      "(1, 6, 6)\n",
      "None\n",
      "(0, 3, 4)\n"
     ]
    }
   ],
   "source": [
    "def largestSubarray(arr,n):\n",
    "    startIndex=None\n",
    "    endingIndex=None\n",
    "    resultLength=float('-infinity')\n",
    "    for i in range(n):\n",
    "        s=0\n",
    "        for j in range(i,n):\n",
    "            if arr[j]==1:\n",
    "                s+=1\n",
    "            else:\n",
    "                s-=1\n",
    "            if s==0:\n",
    "                if resultLength<(j-i+1):\n",
    "                    resultLength=(j-i+1)\n",
    "                    startIndex=i\n",
    "                    endingIndex=j\n",
    "    if resultLength!=float('-infinity'):\n",
    "        return (startIndex,endingIndex,resultLength)\n",
    "    return None\n",
    "\n",
    "if __name__ == '__main__':\n",
    "    arr=[1, 0, 1, 1, 1, 0, 0]\n",
    "    n=len(arr)\n",
    "    result=largestSubarray(arr,n)\n",
    "    print(result)\n",
    "    arr=[1, 1, 1, 1]\n",
    "    n=len(arr)\n",
    "    result=largestSubarray(arr,n)\n",
    "    print(result)\n",
    "    arr=[0, 0, 1, 1, 0]\n",
    "    n=len(arr)\n",
    "    result=largestSubarray(arr,n)\n",
    "    print(result)"
   ]
  },
  {
   "cell_type": "markdown",
   "metadata": {},
   "source": [
    "Time Complexity O(n^2) and Space Complexity O(1)"
   ]
  },
  {
   "cell_type": "markdown",
   "metadata": {},
   "source": [
    "Efficient Solution-> **Using Hash** We can use hashmap to maintain the cumulative sum, if the cumulative sum repeats itself then it means that the number of zeros and ones are equal between the 2 areas"
   ]
  },
  {
   "cell_type": "code",
   "execution_count": 8,
   "metadata": {},
   "outputs": [
    {
     "name": "stdout",
     "output_type": "stream",
     "text": [
      "(0, 3, 4)\n"
     ]
    }
   ],
   "source": [
    "def getLargestSubarray(arr,n):\n",
    "    hash={}\n",
    "    hash[0]=-1\n",
    "    resultLength=float('-infinity')\n",
    "    startIndex=0\n",
    "    endingIndex=0\n",
    "    s=0\n",
    "    for i in range(n):\n",
    "        if arr[i]==1:\n",
    "            s+=1\n",
    "        else:\n",
    "            s-=1\n",
    "        if s in hash:\n",
    "            index=hash[s]\n",
    "            if resultLength<i-index:\n",
    "                resultLength=i-index\n",
    "                startIndex=index+1\n",
    "                endingIndex=i\n",
    "        else:\n",
    "            hash[s]=i\n",
    "    if resultLength!=float('-infinity'):\n",
    "        return (startIndex,endingIndex,resultLength)\n",
    "    return None\n",
    "\n",
    "if __name__ == '__main__':\n",
    "    arr=[0, 0, 1, 1, 0]\n",
    "    n=len(arr)\n",
    "    result=getLargestSubarray(arr,n)\n",
    "    print(result)"
   ]
  },
  {
   "cell_type": "markdown",
   "metadata": {},
   "source": [
    "Time Complexity O(n) and Space Complexity O(n)"
   ]
  },
  {
   "cell_type": "markdown",
   "metadata": {},
   "source": [
    "# Maximum Product Subarray"
   ]
  },
  {
   "cell_type": "markdown",
   "metadata": {},
   "source": [
    "Brute Force solution is to check product of each subarray and then compare the product for each subarray. Time Complexity O(n^2) and Space Complexity O(1)"
   ]
  },
  {
   "cell_type": "markdown",
   "metadata": {},
   "source": [
    "Efficient Solution is to use modified Kadane's agorithm, wew can maintain 3 variables, max_so_far, max_ending_here, min_ending_here, while traversing each item we can check if it contributes to the previous result or it will contribute alone, min_ending_here is maintained because we are also dealing with negative numbers, negative*negative can become the greater element at any point of time"
   ]
  },
  {
   "cell_type": "code",
   "execution_count": 1,
   "metadata": {},
   "outputs": [
    {
     "name": "stdout",
     "output_type": "stream",
     "text": [
      "80\n"
     ]
    }
   ],
   "source": [
    "def getLargestProductSubarray(arr,n):\n",
    "    max_ending_here=arr[0]\n",
    "    min_ending_here=arr[0]\n",
    "    max_so_far=arr[0]\n",
    "    for i in range(1,n):\n",
    "        temp=max(arr[i],arr[i]*max_ending_here,arr[i]*min_ending_here)\n",
    "        min_ending_here=min(arr[i],arr[i]*min_ending_here,arr[i]*max_ending_here)\n",
    "        max_ending_here=temp\n",
    "        max_so_far=max(max_so_far,max_ending_here)\n",
    "    return max_so_far\n",
    "\n",
    "if __name__ == '__main__':\n",
    "    arr=[6, -3, -10, 0, 2]\n",
    "    arr=[-1, -3, -10, 0, 60]\n",
    "    arr=[-2, -40, 0, -2, -3]\n",
    "    n=len(arr)\n",
    "    result=getLargestProductSubarray(arr,n)\n",
    "    print(result)\n"
   ]
  },
  {
   "cell_type": "markdown",
   "metadata": {},
   "source": [
    "Time Complexity O(n)"
   ]
  },
  {
   "cell_type": "markdown",
   "metadata": {},
   "source": [
    "# Replace every element with the greatest element on right side"
   ]
  },
  {
   "cell_type": "code",
   "execution_count": 2,
   "metadata": {},
   "outputs": [
    {
     "name": "stdout",
     "output_type": "stream",
     "text": [
      "[16, 17, 4, 3, 5, 2]\n",
      "[17, 5, 5, 5, 2, -1]\n"
     ]
    }
   ],
   "source": [
    "def replaceElements(arr,n):\n",
    "    max_so_far=arr[n-1]\n",
    "    arr[n-1]=-1\n",
    "    for i in range(n-2,-1,-1):\n",
    "        temp=arr[i]\n",
    "        arr[i]=max_so_far\n",
    "        max_so_far=max(temp,max_so_far)\n",
    "\n",
    "if __name__ == '__main__':\n",
    "    arr=[16, 17, 4, 3, 5, 2]\n",
    "    n=len(arr)\n",
    "    print(arr)\n",
    "    replaceElements(arr,n)\n",
    "    print(arr)\n"
   ]
  },
  {
   "cell_type": "markdown",
   "metadata": {},
   "source": [
    "Time Complexity O(n) and Space Complexity O(1)"
   ]
  },
  {
   "cell_type": "markdown",
   "metadata": {},
   "source": [
    "# Maximum circular subarray sum"
   ]
  },
  {
   "cell_type": "markdown",
   "metadata": {},
   "source": [
    "We can modify Kadane’s algorithm to find a minimum contiguous subarray sum and the maximum contiguous subarray sum, then check for the maximum value between the max_value and the value left after subtracting min_value from the total sum."
   ]
  },
  {
   "cell_type": "markdown",
   "metadata": {},
   "source": [
    "<pre>\n",
    "1) We will calculate the total sum of the given array.\n",
    "2) We will declare the variable curr_max, max_so_far, curr_min, min_so_far as the first value of the array.\n",
    "3) Now we will use Kadane’s Algorithm to find the maximum subarray sum and minimum subarray sum.\n",
    "4) Check for all the values in the array:- \n",
    "4-a) If min_so_far is equaled to sum, i.e. all values are negative, then we return max_so_far.\n",
    "4-b) Else, we will calculate the maximum value of max_so_far and (sum – min_so_far) and return it.\n",
    "</pre>"
   ]
  },
  {
   "cell_type": "code",
   "execution_count": 1,
   "metadata": {},
   "outputs": [
    {
     "name": "stdout",
     "output_type": "stream",
     "text": [
      "22\n",
      "23\n",
      "52\n",
      "-1\n"
     ]
    }
   ],
   "source": [
    "def getMaxCircularSubarraySum(arr,n):\n",
    "    if n==1:\n",
    "        return arr[0]\n",
    "\n",
    "    curr_max=arr[0]\n",
    "    max_so_far=arr[0]\n",
    "    curr_min=arr[0]\n",
    "    min_so_far=arr[0]\n",
    "    total=arr[0]\n",
    "\n",
    "    for i in range(1,n):\n",
    "        total+=arr[i]\n",
    "\n",
    "        curr_max=max(curr_max+arr[i],arr[i])\n",
    "        max_so_far=max(max_so_far,curr_max)\n",
    "\n",
    "        curr_min=min(curr_min+arr[i],arr[i])\n",
    "        min_so_far=min(min_so_far,curr_min)\n",
    "\n",
    "    if min_so_far==total:\n",
    "        return max_so_far\n",
    "    return max(max_so_far,total-min_so_far)\n",
    "\n",
    "if __name__ == '__main__':\n",
    "    arr=[8, -8, 9, -9, 10, -11, 12]\n",
    "    n=len(arr)\n",
    "    print(getMaxCircularSubarraySum(arr,n))\n",
    "    arr=[10, -3, -4, 7, 6, 5, -4, -1]\n",
    "    n=len(arr)\n",
    "    print(getMaxCircularSubarraySum(arr,n))\n",
    "    arr=[-1, 40, -14, 7, 6, 5, -4, -1]\n",
    "    n=len(arr)\n",
    "    print(getMaxCircularSubarraySum(arr,n))\n",
    "    arr=[-6,-2,-3,-4,-5,-1,-7]\n",
    "    n=len(arr)\n",
    "    print(getMaxCircularSubarraySum(arr,n))"
   ]
  },
  {
   "cell_type": "markdown",
   "metadata": {},
   "source": [
    "Time Complexity O(n) and Space Complexity O(1)"
   ]
  },
  {
   "cell_type": "markdown",
   "metadata": {},
   "source": [
    "# Construction of Longest Increasing Subsequence (N log N)"
   ]
  },
  {
   "cell_type": "markdown",
   "metadata": {},
   "source": [
    "Dynamic Programming Approach"
   ]
  },
  {
   "cell_type": "code",
   "execution_count": 4,
   "metadata": {},
   "outputs": [
    {
     "name": "stdout",
     "output_type": "stream",
     "text": [
      "LIS array -> [1, 2, 2, 3, 4, 4, 5, 6, 3]\n",
      "fromElement array -> [-1, 0, 0, 1, 3, 3, 5, 6, 1]\n",
      "max length of LIS is 6\n",
      "max index of lis is 7\n",
      "\n",
      "13 10 8 7 5 2 "
     ]
    }
   ],
   "source": [
    "def getLIS(arr,n):\n",
    "    LIS=[1 for i in range(n)]\n",
    "    fromElement=[-1 for i in range(n)]\n",
    "    maxLIS=1\n",
    "    for i in range(1,n):\n",
    "        for j in range(i):\n",
    "            if arr[j]<arr[i]:\n",
    "                if 1+LIS[j]>LIS[i]:\n",
    "                    LIS[i]=1+LIS[j]\n",
    "                    fromElement[i]=j\n",
    "                    if maxLIS<LIS[i]:\n",
    "                        maxLIS=LIS[i]\n",
    "                        maxIndex=i\n",
    "    print(f\"LIS array -> {LIS}\")\n",
    "    print(f\"fromElement array -> {fromElement}\")\n",
    "    print(f\"max length of LIS is {maxLIS}\")\n",
    "    print(f\"max index of lis is {maxIndex}\")\n",
    "    print()\n",
    "    i=maxIndex\n",
    "    while i!=-1:\n",
    "        print(arr[i],end=\" \")\n",
    "        i=fromElement[i]\n",
    "\n",
    "if __name__ == '__main__':\n",
    "    arr=[ 2, 5, 3, 7, 11, 8, 10, 13, 6 ]\n",
    "    n=len(arr)\n",
    "    getLIS(arr,n)\n"
   ]
  },
  {
   "cell_type": "markdown",
   "metadata": {},
   "source": [
    "Check the nlogn approach if time"
   ]
  },
  {
   "cell_type": "markdown",
   "metadata": {},
   "source": [
    "# Sort elements by frequency "
   ]
  },
  {
   "cell_type": "code",
   "execution_count": 5,
   "metadata": {},
   "outputs": [
    {
     "name": "stdout",
     "output_type": "stream",
     "text": [
      "[3, 3, 3, 3, 2, 2, 2, 12, 12, 4, 5]\n"
     ]
    }
   ],
   "source": [
    "def sortArray(arr,n):\n",
    "    hash={}\n",
    "    for i in range(n):\n",
    "        if arr[i] in hash:\n",
    "            hash[arr[i]]+=1\n",
    "        else:\n",
    "            hash[arr[i]]=1\n",
    "    # for i in hash.items():\n",
    "    #     print(i)\n",
    "    hash=sorted(hash.items(), key=lambda x: x[1],reverse=True)\n",
    "    # print(hash)\n",
    "    k=0\n",
    "    for i in range(len(hash)):\n",
    "        for _ in range(hash[i][1]):\n",
    "            arr[k]=hash[i][0]\n",
    "            k+=1\n",
    "    print(arr)\n",
    "\n",
    "if __name__ == '__main__':\n",
    "    arr=[2, 3, 2, 4, 5, 12, 2, 3, 3, 3, 12]\n",
    "    n=len(arr)\n",
    "    sortArray(arr,n)"
   ]
  },
  {
   "cell_type": "markdown",
   "metadata": {},
   "source": [
    "Time Complexity O(nlogn)"
   ]
  },
  {
   "cell_type": "markdown",
   "metadata": {},
   "source": [
    "# Maximize sum of consecutive differences in a circular array"
   ]
  },
  {
   "cell_type": "markdown",
   "metadata": {},
   "source": [
    "We can rearrange elements in such fashion and then calculate the maximum sum of consecutive difference."
   ]
  },
  {
   "cell_type": "code",
   "execution_count": 6,
   "metadata": {},
   "outputs": [
    {
     "name": "stdout",
     "output_type": "stream",
     "text": [
      "18\n",
      "10\n"
     ]
    }
   ],
   "source": [
    "def getMaxSumOfConsecutiveDifference(arr,n):\n",
    "    arr.sort()\n",
    "    min_index=0\n",
    "    max_index=n-1\n",
    "    max_ele=arr[n-1]+1\n",
    "    for i in range(n):\n",
    "        if i%2==0:\n",
    "            # place max ele\n",
    "            arr[i]+=(arr[max_index]%max_ele)*max_ele\n",
    "            max_index-=1\n",
    "        else:\n",
    "            # place min ele\n",
    "            arr[i]+=(arr[min_index]%max_ele)*max_ele\n",
    "            min_index+=1\n",
    "    # print(arr)\n",
    "    for i in range(n):\n",
    "        arr[i]=arr[i]//max_ele\n",
    "    total=0\n",
    "    for i in range(1,n):\n",
    "        total+=abs(arr[i]-arr[i-1])\n",
    "    total+=abs(arr[n-1]-arr[0])\n",
    "    return total\n",
    "\n",
    "if __name__ == '__main__':\n",
    "    arr=[4, 2, 1, 8]\n",
    "    n=len(arr)\n",
    "    print(getMaxSumOfConsecutiveDifference(arr,n))\n",
    "    arr=[ 10, 12, 15 ]\n",
    "    n=len(arr)\n",
    "    print(getMaxSumOfConsecutiveDifference(arr,n))\n"
   ]
  },
  {
   "cell_type": "markdown",
   "metadata": {},
   "source": [
    "Time Complexity O(nlogn)"
   ]
  },
  {
   "cell_type": "markdown",
   "metadata": {},
   "source": [
    "# Sort an array according to the order defined by another array"
   ]
  },
  {
   "cell_type": "markdown",
   "metadata": {},
   "source": [
    "Approach-> Hashing"
   ]
  },
  {
   "cell_type": "code",
   "execution_count": 1,
   "metadata": {},
   "outputs": [
    {
     "name": "stdout",
     "output_type": "stream",
     "text": [
      "[2, 2, 1, 1, 8, 8, 3, 5, 6, 7, 9]\n"
     ]
    }
   ],
   "source": [
    "def sortArray(arr,arr2):\n",
    "    elementsNotPresent=[]\n",
    "    hashArr2={}\n",
    "    hashArr1={}\n",
    "    for i in arr2:\n",
    "        if i in hashArr2:\n",
    "            hashArr2[i]+=1\n",
    "        else:\n",
    "            hashArr2[i]=1\n",
    "    for i in arr:\n",
    "        if i in hashArr2:\n",
    "            if i in hashArr1:\n",
    "                hashArr1[i]+=1\n",
    "            else:\n",
    "                hashArr1[i]=1\n",
    "        else:\n",
    "            elementsNotPresent.append(i)\n",
    "\n",
    "    # print(hashArr1)\n",
    "    elementsNotPresent.sort()\n",
    "    k=0\n",
    "    for i in range(len(arr2)):\n",
    "        for _ in range(hashArr1[arr2[i]]):\n",
    "            arr[k]=arr2[i]\n",
    "            k+=1\n",
    "    for i in range(len(elementsNotPresent)):\n",
    "        arr[k]=elementsNotPresent[i]\n",
    "        k+=1\n",
    "    print(arr)\n",
    "\n",
    "if __name__ == '__main__':\n",
    "    arr=[2, 1, 2, 5, 7, 1, 9, 3, 6, 8, 8]\n",
    "    arr2=[2, 1, 8, 3]\n",
    "    sortArray(arr,arr2)\n"
   ]
  },
  {
   "cell_type": "markdown",
   "metadata": {},
   "source": [
    "# Find Index of 0 to be replaced with 1 to get longest continuous sequence of 1s in a binary array"
   ]
  },
  {
   "cell_type": "markdown",
   "metadata": {},
   "source": [
    "Simple Approach could be to have 2 arrays which keep track of the continous number of 1 on left side of zero and another array couuld keep track of the continous number of 1s on the right side, and for each index we can calculate the max length we can achieve"
   ]
  },
  {
   "cell_type": "code",
   "execution_count": 2,
   "metadata": {},
   "outputs": [
    {
     "name": "stdout",
     "output_type": "stream",
     "text": [
      "4\n"
     ]
    }
   ],
   "source": [
    "def getIndex(arr,n):\n",
    "    maxContinousRight=[-1]*n\n",
    "    maxContinousLeft=[-1]*n\n",
    "    countOfOne=0\n",
    "    for i in range(n):\n",
    "        if arr[i]==1:\n",
    "            countOfOne+=1\n",
    "            continue\n",
    "        else:\n",
    "            maxContinousLeft[i]=countOfOne\n",
    "            countOfOne=0\n",
    "    countOfOne=0\n",
    "    for i in range(n-1,-1,-1):\n",
    "        if arr[i]==1:\n",
    "            countOfOne+=1\n",
    "            continue\n",
    "        else:\n",
    "            maxContinousRight[i]=countOfOne\n",
    "            countOfOne=0\n",
    "    index=0\n",
    "    maxSubsequence=0\n",
    "    for i in range(n):\n",
    "        if arr[i]==0:\n",
    "            if maxSubsequence<maxContinousLeft[i]+maxContinousRight[i]:\n",
    "                maxSubsequence=maxContinousLeft[i]+maxContinousRight[i]\n",
    "                index=i\n",
    "    return index\n",
    "\n",
    "\n",
    "if __name__ == '__main__':\n",
    "    # arr=[1, 1, 0, 0, 1, 0, 1, 1, 1, 0, 1, 1, 1]\n",
    "    arr=[1, 1, 1, 1, 0]\n",
    "    print(getIndex(arr,len(arr)))\n"
   ]
  },
  {
   "cell_type": "markdown",
   "metadata": {},
   "source": [
    "Time Complexity O(n) and Space Complexity O(n)"
   ]
  },
  {
   "cell_type": "markdown",
   "metadata": {},
   "source": [
    "Another Approach -> Sliding Window"
   ]
  },
  {
   "cell_type": "code",
   "execution_count": 1,
   "metadata": {},
   "outputs": [
    {
     "name": "stdout",
     "output_type": "stream",
     "text": [
      "9\n"
     ]
    }
   ],
   "source": [
    "def getIndex(arr,n):\n",
    "    index=None\n",
    "    start=0\n",
    "    count=0\n",
    "    max_len=float('-infinity')\n",
    "    resultIndex=None\n",
    "    for i in range(n):\n",
    "        if arr[i]==0:\n",
    "            count+=1\n",
    "            index=i\n",
    "        if count>1:\n",
    "            while count>1:\n",
    "                if arr[start]==0:\n",
    "                    start+=1\n",
    "                    count-=1\n",
    "                else:\n",
    "                    start+=1\n",
    "        if i-start+1>max_len and index:\n",
    "            resultIndex=index\n",
    "            max_len=i-start+1\n",
    "    return resultIndex\n",
    "\n",
    "\n",
    "if __name__ == '__main__':\n",
    "    arr=[1, 1, 0, 0, 1, 0, 1, 1, 1, 0, 1, 1, 1]\n",
    "    # arr=[1,1,1,1,0]\n",
    "    n=len(arr)\n",
    "    print(getIndex(arr,n))\n"
   ]
  },
  {
   "cell_type": "markdown",
   "metadata": {},
   "source": [
    "Time Complexity O(n) and Space Complexity O(1)"
   ]
  },
  {
   "cell_type": "markdown",
   "metadata": {},
   "source": [
    "# Three way partitioning of an array around a given range"
   ]
  },
  {
   "cell_type": "markdown",
   "metadata": {},
   "source": [
    "Approach-> Dutch National Flag algorithm for partitioning"
   ]
  },
  {
   "cell_type": "code",
   "execution_count": 2,
   "metadata": {},
   "outputs": [
    {
     "name": "stdout",
     "output_type": "stream",
     "text": [
      "[1, 14, 5, 20, 4, 2, 15, 20, 17, 98, 3, 1, 32]\n",
      "[1, 5, 4, 2, 1, 3, 15, 20, 17, 14, 20, 32, 98]\n"
     ]
    }
   ],
   "source": [
    "def rearrangeArray(arr,n,lowVal,highVal):\n",
    "    low=0\n",
    "    high=n-1\n",
    "    mid=0\n",
    "    while mid<=high:\n",
    "        if arr[mid]<lowVal:\n",
    "            arr[mid],arr[low]=arr[low],arr[mid]\n",
    "            mid+=1\n",
    "            low+=1\n",
    "        elif arr[mid]>highVal:\n",
    "            arr[mid],arr[high]=arr[high],arr[mid]\n",
    "            high-=1\n",
    "        else:\n",
    "            mid+=1\n",
    "\n",
    "if __name__ == '__main__':\n",
    "    arr=[1, 14, 5, 20, 4, 2, 15, 20, 17, 98, 3, 1, 32]\n",
    "    lowVal=14\n",
    "    highVal=20\n",
    "    print(arr)\n",
    "    rearrangeArray(arr,len(arr),lowVal,highVal)\n",
    "    print(arr)\n"
   ]
  },
  {
   "cell_type": "markdown",
   "metadata": {},
   "source": [
    "Time Complexity O(n) and Space Complexity O(1)"
   ]
  },
  {
   "cell_type": "code",
   "execution_count": null,
   "metadata": {},
   "outputs": [],
   "source": []
  },
  {
   "cell_type": "code",
   "execution_count": null,
   "metadata": {},
   "outputs": [],
   "source": []
  },
  {
   "cell_type": "markdown",
   "metadata": {},
   "source": [
    "# 3) Order Statistics"
   ]
  },
  {
   "cell_type": "markdown",
   "metadata": {},
   "source": [
    "# K’th Smallest/Largest Element in Unsorted Array"
   ]
  },
  {
   "cell_type": "markdown",
   "metadata": {},
   "source": [
    "<strong>Approach 1-></strong>\n",
    "\n",
    "sort the array and return the k-1 element O(nlogn)"
   ]
  },
  {
   "cell_type": "code",
   "execution_count": 1,
   "metadata": {},
   "outputs": [
    {
     "name": "stdout",
     "output_type": "stream",
     "text": [
      "7\n"
     ]
    }
   ],
   "source": [
    "def getKSmallest(arr,k):\n",
    "    arr.sort()\n",
    "    return arr[k-1]\n",
    "\n",
    "\n",
    "if __name__ == '__main__':\n",
    "    arr=[7, 10, 4, 3, 20, 15]\n",
    "    k=3\n",
    "    print(getKSmallest(arr,k))\n"
   ]
  },
  {
   "cell_type": "markdown",
   "metadata": {},
   "source": [
    "Time Complexity - O(nlogn)"
   ]
  },
  {
   "cell_type": "markdown",
   "metadata": {},
   "source": [
    "<strong>Concept -</strong> sorting"
   ]
  },
  {
   "cell_type": "markdown",
   "metadata": {},
   "source": [
    "Another Approach could be to use Binary Search Tree, **NEED TO CHECK ON THIS**"
   ]
  },
  {
   "cell_type": "markdown",
   "metadata": {},
   "source": [
    "<strong>Approach 2 -> Using minheap</strong>"
   ]
  },
  {
   "cell_type": "code",
   "execution_count": 2,
   "metadata": {},
   "outputs": [
    {
     "name": "stdout",
     "output_type": "stream",
     "text": [
      "7\n"
     ]
    }
   ],
   "source": [
    "from heapq import heapify,heappop\n",
    "def getKSmallest(arr,k):\n",
    "    heapify(arr) #O(n)\n",
    "    for i in range(k):\n",
    "        ele=heappop(arr)#O(logn)\n",
    "    return ele\n",
    "\n",
    "if __name__ == '__main__':\n",
    "    arr=[7, 10, 4, 3, 20, 15]\n",
    "    k=3\n",
    "    print(getKSmallest(arr,k))\n"
   ]
  },
  {
   "cell_type": "markdown",
   "metadata": {},
   "source": [
    "**Without Using Library Function**"
   ]
  },
  {
   "cell_type": "code",
   "execution_count": 1,
   "metadata": {},
   "outputs": [
    {
     "name": "stdout",
     "output_type": "stream",
     "text": [
      "7\n"
     ]
    }
   ],
   "source": [
    "def heapify(arr,n,i):\n",
    "    left=2*i+1\n",
    "    right=2*i+2\n",
    "    if left<n and arr[i]>arr[left]:\n",
    "        smallest=left\n",
    "    else:\n",
    "        smallest=i\n",
    "    if right<n and arr[smallest]>arr[right]:\n",
    "        smallest=right\n",
    "    if smallest!=i:\n",
    "        arr[smallest],arr[i]=arr[i],arr[smallest]\n",
    "        heapify(arr,n,smallest)\n",
    "\n",
    "def buildHeap(arr,n):\n",
    "    for i in range(n//2-1,-1,-1):\n",
    "        heapify(arr,n,i)\n",
    "\n",
    "def getMin(arr,n):\n",
    "    result=arr[0]\n",
    "    arr[0]=float('infinity')\n",
    "    heapify(arr,n,0)\n",
    "    return result\n",
    "\n",
    "def getKSmallest(arr,k):\n",
    "    n=len(arr)\n",
    "    buildHeap(arr,n)\n",
    "    for i in range(k):\n",
    "        result=getMin(arr,n)\n",
    "    return result\n",
    "\n",
    "if __name__ == '__main__':\n",
    "    arr=[7, 10, 4, 3, 20, 15]\n",
    "    k=3\n",
    "    # Kth Smallest\n",
    "    print(getKSmallest(arr,k))\n"
   ]
  },
  {
   "cell_type": "markdown",
   "metadata": {},
   "source": [
    "Time Complexity O(n+klogn)"
   ]
  },
  {
   "cell_type": "markdown",
   "metadata": {},
   "source": [
    "<strong>Concept-</strong> minheap and heapselect"
   ]
  },
  {
   "cell_type": "markdown",
   "metadata": {},
   "source": [
    "Time Complexity- O(n+klogn), O(n) for building the heap and k*log(n)[log(n) time to extract the minimum element and we do it k times]"
   ]
  },
  {
   "cell_type": "markdown",
   "metadata": {},
   "source": [
    "<strong>Approach 3 -> Using max heap</strong>"
   ]
  },
  {
   "cell_type": "markdown",
   "metadata": {},
   "source": [
    "<pre>\n",
    "1) Build a Max-Heap MH of the first k elements (arr[0] to arr[k-1]) of the given array. O(k)\n",
    "\n",
    "2) For each element, after the k’th element (arr[k] to arr[n-1]), compare it with root of MH.\n",
    "……a) If the element is less than the root then make it root and call heapify for MH\n",
    "……b) Else ignore it.\n",
    "// The step 2 is O((n-k)*logk)\n",
    "\n",
    "3) Finally, root of the MH is the kth smallest element.\n",
    "</pre>"
   ]
  },
  {
   "cell_type": "code",
   "execution_count": 4,
   "metadata": {},
   "outputs": [
    {
     "name": "stdout",
     "output_type": "stream",
     "text": [
      "7\n"
     ]
    }
   ],
   "source": [
    "from heapq import _heapify_max,_heappop_max\n",
    "def getKSmallest(arr,k):\n",
    "    heap=[arr[i] for i in range(k)]\n",
    "    # print(heap)\n",
    "    _heapify_max(heap)# O(k)\n",
    "    for i in range(k,len(arr)):\n",
    "        # O(n-k)log(k)\n",
    "        if arr[i]<heap[0]:\n",
    "            heap[0]=arr[i]\n",
    "            _heapify_max(heap)\n",
    "    return heap[0]\n",
    "\n",
    "\n",
    "if __name__ == '__main__':\n",
    "    arr=[7, 10, 4, 3, 20, 15]\n",
    "    k=3\n",
    "    print(getKSmallest(arr,k))\n"
   ]
  },
  {
   "cell_type": "markdown",
   "metadata": {},
   "source": [
    "Largest element in a heap of size k is the kth smallest element"
   ]
  },
  {
   "cell_type": "markdown",
   "metadata": {},
   "source": [
    "Time Complexity - O(k+(n-k)log(k))"
   ]
  },
  {
   "cell_type": "markdown",
   "metadata": {},
   "source": [
    "<strong>Concept -></strong>  Maintaining a max heap and creating a heap of k size"
   ]
  },
  {
   "cell_type": "markdown",
   "metadata": {},
   "source": [
    "**Without Library Functions**"
   ]
  },
  {
   "cell_type": "code",
   "execution_count": 2,
   "metadata": {},
   "outputs": [
    {
     "name": "stdout",
     "output_type": "stream",
     "text": [
      "7\n"
     ]
    }
   ],
   "source": [
    "def maxHeapify(arr,n,index):\n",
    "    left=2*index+1\n",
    "    right=2*index+2\n",
    "    if left<n and arr[left]>arr[index]:\n",
    "        largest=left\n",
    "    else:\n",
    "        largest=index\n",
    "    if right<n and arr[right]>arr[largest]:\n",
    "        largest=right\n",
    "    if largest!=index:\n",
    "        arr[largest],arr[index]=arr[index],arr[largest]\n",
    "        maxHeapify(arr, n, largest)\n",
    "\n",
    "def buildHeap(arr,n):\n",
    "    for i in range(n//2-1,-1,-1):\n",
    "        maxHeapify(arr,n,i)\n",
    "\n",
    "def getKSmallest(arr,n,k):\n",
    "    hArr=[]\n",
    "    for i in range(k):\n",
    "        hArr.append(arr[i])\n",
    "\n",
    "    buildHeap(hArr,k)\n",
    "    \n",
    "    for i in range(k,n):\n",
    "        if arr[i]<hArr[0]:\n",
    "            hArr[0]=arr[i]\n",
    "            maxHeapify(hArr,k,0)\n",
    "    return hArr[0]\n",
    "\n",
    "\n",
    "if __name__ == '__main__':\n",
    "    arr=[7,10,4,3,20,15]\n",
    "    n=len(arr)\n",
    "    k=3\n",
    "    print(getKSmallest(arr,n,k))\n"
   ]
  },
  {
   "cell_type": "markdown",
   "metadata": {},
   "source": [
    "Time Complexity O(k + (n-k)logk)"
   ]
  },
  {
   "cell_type": "markdown",
   "metadata": {},
   "source": [
    "<strong>Approach 4-> Quick Select</strong>"
   ]
  },
  {
   "cell_type": "markdown",
   "metadata": {},
   "source": [
    "<pre>\n",
    "This is an optimization over method 1 if QuickSort is used as a sorting algorithm in first step. In QuickSort, we pick a pivot element, then move the pivot element to its correct position and partition the array around it. The idea is, not to do complete quicksort, but stop at the point where pivot itself is k’th smallest element. Also, not to recur for both left and right sides of pivot, but recur for one of them according to the position of pivot. The worst case time complexity of this method is O(n2), but it works in O(n) on average.</pre>"
   ]
  },
  {
   "cell_type": "code",
   "execution_count": 3,
   "metadata": {},
   "outputs": [
    {
     "name": "stdout",
     "output_type": "stream",
     "text": [
      "10\n"
     ]
    }
   ],
   "source": [
    "# QUICKSELECT\n",
    "\n",
    "def partition(arr,low,high,pivot):\n",
    "    j=-1\n",
    "    for i in range(high):\n",
    "        if arr[i]<pivot:\n",
    "            j+=1\n",
    "            arr[i],arr[j]=arr[j],arr[i]\n",
    "    arr[j+1],arr[high]=arr[high],arr[j+1]\n",
    "    return j+1\n",
    "\n",
    "\n",
    "def quickSelect(arr,k,low,high):\n",
    "    pivot=arr[high]\n",
    "    pi=partition(arr,low,high,pivot)\n",
    "    if pi>k:\n",
    "        return quickSelect(arr,k,low,pi-1)\n",
    "    elif pi<k:\n",
    "        return quickSelect(arr,k,pi+1,high)\n",
    "    else:\n",
    "        return arr[pi]\n",
    "\n",
    "def getKSmallest(arr,k,n):\n",
    "    return quickSelect(arr,k-1,0,n-1)\n",
    "\n",
    "if __name__ == '__main__':\n",
    "    # arr=[7,0,25,6,16,17,0]\n",
    "    arr=[7, 10, 4, 3, 20, 15]\n",
    "    k=4\n",
    "    print(getKSmallest(arr,k,len(arr)))\n"
   ]
  },
  {
   "cell_type": "markdown",
   "metadata": {},
   "source": [
    "<pre>\n",
    "Best case - [1,2,5,4,3], where after one partition 3 moves to the kth position\n",
    "Worst Case - [1,2,3,4,5], where we have to find the 1st largest element\n",
    "</pre>"
   ]
  },
  {
   "cell_type": "markdown",
   "metadata": {},
   "source": [
    "Time Complexity O(n^2) in worst case and O(n) in best case"
   ]
  },
  {
   "cell_type": "markdown",
   "metadata": {},
   "source": [
    "<strong>Approach 5-></strong>\n",
    "\n",
    "Bubble Sort, run it for k times, Time Complexity - O(nk)"
   ]
  },
  {
   "cell_type": "markdown",
   "metadata": {},
   "source": [
    "# K’th Smallest/Largest Element in Unsorted Array (Worst Case Linear Time)"
   ]
  },
  {
   "cell_type": "markdown",
   "metadata": {},
   "source": [
    "Important"
   ]
  },
  {
   "cell_type": "markdown",
   "metadata": {},
   "source": [
    "# Kth smallest element in a row-wise and column-wise sorted 2D array | Set 1"
   ]
  },
  {
   "cell_type": "markdown",
   "metadata": {},
   "source": [
    "Brute Force Approach would be to create a array out of the matrix and sort the array and find the kth smallest/largest element. Time Complexity -> n^logn^2 and Space Complexity -> O(n^2)"
   ]
  },
  {
   "cell_type": "markdown",
   "metadata": {},
   "source": [
    "Efficient Approach-> MinHeap"
   ]
  },
  {
   "cell_type": "markdown",
   "metadata": {},
   "source": [
    "<pre>\n",
    "Algorithm:\n",
    "\n",
    "1) The idea is to use min heap. Create a Min-Heap to store the elements\n",
    "2) Traverse the first row from start to end and build a min heap of elements from first row. A heap entry also stores row number and column number.\n",
    "3) Now Run a loop k times to extract min element from heap in each iteration\n",
    "4) Get minimum element (or root) from Min-Heap.\n",
    "5) Find row number and column number of the minimum element.\n",
    "6) Replace root with the next element from same column and min-heapify the root.\n",
    "7) Print the last extracted element, which is the kth minimum element\n",
    "</pre>"
   ]
  },
  {
   "cell_type": "code",
   "execution_count": 4,
   "metadata": {},
   "outputs": [
    {
     "name": "stdout",
     "output_type": "stream",
     "text": [
      "30\n"
     ]
    }
   ],
   "source": [
    "class HeapNode:\n",
    "    def __init__(self,data,r,c):\n",
    "        self.data=data\n",
    "        self.r=r\n",
    "        self.c=c\n",
    "\n",
    "def buildHeap(hArr,n):\n",
    "    for i in range(n//2-1,-1,-1):\n",
    "        heapify(hArr,i,n)\n",
    "\n",
    "def heapify(hArr,index,n):\n",
    "    left=2*index+1\n",
    "    right=2*index+2\n",
    "    if left<n and hArr[left].data<hArr[index].data:\n",
    "        smallest=left\n",
    "    else:\n",
    "        smallest=index\n",
    "    if right<n and hArr[right].data<hArr[smallest].data:\n",
    "        smallest=right\n",
    "    if smallest!=index:\n",
    "        hArr[smallest],hArr[index]=hArr[index],hArr[smallest]\n",
    "        heapify(hArr,smallest,n)\n",
    "\n",
    "def getKSmallest(arr,k,n):\n",
    "    hArr=[0]*n\n",
    "    for i in range(n):\n",
    "        hArr[i]=HeapNode(arr[0][i],0,i)\n",
    "    buildHeap(hArr,n)\n",
    "    hr=HeapNode(0,0,0)\n",
    "    for i in range(k):\n",
    "        hr=hArr[0]\n",
    "        if hr.r+1<n-1:\n",
    "            nextVal=arr[hr.r+1][hr.c]\n",
    "        else:\n",
    "            nextVal=float('infinity')\n",
    "        hArr[0]=HeapNode(nextVal,hr.r+1,hr.c)\n",
    "        heapify(hArr,0,n)\n",
    "    return hr.data\n",
    "\n",
    "\n",
    "if __name__ == '__main__':\n",
    "    arr=[[10, 20, 30, 40], [15, 25, 35, 45], [25, 29, 37, 48], [32, 33, 39, 50]]\n",
    "    print(getKSmallest(arr,7,len(arr)))\n"
   ]
  },
  {
   "cell_type": "markdown",
   "metadata": {},
   "source": [
    "Time Complexity O(n+klogn) and Space Complexity O(r) where r is the number of rows"
   ]
  },
  {
   "cell_type": "markdown",
   "metadata": {},
   "source": [
    "# Program to find largest element in an array"
   ]
  },
  {
   "cell_type": "markdown",
   "metadata": {},
   "source": [
    "<pre>\n",
    "<strong>Approach 1 -></strong> Initialize the max variable and loop through the array comparing the element with the max variable O(n)\n",
    "\n",
    "<strong>Approach 2 -></strong> Bubble sort the array 1 time, the max element will be at the last position O(n)\n",
    "\n",
    "<strong>Approach 3 -></strong> Max Heap O(n+log(n)) n time to build the max heap and log(n) time as we are extracting the element and calling the heapify one time\n",
    "\n",
    "<strong>Approach 4 -></strong> Sort the array in O(nlogn) time and return the last element\n",
    "</pre>"
   ]
  },
  {
   "cell_type": "markdown",
   "metadata": {},
   "source": [
    "# Find the largest three elements in an array"
   ]
  },
  {
   "cell_type": "markdown",
   "metadata": {},
   "source": [
    "<pre>\n",
    "<strong>Approach 1 -></strong> Initialize 3 variables and loop through the array comparing the element with the these variables O(n) and O(1) extra space\n",
    "\n",
    "<strong>Approach 2 -></strong> Bubble sort the array 3 times, the max element will be at the last 3 positions O(3n)\n",
    "\n",
    "<strong>Approach 3 -></strong> Min Heap meathod, create a min heap of size 3, the compare eah element in the array with the root, if the element is greater than replace the root and call min heapify, all the elements in the heap at the end are the 3 largest elements.\n",
    "\n",
    "<strong>Approach 4 -></strong> Sort the array in O(nlogn) time and return the last 3 elements\n",
    "</pre>"
   ]
  },
  {
   "cell_type": "markdown",
   "metadata": {},
   "source": [
    "o(n) approach with O(1) space complexity"
   ]
  },
  {
   "cell_type": "code",
   "execution_count": 1,
   "metadata": {},
   "outputs": [
    {
     "name": "stdout",
     "output_type": "stream",
     "text": [
      "The largest element is 90, second largest element is 50 and third largest element is 23\n"
     ]
    }
   ],
   "source": [
    "def getThreeLargestElements(arr,n):\n",
    "    largest=float('-infinity')\n",
    "    secondlargest=float('-infinity')\n",
    "    thirdlargest=float('-infinity')\n",
    "    for i in range(n):\n",
    "        if arr[i]>largest:\n",
    "            thirdlargest=secondlargest\n",
    "            secondlargest=largest\n",
    "            largest=arr[i]\n",
    "        elif arr[i]>secondlargest:\n",
    "            thirdlargest=secondlargest\n",
    "            secondlargest=arr[i]\n",
    "        elif arr[i]>thirdlargest:\n",
    "            thirdlargest=arr[i]\n",
    "    return (largest,secondlargest,thirdlargest)\n",
    "\n",
    "if __name__ == '__main__':\n",
    "    arr=[10, 4, 3, 50, 23, 90]\n",
    "    n=len(arr)\n",
    "    result=getThreeLargestElements(arr,n)\n",
    "    print(f'The largest element is {result[0]}, second largest element is {result[1]} and third largest element is {result[2]}')\n"
   ]
  },
  {
   "cell_type": "markdown",
   "metadata": {},
   "source": [
    "# Find all elements in array which have at-least two greater elements"
   ]
  },
  {
   "cell_type": "markdown",
   "metadata": {},
   "source": [
    "<pre>\n",
    "<strong>Approach 1 -></strong> Initialize 2 variables and find second maximum element, loop through the array and print only the elements smaller than the second max element\n",
    "\n",
    "<strong>Approach 2 -></strong> Run 2 loops and check for each element\n",
    "\n",
    "<strong>Approach 3 -></strong>Build a max heap and extract 2 elements, print all the rest\n",
    "\n",
    "<strong>Approach 4 -></strong> Sort the array in O(nlogn) time and return the last n-2 elements\n",
    "</pre>"
   ]
  },
  {
   "cell_type": "code",
   "execution_count": 3,
   "metadata": {},
   "outputs": [
    {
     "name": "stdout",
     "output_type": "stream",
     "text": [
      "2 1 5 "
     ]
    }
   ],
   "source": [
    "def getLargest(arr):\n",
    "    max=float('-infinity')\n",
    "    secMax=float('-infinity')\n",
    "\n",
    "    for i in arr:\n",
    "        if i>max:\n",
    "            secMax=max\n",
    "            max=i\n",
    "        elif i>secMax:\n",
    "            secMax=i\n",
    "    for i in arr:\n",
    "        if i<secMax:\n",
    "            print(i,end=\" \")\n",
    "\n",
    "if __name__ == '__main__':\n",
    "    arr=[2,8,7,1,5]\n",
    "    getLargest(arr)\n"
   ]
  },
  {
   "cell_type": "markdown",
   "metadata": {},
   "source": [
    "# Program for Mean and median of an unsorted array"
   ]
  },
  {
   "cell_type": "markdown",
   "metadata": {},
   "source": [
    "Mean is the (sum of all the elements)/(total number of elements). Median of the sorted array is the middle element if there are even number of elements and if number of elements are odd then median is the average of the two middle elements"
   ]
  },
  {
   "cell_type": "markdown",
   "metadata": {},
   "source": [
    "Time Complexity -> for mean -> O(n) and for median -> O(nlogn) as it requires us to sort the elements"
   ]
  },
  {
   "cell_type": "markdown",
   "metadata": {},
   "source": [
    "# Median of Stream of Running Integers"
   ]
  },
  {
   "cell_type": "markdown",
   "metadata": {},
   "source": [
    "Given that integers are being read from a data stream. Find the median of all the elements read so far starting from the first integer till the last integer. This is also called the Median of Running Integers. The data stream can be any source of data, for example, a file, an array of integers, input stream etc."
   ]
  },
  {
   "cell_type": "markdown",
   "metadata": {},
   "source": [
    "<pre>\n",
    "Algorithm: \n",
    " \n",
    "\n",
    "1) Create two heaps. One max heap to maintain elements of lower half and one min heap to maintain elements of higher half at any point of time.\n",
    "Take initial value of median as 0.\n",
    "\n",
    "2) For every newly read element, insert it into either max heap or min-heap and calculate the median based on the following conditions: \n",
    "\n",
    "3) If the size of max heap is greater than the size of min-heap and the element is less than the previous median then pop the top element from max heap and insert into min-heap and insert the new element to max heap else insert the new element to min-heap. Calculate the new median as the average of top of elements of both max and min heap.\n",
    "\n",
    "4) If the size of max heap is less than the size of min-heap and the element is greater than the previous median then pop the top element from min-heap and insert into the max heap and insert the new element to min heap else insert the new element to the max heap. Calculate the new median as the average of top of elements of both max and min heap.\n",
    "\n",
    "5) If the size of both heaps is the same. Then check if the current is less than the previous median or not. If the current element is less than the previous median then insert it to the max heap and a new median will be equal to the top element of max heap. If the current element is greater than the previous median then insert it to min-heap and new median will be equal to the top element of min heap.\n",
    "\n",
    "</pre>"
   ]
  },
  {
   "cell_type": "code",
   "execution_count": 1,
   "metadata": {},
   "outputs": [
    {
     "name": "stdout",
     "output_type": "stream",
     "text": [
      "5\n",
      "10.0\n",
      "10\n",
      "12.5\n",
      "10\n"
     ]
    }
   ],
   "source": [
    "from heapq import heappush, heapify, _heapify_max, heappop, _heappop_max\n",
    "\n",
    "def getRunningMedian(arr):\n",
    "    n=len(arr)\n",
    "    maxHeap=[]\n",
    "    minHeap=[]\n",
    "    heapify(minHeap)\n",
    "    median=0\n",
    "    for i in range(n):\n",
    "        if len(maxHeap)==len(minHeap):\n",
    "            if arr[i]>median:\n",
    "                heappush(minHeap,arr[i])\n",
    "                median=minHeap[0]\n",
    "            else:\n",
    "                maxHeap.append(arr[i])\n",
    "                _heapify_max(maxHeap)\n",
    "                median=maxHeap[0]\n",
    "        elif len(minHeap)>len(maxHeap):\n",
    "            if arr[i]>median:\n",
    "                maxHeap.append(heappop(minHeap))\n",
    "                _heapify_max(maxHeap)\n",
    "                heappush(minHeap,arr[i])\n",
    "                median=(maxHeap[0]+minHeap[0])/2\n",
    "            else:\n",
    "                maxHeap.append(arr[i])\n",
    "                _heapify_max(maxHeap)\n",
    "                median=(maxHeap[0]+minHeap[0])/2\n",
    "        else:\n",
    "            if arr[i]>median:\n",
    "                heappush(minHeap,arr[i])\n",
    "                median=(maxHeap[0]+minHeap[0])/2\n",
    "            else:\n",
    "                heappush(_heappop_max(maxHeap))\n",
    "                maxHeap.append(arr[i])\n",
    "                _heapify_max(maxHeap)\n",
    "                median=(maxHeap[0]+minHeap[0])/2\n",
    "        print(median)\n",
    "\n",
    "if __name__ == '__main__':\n",
    "    arr=[5, 15, 10, 20, 3]\n",
    "    getRunningMedian(arr)\n"
   ]
  },
  {
   "cell_type": "markdown",
   "metadata": {},
   "source": [
    "Time Complexity O(nlogn) and Space Complexity O(n)"
   ]
  },
  {
   "cell_type": "markdown",
   "metadata": {},
   "source": [
    "# Minimum product of k integers in an array of positive Integers"
   ]
  },
  {
   "cell_type": "markdown",
   "metadata": {},
   "source": [
    "Simple Approach can be to sort the array and then get the product of first k elements."
   ]
  },
  {
   "cell_type": "code",
   "execution_count": 2,
   "metadata": {},
   "outputs": [
    {
     "name": "stdout",
     "output_type": "stream",
     "text": [
      "9348\n"
     ]
    }
   ],
   "source": [
    "def getMinProduct(arr,n,k):\n",
    "    result=1\n",
    "    arr.sort()\n",
    "    for i in range(k):\n",
    "        result*=arr[i]\n",
    "    return result\n",
    "\n",
    "if __name__ == '__main__':\n",
    "    arr=[198, 76, 544, 123, 154, 675]\n",
    "    n=len(arr)\n",
    "    k=2\n",
    "    print(getMinProduct(arr,n,k))\n"
   ]
  },
  {
   "cell_type": "markdown",
   "metadata": {},
   "source": [
    "Time Complexity O(nlogn)"
   ]
  },
  {
   "cell_type": "markdown",
   "metadata": {},
   "source": [
    "Another Approach (efficient one) could be to create a minheap and then remove the top k elements and return their product"
   ]
  },
  {
   "cell_type": "code",
   "execution_count": 3,
   "metadata": {},
   "outputs": [],
   "source": [
    "from heapq import heapify, heappop, heappush\n",
    "def getMinProduct(arr,n,k):\n",
    "    heapify(arr)\n",
    "    result=1\n",
    "    for i in range(k):\n",
    "        result*=heappop(arr)\n",
    "    return result\n",
    "\n",
    "\n",
    "if __name__ == '__main__':\n",
    "    arr=[198, 76, 544, 123, 154, 675]\n",
    "    n=len(arr)"
   ]
  },
  {
   "cell_type": "markdown",
   "metadata": {},
   "source": [
    "Time Complexity O(n+klogn)"
   ]
  },
  {
   "cell_type": "markdown",
   "metadata": {},
   "source": [
    "# K-th Largest Sum Contiguous Subarray"
   ]
  },
  {
   "cell_type": "markdown",
   "metadata": {},
   "source": [
    "Simple Approach is to run two loops and append sum of each subarray into annother list/array. Sort the array and return the kth largest sum"
   ]
  },
  {
   "cell_type": "code",
   "execution_count": 2,
   "metadata": {},
   "outputs": [
    {
     "name": "stdout",
     "output_type": "stream",
     "text": [
      "-10\n"
     ]
    }
   ],
   "source": [
    "def getLargestKContiguousSum(arr,n,k):\n",
    "    sums=[]\n",
    "    for i in range(n):\n",
    "        result=0\n",
    "        for j in range(i,n):\n",
    "            result+=arr[j]\n",
    "            sums.append(result)\n",
    "\n",
    "    sums.sort(reverse=True)\n",
    "    # print(sums)\n",
    "\n",
    "    return sums[k-1]\n",
    "\n",
    "if __name__ == '__main__':\n",
    "    # arr=[20,-5,-1]\n",
    "    arr=[10, -10, 20, -40]\n",
    "    k=6\n",
    "    n=len(arr)\n",
    "    print(getLargestKContiguousSum(arr,n,k))\n"
   ]
  },
  {
   "cell_type": "markdown",
   "metadata": {},
   "source": [
    "Time Complexity O(n^2 logn^2)"
   ]
  },
  {
   "cell_type": "markdown",
   "metadata": {},
   "source": [
    "**Efficient Approach -> Create a prefix sum array because using it we can easily find the sum of all subarrays, and we can maintain a minheap of size k and we can return the topmost element from the minheap which would eventually be the kth largest sum of subarray**"
   ]
  },
  {
   "cell_type": "code",
   "execution_count": 1,
   "metadata": {},
   "outputs": [
    {
     "name": "stdout",
     "output_type": "stream",
     "text": [
      "14\n",
      "-10\n"
     ]
    }
   ],
   "source": [
    "from heapq import heapify, heappush, heappop\n",
    "\n",
    "def getKLargestContiguousSum(arr,k,n):\n",
    "    heapArr=[]\n",
    "    heapify(heapArr)\n",
    "\n",
    "    prefixSum=[]\n",
    "    prefixSum.append(0)\n",
    "    for i in range(1,n+1):\n",
    "        prefixSum.append(arr[i-1]+prefixSum[i-1])\n",
    "\n",
    "    for i in range(1,n+1):\n",
    "        for j in range(i,n+1):\n",
    "            x=prefixSum[j]-prefixSum[i-1]\n",
    "            if len(heapArr)<k:\n",
    "                heappush(heapArr,x)\n",
    "            else:\n",
    "                if heapArr[0]<x:\n",
    "                    heappop(heapArr)\n",
    "                    heappush(heapArr,x)\n",
    "    return heapArr[0]\n",
    "\n",
    "if __name__ == '__main__':\n",
    "    arr=[20,-5,-1]\n",
    "    k=3\n",
    "    print(getKLargestContiguousSum(arr,k,len(arr)))\n",
    "    arr=[10,-10,20,-40]\n",
    "    k=6\n",
    "    print(getKLargestContiguousSum(arr,k,len(arr)))\n"
   ]
  },
  {
   "cell_type": "markdown",
   "metadata": {},
   "source": [
    "Time Complexity O(n^2logk) and Space Complexity O(n) for prefix sum array"
   ]
  },
  {
   "cell_type": "markdown",
   "metadata": {},
   "source": [
    "# K maximum sum combinations from two arrays"
   ]
  },
  {
   "cell_type": "markdown",
   "metadata": {},
   "source": [
    "Brute force approach will be to run two loops and maintain a minheap of size k so we can get k maximum sum combinations at the end."
   ]
  },
  {
   "cell_type": "code",
   "execution_count": 1,
   "metadata": {},
   "outputs": [
    {
     "name": "stdout",
     "output_type": "stream",
     "text": [
      "6\n",
      "7\n",
      "\n",
      "10\n",
      "12\n",
      "13\n"
     ]
    }
   ],
   "source": [
    "from heapq import heapify, heappush, heappop\n",
    "\n",
    "def getKMaxSumCombinations(a,b,n,k):\n",
    "    heapArr=[]\n",
    "    heapify(heapArr)\n",
    "    for i in range(n):\n",
    "        for j in range(n):\n",
    "            sum=a[i]+b[j]\n",
    "            if len(heapArr)<k:\n",
    "                heappush(heapArr,sum)\n",
    "            else:\n",
    "                if heapArr[0]<sum:\n",
    "                    heapArr[0]=sum\n",
    "                    heapify(heapArr)\n",
    "\n",
    "    for i in range(k):\n",
    "        print(heapArr[i])\n",
    "\n",
    "\n",
    "if __name__ == '__main__':\n",
    "    a=[3,2]\n",
    "    b=[1,4]\n",
    "    n=len(a)\n",
    "    k=2\n",
    "    getKMaxSumCombinations(a,b,n,k)\n",
    "    print()\n",
    "    a=[4, 2, 5, 1]\n",
    "    b=[8, 0, 3, 5]\n",
    "    n=len(a)\n",
    "    k=3\n",
    "    getKMaxSumCombinations(a,b,n,k)\n"
   ]
  },
  {
   "cell_type": "markdown",
   "metadata": {},
   "source": [
    "Time Complexity O(n^2) and Space Complexity O(k) for minheap"
   ]
  },
  {
   "cell_type": "markdown",
   "metadata": {},
   "source": [
    "Efficient Approach -> Instead of brute-forcing through all the possible sum combinations, we should find a way to limit our search space to possible candidate sum combinations. \n",
    "\n",
    "<pre>\n",
    "\n",
    "1) Sort both arrays array A and array B.\n",
    "2) Create a max heap to store the sum combinations along with the indices of elements from both arrays A and B which make up the sum. Heap is ordered by the sum.\n",
    "3) Initialize the heap with the maximum possible sum combination i.e (A[N – 1] + B[N – 1] where N is the size of array) and with the indices of elements from both arrays (N – 1, N – 1). The tuple inside max heap will be (A[N-1] + B[N – 1], N – 1, N – 1). Heap is ordered by first value i.e sum of both elements.\n",
    "4) Pop the heap to get the current largest sum and along with the indices of the element that make up the sum. Let the tuple be (sum, i, j).\n",
    "5) Next insert (A[i – 1] + B[j], i – 1, j) and (A[i] + B[j – 1], i, j – 1) into the max heap but make sure that the pair of indices i.e (i – 1, j) and (i, j – 1) are not \n",
    "already present in the max heap. To check this we can use set in C++.\n",
    "6) Go back to 4 until K times.\n",
    "</pre>"
   ]
  },
  {
   "cell_type": "code",
   "execution_count": 2,
   "metadata": {},
   "outputs": [
    {
     "name": "stdout",
     "output_type": "stream",
     "text": [
      "7\n",
      "6\n",
      "\n",
      "13\n",
      "12\n",
      "10\n"
     ]
    }
   ],
   "source": [
    "class HeapNode:\n",
    "    def __init__(self,sum,i,j):\n",
    "        self.sum=sum\n",
    "        self.i=i\n",
    "        self.j=j\n",
    "\n",
    "def heapify(heapArr,index,n):\n",
    "    left=2*index+1\n",
    "    right=2*index+2\n",
    "    if left<n and heapArr[left].sum>heapArr[index].sum:\n",
    "        largest=left\n",
    "    else:\n",
    "        largest=index\n",
    "    if right<n and heapArr[right].sum>heapArr[largest].sum:\n",
    "        largest=right\n",
    "    if largest!=index:\n",
    "        heapArr[largest],heapArr[index]=heapArr[index],heapArr[largest]\n",
    "        heapify(heapArr, largest, n)\n",
    "\n",
    "def getKMaxSumCombinations(a,b,n,k):\n",
    "    a.sort()\n",
    "    b.sort()\n",
    "    hash={}\n",
    "    heapArr=[]\n",
    "    heapArr.append(HeapNode(a[n-1]+b[n-1],n-1,n-1))\n",
    "    hash[(n-1,n-1)]=True\n",
    "    for i in range(k):\n",
    "        element=heapArr.pop(0)\n",
    "        print(element.sum)\n",
    "        if (element.i-1,element.j) not in hash:\n",
    "            heapArr.append(HeapNode(a[element.i-1]+b[element.j],element.i-1,element.j))\n",
    "            hash[(element.i-1,element.j)]=True\n",
    "        if (element.i,element.j-1) not in hash:\n",
    "            heapArr.append(HeapNode(a[element.i]+b[element.j-1],element.i,element.j-1))\n",
    "            hash[(element.i-1,element.j)]=True\n",
    "        heapify(heapArr, 0, len(heapArr))\n",
    "\n",
    "if __name__ == '__main__':\n",
    "    a=[3,2]\n",
    "    b=[1,4]\n",
    "    n=len(a)\n",
    "    k=2\n",
    "    getKMaxSumCombinations(a,b,n,k)\n",
    "    print()\n",
    "    a=[4, 2, 5, 1]\n",
    "    b=[8, 0, 3, 5]\n",
    "    n=len(a)\n",
    "    k=3\n",
    "    getKMaxSumCombinations(a,b,n,k)\n"
   ]
  },
  {
   "cell_type": "markdown",
   "metadata": {},
   "source": [
    "Time Complexity O(nlogn) if k<=n"
   ]
  },
  {
   "cell_type": "markdown",
   "metadata": {},
   "source": [
    "# Maximum Contiguous subarray sum in O(n) using prefix sum"
   ]
  },
  {
   "cell_type": "markdown",
   "metadata": {},
   "source": [
    "This is an alternative approach to Kadane's algorithm, but it takes O(n) space to build the prefix sum array"
   ]
  },
  {
   "cell_type": "code",
   "execution_count": 3,
   "metadata": {},
   "outputs": [
    {
     "name": "stdout",
     "output_type": "stream",
     "text": [
      "7\n",
      "9\n"
     ]
    }
   ],
   "source": [
    "import math\n",
    "\n",
    "def getMaximumSubarraySum(arr,n):\n",
    "    prefixSum=[0]*n\n",
    "    prefixSum.append(arr[0])\n",
    "    for i in range(1,n):\n",
    "        prefixSum[i]=prefixSum[i-1]+arr[i]\n",
    "\n",
    "    min_prefix_sum=0\n",
    "    result=-math.inf\n",
    "\n",
    "    for i in range(n):\n",
    "        result=max(result,prefixSum[i]-min_prefix_sum)\n",
    "        min_prefix_sum=min(min_prefix_sum,prefixSum[i])\n",
    "\n",
    "    return result\n",
    "\n",
    "if __name__ == '__main__':\n",
    "    arr=[-2, -3, 4, -1, -2, 1, 5, -3]\n",
    "    n=len(arr)\n",
    "    print(getMaximumSubarraySum(arr,n))\n",
    "    arr=[4, -8, 9, -4, 1, -8, -1, 6]\n",
    "    n=len(arr)\n",
    "    print(getMaximumSubarraySum(arr,n))\n"
   ]
  },
  {
   "cell_type": "markdown",
   "metadata": {},
   "source": [
    "Time Complexity O(n) and Space Complexity O(n)"
   ]
  },
  {
   "cell_type": "markdown",
   "metadata": {},
   "source": [
    "# K maximum sums of overlapping contiguous sub-arrays"
   ]
  },
  {
   "cell_type": "markdown",
   "metadata": {},
   "source": [
    "TODO"
   ]
  },
  {
   "cell_type": "markdown",
   "metadata": {},
   "source": [
    "# K maximum sums of non-overlapping contiguous sub-arrays"
   ]
  },
  {
   "cell_type": "markdown",
   "metadata": {},
   "source": [
    "We can use Kadane's algorithm to solve this. \n",
    "\n",
    "Kadane’s algorithm finds out only the maximum subarray sum, but using the same algorithm we can find out k maximum non-overlapping subarray sums. The approach is: \n",
    "\n",
    "Find out the maximum subarray in the array using Kadane’s algorithm. Also find out its starting and end indices. \n",
    "\n",
    "Print the sum of this subarray.\n",
    "\n",
    "Fill each cell of this subarray by -infinity.\n",
    "\n",
    "Repeat process 1 and 2 for k times. "
   ]
  },
  {
   "cell_type": "code",
   "execution_count": 5,
   "metadata": {},
   "outputs": [
    {
     "name": "stdout",
     "output_type": "stream",
     "text": [
      "8\n",
      "6\n",
      "-1\n"
     ]
    }
   ],
   "source": [
    "import math\n",
    "\n",
    "def getKMaximumCountiguousSum(arr,k,n):\n",
    "    for _ in range(k):\n",
    "        max_so_far=-math.inf\n",
    "        max_ending_here=0\n",
    "        start=0\n",
    "        end=0\n",
    "        s=0\n",
    "        for i in range(n):\n",
    "            max_ending_here+=arr[i]\n",
    "            if max_ending_here>max_so_far:\n",
    "                max_so_far=max_ending_here\n",
    "                start=s\n",
    "                end=i\n",
    "            if max_ending_here<0:\n",
    "                s=i+1\n",
    "                max_ending_here=0\n",
    "        print(max_so_far)\n",
    "        for j in range(start,end+1):\n",
    "            arr[j]=-math.inf\n",
    "\n",
    "\n",
    "if __name__ == '__main__':\n",
    "    arr=[4, 1, 1, -1, -3, -5, 6, 2, -6, -2]\n",
    "    k=3\n",
    "    n=len(arr)\n",
    "    getKMaximumCountiguousSum(arr,k,n)\n",
    "\n",
    "    \n",
    "    "
   ]
  },
  {
   "cell_type": "markdown",
   "metadata": {},
   "source": [
    "Time Complexity O(n*k) and Space Complexity O(1)"
   ]
  },
  {
   "cell_type": "markdown",
   "metadata": {},
   "source": [
    "# k smallest elements in same order using O(1) extra space"
   ]
  },
  {
   "cell_type": "markdown",
   "metadata": {},
   "source": [
    "We can use insertion sort technique to solve this"
   ]
  },
  {
   "cell_type": "code",
   "execution_count": 1,
   "metadata": {},
   "outputs": [
    {
     "name": "stdout",
     "output_type": "stream",
     "text": [
      "4 2 1 "
     ]
    }
   ],
   "source": [
    "def getKSmallest(arr,n,k):\n",
    "    for i in range(k,n):\n",
    "        max_var=arr[k-1]\n",
    "        pos=k-1\n",
    "        for j in range(k-2,-1,-1):\n",
    "            if arr[j]>max_var:\n",
    "                max_var=arr[j]\n",
    "                pos=j\n",
    "\n",
    "        if arr[i]<max_var:\n",
    "            j=pos\n",
    "            while j<k-1:\n",
    "                arr[j]=arr[j+1]\n",
    "                j+=1\n",
    "            arr[k-1]=arr[i]\n",
    "\n",
    "    for i in range(k):\n",
    "        print(arr[i],end=\" \")\n",
    "\n",
    "if __name__ == '__main__':\n",
    "    arr=[4, 2, 6, 1, 5]\n",
    "    n=len(arr)\n",
    "    k=3\n",
    "    getKSmallest(arr,n,k)\n"
   ]
  },
  {
   "cell_type": "markdown",
   "metadata": {},
   "source": [
    "Time Complexity O(kn) and Space Complexity O(1)"
   ]
  },
  {
   "cell_type": "markdown",
   "metadata": {},
   "source": [
    "# Find k pairs with smallest sums in two arrays"
   ]
  },
  {
   "cell_type": "markdown",
   "metadata": {},
   "source": [
    "Brute Force Solution is to have 2 loops and a minheap in place, this would require n^2log(n^2) time complexity"
   ]
  },
  {
   "cell_type": "markdown",
   "metadata": {},
   "source": [
    "Efficient Solution is to use Sorting, minheap and a hash"
   ]
  },
  {
   "cell_type": "code",
   "execution_count": 1,
   "metadata": {},
   "outputs": [
    {
     "name": "stdout",
     "output_type": "stream",
     "text": [
      "(1, 2)\n",
      "(1, 4)\n",
      "(1, 6)\n"
     ]
    }
   ],
   "source": [
    "class HeapNode:\n",
    "    def __init__(self,sum,value,i,j):\n",
    "        self.sum=sum\n",
    "        self.value=value\n",
    "        self.i=i\n",
    "        self.j=j\n",
    "\n",
    "def heapify(heapArr,index,n):\n",
    "    left=2*index+1\n",
    "    right=2*index+2\n",
    "    if left<n and heapArr[left].sum<heapArr[index].sum:\n",
    "        smallest=left\n",
    "    else:\n",
    "        smallest=index\n",
    "    if right<n and heapArr[right].sum<heapArr[smallest].sum:\n",
    "        smallest=right\n",
    "    if smallest!=index:\n",
    "        heapArr[smallest],heapArr[index]=heapArr[index],heapArr[smallest]\n",
    "        heapify(heapArr,smallest,n)\n",
    "\n",
    "def findKSmallestPairs(a,b,k,n):\n",
    "    heapArr=[]\n",
    "    heapArr.append(HeapNode(a[0]+b[0],(a[0],b[0]),0,0))\n",
    "    hash={}\n",
    "    hash[(0,0)]=True\n",
    "    for i in range(k):\n",
    "        element=heapArr.pop(0)\n",
    "        print(element.value)\n",
    "        if (element.i,element.j+1) not in hash and element.j+1<n:\n",
    "            heapArr.append(HeapNode(a[element.i]+b[element.j+1], (a[element.i],b[element.j+1]), element.i, element.j+1))\n",
    "            hash[(element.i,element.j+1)]=True\n",
    "        if (element.i+1,element.j) not in hash and element.i+1<n:\n",
    "            heapArr.append(HeapNode(a[element.i+1]+b[element.j], (a[element.i+1],b[element.j]), element.i+1, element.j))\n",
    "            hash[element.i+1,element.j]=True\n",
    "        if heapArr:\n",
    "            heapify(heapArr, 0, len(heapArr))\n",
    "\n",
    "if __name__ == '__main__':\n",
    "    a=[1, 7, 11]\n",
    "    b=[2, 4, 6]\n",
    "    k=3\n",
    "    n=len(a)\n",
    "    findKSmallestPairs(a,b,k,n)\n"
   ]
  },
  {
   "cell_type": "markdown",
   "metadata": {},
   "source": [
    "Time Complexity (nlogn)"
   ]
  },
  {
   "cell_type": "markdown",
   "metadata": {},
   "source": [
    "# k-th smallest absolute difference of two elements in an array"
   ]
  },
  {
   "cell_type": "markdown",
   "metadata": {},
   "source": [
    "IMPORTANT TO DO"
   ]
  },
  {
   "cell_type": "markdown",
   "metadata": {},
   "source": [
    "# Find k numbers with most occurrences in the given array"
   ]
  },
  {
   "cell_type": "markdown",
   "metadata": {},
   "source": [
    "Approach 1-> Custom Comparator and Hashing"
   ]
  },
  {
   "cell_type": "code",
   "execution_count": 2,
   "metadata": {},
   "outputs": [
    {
     "name": "stdout",
     "output_type": "stream",
     "text": [
      "4 1 "
     ]
    }
   ],
   "source": [
    "from functools import cmp_to_key\n",
    "\n",
    "def compare(a,b):\n",
    "    if a[1]>b[1]:\n",
    "        return -1\n",
    "    elif a[1]<b[1]:\n",
    "        return 1\n",
    "    else:\n",
    "        if a[0]>b[0]:\n",
    "            return -1\n",
    "        elif a[0]<b[0]:\n",
    "            return 1\n",
    "        else:\n",
    "            return 0\n",
    "\n",
    "def getKMostFrequentElement(arr,k,n):\n",
    "    hash={}\n",
    "    for i in arr:\n",
    "        if i in hash:\n",
    "            hash[i]+=1\n",
    "        else:\n",
    "            hash[i]=1\n",
    "    tempArr=[]\n",
    "    for i in hash:\n",
    "        tempArr.append((i,hash[i]))\n",
    "    tempArr.sort(key=cmp_to_key(compare))\n",
    "    for i in range(k):\n",
    "        print(tempArr[i][0],end=\" \")\n",
    "\n",
    "if __name__ == '__main__':\n",
    "    arr=[3, 1, 4, 4, 5, 2, 6, 1]\n",
    "    k=2\n",
    "    n=len(arr)\n",
    "    getKMostFrequentElement(arr,k,n)\n"
   ]
  },
  {
   "cell_type": "markdown",
   "metadata": {},
   "source": [
    "Time Complexity O(dlogd) where d is the distinct elements in the array. Space Complexity O(d)"
   ]
  },
  {
   "cell_type": "markdown",
   "metadata": {},
   "source": [
    "Approach 2-> Using heap"
   ]
  },
  {
   "cell_type": "markdown",
   "metadata": {},
   "source": [
    "# Find k numbers with most occurrences in the given array in Linear Time"
   ]
  },
  {
   "cell_type": "markdown",
   "metadata": {},
   "source": [
    "Approach -> Using the frequency indexing method."
   ]
  },
  {
   "cell_type": "code",
   "execution_count": 1,
   "metadata": {},
   "outputs": [
    {
     "name": "stdout",
     "output_type": "stream",
     "text": [
      "4\n",
      "1\n",
      "\n",
      "\n",
      "5\n",
      "11\n",
      "7\n",
      "10\n"
     ]
    }
   ],
   "source": [
    "# in linear time\n",
    "\n",
    "def findKMostOccurenctNumbers(arr,n,k):\n",
    "    hash={}\n",
    "    for i in arr:\n",
    "        if i in hash:\n",
    "            hash[i]+=1\n",
    "        else:\n",
    "            hash[i]=1\n",
    "\n",
    "    frequency=[[] for i in range(n+1)]\n",
    "\n",
    "    for i in hash:\n",
    "        frequency[hash[i]].append(i)\n",
    "\n",
    "    # print(frequency)\n",
    "    count=0\n",
    "    for i in range(n,-1,-1):\n",
    "        if frequency[i]:\n",
    "            for ele in sorted(frequency[i],reverse=True):\n",
    "                print(ele)\n",
    "                count+=1\n",
    "                if count==k:\n",
    "                    return\n",
    "\n",
    "if __name__ == '__main__':\n",
    "    arr=[3, 1, 4, 4, 5, 2, 6, 1]\n",
    "    n=len(arr)\n",
    "    k=2\n",
    "    findKMostOccurenctNumbers(arr,n,k)\n",
    "    print('\\n')\n",
    "    arr=[7, 10, 11, 5, 2, 5, 5, 7, 11, 8, 9]\n",
    "    n=len(arr)\n",
    "    k=4\n",
    "    findKMostOccurenctNumbers(arr,n,k)\n"
   ]
  },
  {
   "cell_type": "markdown",
   "metadata": {},
   "source": [
    "Time Complexity O(n) and Space Complexity O(n)"
   ]
  },
  {
   "cell_type": "markdown",
   "metadata": {},
   "source": [
    "# Find k numbers with most occurrences in the given array in Linear Time and maintain the order of appearance"
   ]
  },
  {
   "cell_type": "markdown",
   "metadata": {},
   "source": [
    "Approach -> Frequency indexing but now for filling the frequency table we will traverse the array instead of the hash"
   ]
  },
  {
   "cell_type": "code",
   "execution_count": 2,
   "metadata": {},
   "outputs": [
    {
     "name": "stdout",
     "output_type": "stream",
     "text": [
      "1\n",
      "4\n",
      "\n",
      "\n",
      "5\n",
      "7\n",
      "11\n",
      "10\n"
     ]
    }
   ],
   "source": [
    "import math\n",
    "\n",
    "def findKMostOccurenctNumbers(arr,n,k):\n",
    "    hash={}\n",
    "    for i in arr:\n",
    "        if i in hash:\n",
    "            hash[i]+=1\n",
    "        else:\n",
    "            hash[i]=1\n",
    "\n",
    "    frequency=[[] for i in range(n+1)]\n",
    "\n",
    "    for i in arr:\n",
    "        if hash[i]!=-math.inf:\n",
    "            frequency[hash[i]].append(i)\n",
    "            hash[i]=-math.inf\n",
    "\n",
    "    count=0\n",
    "    for i in range(n,-1,-1):\n",
    "        if frequency[i]:\n",
    "            for ele in frequency[i]:\n",
    "                print(ele)\n",
    "                count+=1\n",
    "                if count==k:\n",
    "                    return\n",
    "\n",
    "if __name__ == '__main__':\n",
    "    arr=[3, 1, 4, 4, 5, 2, 6, 1]\n",
    "    n=len(arr)\n",
    "    k=2\n",
    "    findKMostOccurenctNumbers(arr,n,k)\n",
    "    print('\\n')\n",
    "    arr=[7, 10, 11, 5, 2, 5, 5, 7, 11, 8, 9]\n",
    "    n=len(arr)\n",
    "    k=4\n",
    "    findKMostOccurenctNumbers(arr,n,k)\n"
   ]
  },
  {
   "cell_type": "markdown",
   "metadata": {},
   "source": [
    "Time Complexity O(n) and Space Complexity O(n)"
   ]
  },
  {
   "cell_type": "markdown",
   "metadata": {},
   "source": [
    "# Find the smallest missing number"
   ]
  },
  {
   "cell_type": "markdown",
   "metadata": {},
   "source": [
    "Approach - Binary Search"
   ]
  },
  {
   "cell_type": "code",
   "execution_count": 3,
   "metadata": {},
   "outputs": [
    {
     "name": "stdout",
     "output_type": "stream",
     "text": [
      "Missing Number is 3\n",
      "Missing Number is 0\n",
      "Missing Number is 4\n",
      "Missing Number is 8\n"
     ]
    }
   ],
   "source": [
    "import math\n",
    "def findSmallestMissingNumber(arr,n,m):\n",
    "    if arr[0]!=0:\n",
    "        return 0\n",
    "\n",
    "    if n==m-1 and arr[n-1]!=m-1:\n",
    "        return m-1\n",
    "\n",
    "    hash={}\n",
    "    for i in range(n):\n",
    "        hash[arr[i]]=i\n",
    "\n",
    "    low=0\n",
    "    high=m-1\n",
    "    missingNumber=math.inf\n",
    "    while low<=high:\n",
    "        mid=(low+high)//2\n",
    "        if mid not in hash:\n",
    "            missingNumber=min(missingNumber,mid)\n",
    "            high=mid-1\n",
    "        else:\n",
    "            if hash[mid]==mid:\n",
    "                low=mid+1\n",
    "            else:\n",
    "                high=mid-1\n",
    "    return missingNumber\n",
    "\n",
    "\n",
    "if __name__ == '__main__':\n",
    "    arr=[0, 1, 2, 6, 9]\n",
    "    n=5\n",
    "    m=10\n",
    "    print(f'Missing Number is {findSmallestMissingNumber(arr,n,m)}')\n",
    "    arr=[4, 5, 10, 11]\n",
    "    n=4\n",
    "    m=12\n",
    "    print(f'Missing Number is {findSmallestMissingNumber(arr,n,m)}')\n",
    "    arr=[0, 1, 2, 3]\n",
    "    n=4\n",
    "    m=5\n",
    "    print(f'Missing Number is {findSmallestMissingNumber(arr,n,m)}')\n",
    "    arr=[0, 1, 2, 3, 4, 5, 6, 7, 10]\n",
    "    n=9\n",
    "    m=11\n",
    "    print(f'Missing Number is {findSmallestMissingNumber(arr,n,m)}')\n"
   ]
  },
  {
   "cell_type": "markdown",
   "metadata": {},
   "source": [
    "# Maximum sum such that no two elements are adjacent"
   ]
  },
  {
   "cell_type": "markdown",
   "metadata": {},
   "source": [
    "Approach -> Include Exclude Priciple"
   ]
  },
  {
   "cell_type": "code",
   "execution_count": 4,
   "metadata": {},
   "outputs": [
    {
     "name": "stdout",
     "output_type": "stream",
     "text": [
      "110\n",
      "20\n"
     ]
    }
   ],
   "source": [
    "def getMaxSum(arr,n):\n",
    "    incl=arr[0]\n",
    "    excl=0\n",
    "\n",
    "    for i in range(1,n):\n",
    "\n",
    "        newexcl=max(incl,excl)\n",
    "        incl=arr[i]+excl\n",
    "        excl=newexcl\n",
    "\n",
    "    return max(excl,incl)\n",
    "\n",
    "if __name__ == '__main__':\n",
    "    arr=[5, 5, 10, 100, 10, 5]\n",
    "    n=len(arr)\n",
    "    print(getMaxSum(arr,n))\n",
    "    arr=[1,20,3]\n",
    "    n=len(arr)\n",
    "    print(getMaxSum(arr,n))\n"
   ]
  },
  {
   "cell_type": "markdown",
   "metadata": {},
   "source": [
    "Time Complexity O(n) and Space Complexity O(1)"
   ]
  },
  {
   "cell_type": "markdown",
   "metadata": {},
   "source": [
    "# Maximum and minimum of an array using minimum number of comparisons"
   ]
  },
  {
   "cell_type": "markdown",
   "metadata": {},
   "source": [
    "Approach -> Tournament Method (Divide and Conquer)"
   ]
  },
  {
   "cell_type": "code",
   "execution_count": 1,
   "metadata": {},
   "outputs": [
    {
     "name": "stdout",
     "output_type": "stream",
     "text": [
      "(3000, 1)\n"
     ]
    }
   ],
   "source": [
    "def getMaxMinElementsTournament(arr,n,low,high):\n",
    "\n",
    "    if low==high:\n",
    "        maxEle=arr[low]\n",
    "        minEle=arr[low]\n",
    "\n",
    "    elif low+1==high:\n",
    "        if arr[low]>arr[high]:\n",
    "            maxEle=arr[low]\n",
    "            minEle=arr[high]\n",
    "        else:\n",
    "            maxEle=arr[high]\n",
    "            minEle=arr[low]\n",
    "\n",
    "    else:\n",
    "\n",
    "        mid=(low+high)//2\n",
    "        maxEle1,minEle1=getMaxMinElementsTournament(arr,n,low,mid)\n",
    "        maxEle2,minEle2=getMaxMinElementsTournament(arr,n,mid+1,high)\n",
    "        maxEle=max(maxEle1,maxEle2)\n",
    "        minEle=min(minEle1,minEle2)\n",
    "\n",
    "    return (maxEle,minEle)\n",
    "\n",
    "\n",
    "if __name__ == '__main__':\n",
    "    arr=[1000, 11, 445, 1, 330, 3000]\n",
    "    n=len(arr)\n",
    "    print(getMaxMinElementsTournament(arr,n,0,n-1))\n"
   ]
  },
  {
   "cell_type": "markdown",
   "metadata": {},
   "source": [
    "Time Complexity O(logn)"
   ]
  },
  {
   "cell_type": "markdown",
   "metadata": {},
   "source": [
    "# Maximum difference between two elements such that larger element appears after the smaller number"
   ]
  },
  {
   "cell_type": "markdown",
   "metadata": {},
   "source": [
    "Approach -> Run Two loops and keep track of the max difference"
   ]
  },
  {
   "cell_type": "markdown",
   "metadata": {},
   "source": [
    "Time Complexity O(n^2)"
   ]
  },
  {
   "cell_type": "markdown",
   "metadata": {},
   "source": [
    "Another Approach -> Keep track of the greatest element on right side for each element in another array, and then check for the max difference"
   ]
  },
  {
   "cell_type": "code",
   "execution_count": 2,
   "metadata": {},
   "outputs": [
    {
     "name": "stdout",
     "output_type": "stream",
     "text": [
      "8\n",
      "2\n"
     ]
    }
   ],
   "source": [
    "import math\n",
    "\n",
    "def getMaxDifference(arr,n):\n",
    "    greaterElement=[None]*n\n",
    "    currentMax=arr[n-1]\n",
    "    for i in range(n-2,-1,-1):\n",
    "        if currentMax>arr[i]:\n",
    "            greaterElement[i]=currentMax\n",
    "        else:\n",
    "            currentMax=arr[i]\n",
    "    maxDifference=-math.inf\n",
    "    for i in range(n):\n",
    "        if greaterElement[i]:\n",
    "            maxDifference=max(maxDifference,greaterElement[i]-arr[i])\n",
    "    return maxDifference\n",
    "\n",
    "if __name__ == '__main__':\n",
    "    arr=[2, 3, 10, 6, 4, 8, 1]\n",
    "    n=len(arr)\n",
    "    print(getMaxDifference(arr,n))\n",
    "    arr=[7, 9, 5, 6, 3, 2]\n",
    "    n=len(arr)\n",
    "    print(getMaxDifference(arr,n))\n"
   ]
  },
  {
   "cell_type": "markdown",
   "metadata": {},
   "source": [
    "Time Complexity O(n) and Space Complexity O(n)"
   ]
  },
  {
   "cell_type": "markdown",
   "metadata": {},
   "source": [
    "Another Approach -> Keep track of the maximum element while traversing the array from the right, and also update the max difference when found"
   ]
  },
  {
   "cell_type": "code",
   "execution_count": 3,
   "metadata": {},
   "outputs": [
    {
     "name": "stdout",
     "output_type": "stream",
     "text": [
      "8\n",
      "2\n"
     ]
    }
   ],
   "source": [
    "import math\n",
    "\n",
    "def getMaxDifference(arr,n):\n",
    "    maxDifference=-math.inf\n",
    "    currentMax=arr[n-1]\n",
    "    for i in range(n-2,-1,-1):\n",
    "        if currentMax>arr[i]:\n",
    "            maxDifference=max(maxDifference,currentMax-arr[i])\n",
    "        else:\n",
    "            currentMax=arr[i]\n",
    "    return maxDifference\n",
    "\n",
    "if __name__ == '__main__':\n",
    "    arr=[2, 3, 10, 6, 4, 8, 1]\n",
    "    n=len(arr)\n",
    "    print(getMaxDifference(arr,n))\n",
    "    arr=[7, 9, 5, 6, 3, 2]\n",
    "    n=len(arr)\n",
    "    print(getMaxDifference(arr,n))\n"
   ]
  },
  {
   "cell_type": "markdown",
   "metadata": {},
   "source": [
    "Time Complexity O(n) and Space Complexity O(n)"
   ]
  },
  {
   "cell_type": "markdown",
   "metadata": {},
   "source": [
    "# Given an array arr[], find the maximum j – i such that arr[j] > arr[i]"
   ]
  },
  {
   "cell_type": "markdown",
   "metadata": {},
   "source": [
    "Brute Force Approach-> Run 2 loops"
   ]
  },
  {
   "cell_type": "code",
   "execution_count": 4,
   "metadata": {},
   "outputs": [
    {
     "name": "stdout",
     "output_type": "stream",
     "text": [
      "6\n"
     ]
    }
   ],
   "source": [
    "import math\n",
    "def getMaxDifference(arr,n):\n",
    "    maxDifference=-math.inf\n",
    "    for i in range(n):\n",
    "        for j in range(i+1,n):\n",
    "            if arr[j]>arr[i]:\n",
    "                maxDifference=max(maxDifference,j-i)\n",
    "    return maxDifference\n",
    "\n",
    "if __name__ == '__main__':\n",
    "    arr=[34,8,10,3,2,80,30,33,1]\n",
    "    n=len(arr)\n",
    "    print(getMaxDifference(arr,n))\n"
   ]
  },
  {
   "cell_type": "markdown",
   "metadata": {},
   "source": [
    "Time Complexity O(n^2)"
   ]
  },
  {
   "cell_type": "markdown",
   "metadata": {},
   "source": [
    "Efficient Approach-> Hashing and Sorting"
   ]
  },
  {
   "cell_type": "markdown",
   "metadata": {},
   "source": [
    "<pre>\n",
    "1) Traverse the array and store the index of each element in a list (to handle duplicates).\n",
    "2) Sort the array.\n",
    "3) Now traverse the array and keep track of the maximum difference of i and j.\n",
    "4) For j consider the last index from the list of possible index of the element and for i consider the first index from the list. (As the index were appended in ascending order).\n",
    "5) Keep updating the max difference till the end of the array.\n",
    "</pre>"
   ]
  },
  {
   "cell_type": "code",
   "execution_count": 5,
   "metadata": {},
   "outputs": [
    {
     "name": "stdout",
     "output_type": "stream",
     "text": [
      "6\n"
     ]
    }
   ],
   "source": [
    "import math\n",
    "def getMaxDifference(arr,n):\n",
    "    hash={}\n",
    "    for i in range(n):\n",
    "        if arr[i] in hash:\n",
    "            hash[arr[i]].append(i)\n",
    "        else:\n",
    "            hash[arr[i]]=[i]\n",
    "    arr.sort()\n",
    "    temp=n\n",
    "    maxDifference=-math.inf\n",
    "    for i in range(n):\n",
    "        if temp>hash[arr[i]][0]:\n",
    "            temp=hash[arr[i]][0]\n",
    "        maxDifference=max(maxDifference,hash[arr[i]][-1]-temp)\n",
    "    return maxDifference\n",
    "\n",
    "if __name__ == '__main__':\n",
    "    arr=[34,8,10,3,2,80,30,33,1]\n",
    "    n=len(arr)\n",
    "    print(getMaxDifference(arr,n))\n",
    "\n"
   ]
  },
  {
   "cell_type": "markdown",
   "metadata": {},
   "source": [
    "Time Complexity O(nlogn)"
   ]
  },
  {
   "cell_type": "markdown",
   "metadata": {},
   "source": [
    "Efficient Approach-> \n",
    "\n",
    "To solve this problem, we need to get two optimum indexes of arr[]: left index i and right index j. For an element arr[i], we do not need to consider arr[i] for left index if there is an element smaller than arr[i] on left side of arr[i]. Similarly, if there is a greater element on right side of arr[j] then we do not need to consider this j for right index. So we construct two auxiliary arrays LMin[] and RMax[] such that LMin[i] holds the smallest element on left side of arr[i] including arr[i], and RMax[j] holds the greatest element on right side of arr[j] including arr[j]. After constructing these two auxiliary arrays, we traverse both of these arrays from left to right. While traversing LMin[] and RMax[] if we see that LMin[i] is greater than RMax[j], then we must move ahead in LMin[] (or do i++) because all elements on left of LMin[i] are greater than or equal to LMin[i]. Otherwise we must move ahead in RMax[j] to look for a greater j – i value."
   ]
  },
  {
   "cell_type": "code",
   "execution_count": 6,
   "metadata": {},
   "outputs": [
    {
     "name": "stdout",
     "output_type": "stream",
     "text": [
      "6\n",
      "8\n"
     ]
    }
   ],
   "source": [
    "def getMaxDifference(arr,n):\n",
    "    lMin=[None]*n\n",
    "    rMax=[None]*n\n",
    "    lMin[0]=arr[0]\n",
    "    for i in range(1,n):\n",
    "        lMin[i]=min(arr[i],lMin[i-1])\n",
    "    rMax[n-1]=arr[n-1]\n",
    "    for i in range(n-2,-1,-1):\n",
    "        rMax[i]=max(arr[i],rMax[i+1])\n",
    "    i=0\n",
    "    j=0\n",
    "    maxDifference=float('-infinity')\n",
    "    while i<n and j<n:\n",
    "        if lMin[i]<=rMax[j]:\n",
    "            maxDifference=max(j-i,maxDifference)\n",
    "            j+=1\n",
    "        else:\n",
    "            i+=1\n",
    "    return maxDifference\n",
    "\n",
    "if __name__ == '__main__':\n",
    "    arr=[34,8,10,3,2,80,30,33,1]\n",
    "    n=len(arr)\n",
    "    print(getMaxDifference(arr,n))\n",
    "    arr=[9,2,3,4,5,6,7,8,18,0]\n",
    "    n=len(arr)\n",
    "    print(getMaxDifference(arr,n))\n"
   ]
  },
  {
   "cell_type": "markdown",
   "metadata": {},
   "source": [
    "Time Complexity O(n) and Space Complexity O(n)"
   ]
  },
  {
   "cell_type": "markdown",
   "metadata": {},
   "source": [
    "# Sliding Window Maximum (Maximum of all subarrays of size k)"
   ]
  },
  {
   "cell_type": "markdown",
   "metadata": {},
   "source": [
    "Brute Force Approach -> Run 2 loops and for each subarray calculate the maximum element"
   ]
  },
  {
   "cell_type": "markdown",
   "metadata": {},
   "source": [
    "Time Complexity O(kn)"
   ]
  },
  {
   "cell_type": "markdown",
   "metadata": {},
   "source": [
    "Another Approach -> Self Balancing Binary Search Tree (TODO)"
   ]
  },
  {
   "cell_type": "markdown",
   "metadata": {},
   "source": [
    "**Another Approach -> Dequeue**"
   ]
  },
  {
   "cell_type": "markdown",
   "metadata": {},
   "source": [
    "<pre>\n",
    "1) Create a deque to store k elements.\n",
    "2) Run a loop and insert first k elements in the deque. Before inserting the element, check if the element at the back of the queue is smaller than the current element, if it is so remove the element from the back of the deque, until all elements left in the deque are greater than the current element. Then insert the current element, at the back of the deque.\n",
    "3) Now, run a loop from k to end of the array.\n",
    "4) Print the front element of the deque.\n",
    "5) Remove the element from the front of the queue if they are out of the current window.\n",
    "6) Insert the next element in the deque. Before inserting the element, check if the element at the back of the queue is smaller than the current element, if it is so remove the element from the back of the deque, until all elements left in the deque are greater than the current element. Then insert the current element, at the back of the deque.\n",
    "7) Print the maximum element of the last window.\n",
    "</pre>"
   ]
  },
  {
   "cell_type": "code",
   "execution_count": 8,
   "metadata": {},
   "outputs": [
    {
     "name": "stdout",
     "output_type": "stream",
     "text": [
      "3\n",
      "3\n",
      "4\n",
      "5\n",
      "5\n",
      "5\n",
      "6\n"
     ]
    }
   ],
   "source": [
    "def getMaximumOfSubarrays(arr,n,k):\n",
    "    queue=[]\n",
    "    for i in range(k):\n",
    "        while queue and arr[queue[-1]]<=arr[i]:\n",
    "            queue.pop()\n",
    "        queue.append(i)\n",
    "\n",
    "    for i in range(k,n):\n",
    "        print(arr[queue[0]])\n",
    "\n",
    "        while queue and queue[0]<=i-k:\n",
    "            queue.pop(0)\n",
    "\n",
    "        while queue and arr[queue[-1]]<=arr[i]:\n",
    "            queue.pop()\n",
    "        queue.append(i)\n",
    "        \n",
    "    print(arr[queue[0]])\n",
    "\n",
    "if __name__ == '__main__':\n",
    "    arr=[1,2,3,1,4,5,2,3,6]\n",
    "    n=len(arr)\n",
    "    k=3\n",
    "    getMaximumOfSubarrays(arr,n,k)\n"
   ]
  },
  {
   "cell_type": "markdown",
   "metadata": {},
   "source": [
    "Time Complexity O(n) and Space Complexity O(k); It seems more than O(n) at first look. It can be observed that every element of array is added and removed at most once. So there are total 2n operations."
   ]
  },
  {
   "cell_type": "markdown",
   "metadata": {},
   "source": [
    "Another Method-> Using 2 stacks (TODO)"
   ]
  },
  {
   "cell_type": "markdown",
   "metadata": {},
   "source": [
    "Another Method -> Using Max Heap (TODO)"
   ]
  },
  {
   "cell_type": "markdown",
   "metadata": {},
   "source": [
    "# Find the minimum distance between two numbers"
   ]
  },
  {
   "cell_type": "code",
   "execution_count": 9,
   "metadata": {},
   "outputs": [
    {
     "name": "stdout",
     "output_type": "stream",
     "text": [
      "4\n",
      "1\n"
     ]
    }
   ],
   "source": [
    "import math\n",
    "\n",
    "def getMinDistance(arr,n,x,y):\n",
    "    xIndex=None\n",
    "    yIndex=None\n",
    "    minDistance=math.inf\n",
    "    for i in range(n):\n",
    "        if arr[i]==x:\n",
    "            xIndex=i\n",
    "        elif arr[i]==y:\n",
    "            yIndex=i\n",
    "        if xIndex and yIndex:\n",
    "            minDistance=min(minDistance,abs(xIndex-yIndex))\n",
    "    return minDistance\n",
    "\n",
    "if __name__ == '__main__':\n",
    "    arr=[3, 5, 4, 2, 6, 5, 6, 6, 5, 4, 8, 3]\n",
    "    n=len(arr)\n",
    "    x=3\n",
    "    y=6\n",
    "    print(getMinDistance(arr,n,x,y))\n",
    "    arr=[2, 5, 3, 5, 4, 4, 2, 3]\n",
    "    n=len(arr)\n",
    "    x=2\n",
    "    y=3\n",
    "    print(getMinDistance(arr,n,x,y))\n"
   ]
  },
  {
   "cell_type": "markdown",
   "metadata": {},
   "source": [
    "Time Complexity O(n) and Space Complexity O(1)"
   ]
  },
  {
   "cell_type": "markdown",
   "metadata": {},
   "source": [
    "# Find the maximum element in an array which is first increasing and then decreasing"
   ]
  },
  {
   "cell_type": "markdown",
   "metadata": {},
   "source": [
    "Brute Force Approach -> Linear Search; Time Complexity O(n) and Space Complexity O(1)"
   ]
  },
  {
   "cell_type": "markdown",
   "metadata": {},
   "source": [
    "Efficient Approach-> Binary Search; Time Complexity O(logn) and Space Complexity O(1)"
   ]
  },
  {
   "cell_type": "code",
   "execution_count": 10,
   "metadata": {},
   "outputs": [
    {
     "name": "stdout",
     "output_type": "stream",
     "text": [
      "500\n",
      "50\n",
      "70\n",
      "70\n"
     ]
    }
   ],
   "source": [
    "def getMaxElement(arr,n,low,high):\n",
    "    while low<=high:\n",
    "        if low==high:\n",
    "            return arr[low]\n",
    "        mid=(low+high)//2\n",
    "        if (mid>0 and arr[mid]>arr[mid-1]) and (mid<n-1 and arr[mid]>arr[mid+1]):\n",
    "            return arr[mid]\n",
    "        elif (mid>0 and arr[mid]<arr[mid-1]):\n",
    "            high=mid-1\n",
    "        else:\n",
    "            low=mid+1\n",
    "\n",
    "if __name__ == '__main__':\n",
    "    arr=[8, 10, 20, 80, 100, 200, 400, 500, 3, 2, 1]\n",
    "    n=len(arr)\n",
    "    print(getMaxElement(arr,n,0,n-1))\n",
    "    arr=[1, 3, 50, 10, 9, 7, 6]\n",
    "    n=len(arr)\n",
    "    print(getMaxElement(arr,n,0,n-1))\n",
    "    arr=[10,20,30,40,50,60,70]\n",
    "    n=len(arr)\n",
    "    print(getMaxElement(arr,n,0,n-1))\n",
    "    arr=[70,60,50,40,30,20,10]\n",
    "    n=len(arr)\n",
    "    print(getMaxElement(arr,n,0,n-1))\n"
   ]
  },
  {
   "cell_type": "markdown",
   "metadata": {},
   "source": [
    "# Count smaller elements on right side"
   ]
  },
  {
   "cell_type": "markdown",
   "metadata": {},
   "source": [
    "Approach 1-> This problem is just to find the inversions for each element, We can use merge sort to get the inversions"
   ]
  },
  {
   "cell_type": "code",
   "execution_count": 11,
   "metadata": {},
   "outputs": [
    {
     "name": "stdout",
     "output_type": "stream",
     "text": [
      "{12: 6, 1: 1, 2: 1, 3: 1, 0: 0, 11: 1, 4: 0}\n"
     ]
    }
   ],
   "source": [
    "def mergeSort(arr,hash):\n",
    "    if len(arr)>1:\n",
    "\n",
    "        mid=len(arr)//2\n",
    "        left=arr[:mid]\n",
    "        right=arr[mid:]\n",
    "        mergeSort(left,hash)\n",
    "        mergeSort(right,hash)\n",
    "\n",
    "        i=0\n",
    "        j=0\n",
    "        k=0\n",
    "        count=0\n",
    "        while i<len(left) and j<len(right):\n",
    "            if left[i]<right[j]:\n",
    "                arr[k]=left[i]\n",
    "                hash[left[i]]+=count\n",
    "                i+=1\n",
    "                k+=1\n",
    "\n",
    "            else:\n",
    "                arr[k]=right[j]\n",
    "                j+=1\n",
    "                k+=1\n",
    "                count+=1\n",
    "\n",
    "        while i<len(left):\n",
    "            arr[k]=left[i]\n",
    "            hash[left[i]]+=count\n",
    "            i+=1\n",
    "            k+=1\n",
    "\n",
    "\n",
    "        while j<len(right):\n",
    "            arr[k]=right[j]\n",
    "            j+=1\n",
    "            k+=1\n",
    "\n",
    "def getSmallerElements(arr,n):\n",
    "    hash={}\n",
    "    for i in arr:\n",
    "        hash[i]=0\n",
    "    mergeSort(arr,hash)\n",
    "    smallerElements=[0]*n\n",
    "    print(hash)\n",
    "\n",
    "if __name__ == '__main__':\n",
    "    arr=[12,1,2,3,0,11,4]\n",
    "    n=len(arr)\n",
    "    getSmallerElements(arr,n)\n"
   ]
  },
  {
   "cell_type": "markdown",
   "metadata": {},
   "source": [
    "Time Complexity O(nlogn) and Space Complexity O(n)"
   ]
  },
  {
   "cell_type": "markdown",
   "metadata": {},
   "source": [
    "# Longest Increasing Subsequence"
   ]
  },
  {
   "cell_type": "markdown",
   "metadata": {},
   "source": [
    "Solution 1-> Using Dynamic Programming"
   ]
  },
  {
   "cell_type": "code",
   "execution_count": 1,
   "metadata": {},
   "outputs": [
    {
     "name": "stdout",
     "output_type": "stream",
     "text": [
      "6\n"
     ]
    }
   ],
   "source": [
    "import math\n",
    "\n",
    "def getLIS(arr,n):\n",
    "    LIS=[1]*n\n",
    "    maxLIS=-math.inf\n",
    "    for i in range(1,n):\n",
    "        for j in range(i):\n",
    "            if arr[j]<arr[i]:\n",
    "                LIS[i]=max(LIS[i],LIS[j]+1)\n",
    "                maxLIS=max(LIS[i],maxLIS)\n",
    "    return maxLIS\n",
    "\n",
    "\n",
    "if __name__ == '__main__':\n",
    "    arr=[ 2, 5, 3, 7, 11, 8, 10, 13, 6]\n",
    "    n=len(arr)\n",
    "    print(getLIS(arr,n))\n"
   ]
  },
  {
   "cell_type": "markdown",
   "metadata": {},
   "source": [
    "Time Complexity O(n^2) and Space Complexity O(n)"
   ]
  },
  {
   "cell_type": "markdown",
   "metadata": {},
   "source": [
    "Another Solution in O(nlogn) time is ->"
   ]
  },
  {
   "cell_type": "code",
   "execution_count": 2,
   "metadata": {},
   "outputs": [
    {
     "name": "stdout",
     "output_type": "stream",
     "text": [
      "6\n"
     ]
    }
   ],
   "source": [
    "def getCeil(tailTable,l,r,key):\n",
    "    while r-l>1:\n",
    "        m=l+(r-l)//2\n",
    "        if tailTable[m]>key:\n",
    "            r=m\n",
    "        else:\n",
    "            l=m\n",
    "    return r\n",
    "\n",
    "def getLIS(arr,n):\n",
    "    tailTable=[0]*(n+1)\n",
    "    tailTable[0]=arr[0]\n",
    "    l=1\n",
    "    for i in range(1,n):\n",
    "        if arr[i]<tailTable[0]:\n",
    "            tailTable[0]=arr[i]\n",
    "        elif arr[i]>tailTable[l-1]:\n",
    "            tailTable[l]=arr[i]\n",
    "            l+=1\n",
    "        else:\n",
    "            tailTable[getCeil(tailTable,-1,l-1,arr[i])]=arr[i]\n",
    "    return l\n",
    "\n",
    "if __name__ == '__main__':\n",
    "    arr=[ 2, 5, 3, 7, 11, 8, 10, 13, 6]\n",
    "    n=len(arr)\n",
    "    print(getLIS(arr,n))\n"
   ]
  },
  {
   "cell_type": "markdown",
   "metadata": {},
   "source": [
    "REVISE AGAIN"
   ]
  },
  {
   "cell_type": "markdown",
   "metadata": {},
   "source": [
    "# Find the smallest positive number missing from an unsorted array"
   ]
  },
  {
   "cell_type": "markdown",
   "metadata": {},
   "source": [
    "Approach 1-> hashing; find the maxPos element in the array and the loop through the integers to find the smallest missing element."
   ]
  },
  {
   "cell_type": "code",
   "execution_count": 3,
   "metadata": {},
   "outputs": [
    {
     "name": "stdout",
     "output_type": "stream",
     "text": [
      "4\n",
      "1\n"
     ]
    }
   ],
   "source": [
    "import math\n",
    "def getSmallestMissingElement(arr,n):\n",
    "    hash={}\n",
    "    maxPos=-math.inf\n",
    "    for i in arr:\n",
    "        maxPos=max(maxPos,i)\n",
    "        if i in hash:\n",
    "            hash[i]+=1\n",
    "        else:\n",
    "            hash[i]=1\n",
    "    for i in range(1,maxPos):\n",
    "        if i not in hash:\n",
    "            return i\n",
    "\n",
    "\n",
    "if __name__ == '__main__':\n",
    "    arr=[2,3,-7,6,8,1,-10,15]\n",
    "    n=len(arr)\n",
    "    print(getSmallestMissingElement(arr,n))\n",
    "    arr=[2,3,7,6,8,-1,-10,15]\n",
    "    n=len(arr)\n",
    "    print(getSmallestMissingElement(arr,n))\n"
   ]
  },
  {
   "cell_type": "markdown",
   "metadata": {},
   "source": [
    "Time Complexity O(n) and Space Complexity O(n)"
   ]
  },
  {
   "cell_type": "markdown",
   "metadata": {},
   "source": [
    "Approach 2-> Sorting"
   ]
  },
  {
   "cell_type": "code",
   "execution_count": 4,
   "metadata": {},
   "outputs": [
    {
     "name": "stdout",
     "output_type": "stream",
     "text": [
      "1\n",
      "4\n"
     ]
    }
   ],
   "source": [
    "import math\n",
    "\n",
    "\n",
    "def getSmallestMissingElement(arr,n):\n",
    "    arr.sort()\n",
    "    minPos=math.inf\n",
    "    maxPos=-math.inf\n",
    "    minPosIndex=0\n",
    "    for i in range(n):\n",
    "        if arr[i]>0 and arr[i]>maxPos:\n",
    "            maxPos=arr[i]\n",
    "        if arr[i]>0 and arr[i]<minPos:\n",
    "            minPos=arr[i]\n",
    "            minPosIndex=i\n",
    "\n",
    "    for i in range(1,maxPos+1):\n",
    "        if arr[minPosIndex]==i:\n",
    "            minPosIndex+=1\n",
    "        else:\n",
    "            return i\n",
    "\n",
    "if __name__ == '__main__':\n",
    "    arr=[2,3,7,6,8,-1,-10,15]\n",
    "    n=len(arr)\n",
    "    print(getSmallestMissingElement(arr,n))\n",
    "    arr=[2,3,-7,6,8,1,-10,15]\n",
    "    n=len(arr)\n",
    "    print(getSmallestMissingElement(arr,n))\n"
   ]
  },
  {
   "cell_type": "markdown",
   "metadata": {},
   "source": [
    "Time Complexity O(nlogn) and Space Complexity O(1)"
   ]
  },
  {
   "cell_type": "markdown",
   "metadata": {},
   "source": [
    "# Find duplicates in O(n) time and O(1) extra space"
   ]
  },
  {
   "cell_type": "markdown",
   "metadata": {},
   "source": [
    "Basic Approach would be to use a hash map but here we are not allowed to use the extra space"
   ]
  },
  {
   "cell_type": "markdown",
   "metadata": {},
   "source": [
    "But here if we have the array of length n and the elements are till n-1 only we can make the array itself as the hashmap"
   ]
  },
  {
   "cell_type": "markdown",
   "metadata": {},
   "source": [
    "<pre>\n",
    "Approach: The basic idea is to use a HashMap to solve the problem. But there is a catch, the numbers in the array are from 0 to n-1, and the input array has length n. So, the input array can be used as a HashMap. While Traversing the array, if an element ‘a’ is encountered then increase the value of a%n‘th element by n. The frequency can be retrieved by dividing the a % n’th element by n.\n",
    "\n",
    "Algorithm: \n",
    "\n",
    "1) Traverse the given array from start to end.\n",
    "2) For every element in the array increment the arr[i]%n‘th element by n.\n",
    "3) Now traverse the array again and print all those indexes i for which arr[i]/n is greater than 1. Which guarantees that the number n has been added to that index\n",
    "4) This approach works because all elements are in the range from 0 to n-1 and arr[i] would be greater than n only if a value “i” has appeared more than once.\n",
    "</pre>"
   ]
  },
  {
   "cell_type": "code",
   "execution_count": 5,
   "metadata": {},
   "outputs": [
    {
     "name": "stdout",
     "output_type": "stream",
     "text": [
      "1\n",
      "3\n",
      "6\n"
     ]
    }
   ],
   "source": [
    "def findDuplicates(arr,n):\n",
    "    for i in range(n):\n",
    "        x=arr[i]%n #get the original element in the array index\n",
    "        arr[x]=arr[x]+n #increasing the frequency of the element in the array itself\n",
    "    for i in range(n):\n",
    "        if arr[i]>=n*2:\n",
    "            print(i)\n",
    "\n",
    "if __name__ == '__main__':\n",
    "    arr=[1, 2, 3, 6, 3, 6, 1]\n",
    "    n=len(arr)\n",
    "    findDuplicates(arr,n)\n"
   ]
  },
  {
   "cell_type": "markdown",
   "metadata": {},
   "source": [
    "Time Complexity O(n) and Space Complexity O(1)"
   ]
  },
  {
   "cell_type": "code",
   "execution_count": null,
   "metadata": {},
   "outputs": [],
   "source": []
  }
 ],
 "metadata": {
  "kernelspec": {
   "display_name": "Python 3",
   "language": "python",
   "name": "python3"
  },
  "language_info": {
   "codemirror_mode": {
    "name": "ipython",
    "version": 3
   },
   "file_extension": ".py",
   "mimetype": "text/x-python",
   "name": "python",
   "nbconvert_exporter": "python",
   "pygments_lexer": "ipython3",
   "version": "3.7.6"
  }
 },
 "nbformat": 4,
 "nbformat_minor": 4
}
