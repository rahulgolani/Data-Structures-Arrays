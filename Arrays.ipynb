{
 "cells": [
  {
   "cell_type": "markdown",
   "metadata": {},
   "source": [
    "# 1) Array Rotations"
   ]
  },
  {
   "cell_type": "markdown",
   "metadata": {},
   "source": [
    "# Rotate an array by d units"
   ]
  },
  {
   "cell_type": "markdown",
   "metadata": {},
   "source": [
    "Naive Approach-> Using Temporary array, store first d elements in temp array shift the array elements to the left and then store the d elements back"
   ]
  },
  {
   "cell_type": "code",
   "execution_count": 5,
   "metadata": {},
   "outputs": [
    {
     "name": "stdout",
     "output_type": "stream",
     "text": [
      "[1, 2, 3, 4, 5, 6, 7]\n",
      "[3, 4, 5, 6, 7, 1, 2]\n"
     ]
    }
   ],
   "source": [
    "def rotate(arr,d,n):\n",
    "    temp=[0]*d\n",
    "    for i in range(d):\n",
    "        temp[i]=arr[i] #Store\n",
    "    for i in range(d,n):\n",
    "        arr[i-d]=arr[i] #Shift\n",
    "    j=0\n",
    "    for i in range(n-d,n):\n",
    "        arr[i]=temp[j] #Put it in position\n",
    "        j+=1\n",
    "\n",
    "if __name__==\"__main__\":\n",
    "    arr=[1,2,3,4,5,6,7]\n",
    "    d=2\n",
    "    n=len(arr)\n",
    "    print(arr)\n",
    "    rotate(arr,d,n)\n",
    "    print(arr)\n",
    "        "
   ]
  },
  {
   "cell_type": "markdown",
   "metadata": {},
   "source": [
    "Time Complexity-O(n) and space-O(d)"
   ]
  },
  {
   "cell_type": "markdown",
   "metadata": {},
   "source": [
    "<strong>Another brute force solution is to rotate the elements one by one instead of storing the complete d elements at once, take one element, shift rest elements to the left/right and place the taken element at its correct position</strong>"
   ]
  },
  {
   "cell_type": "code",
   "execution_count": 6,
   "metadata": {},
   "outputs": [
    {
     "name": "stdout",
     "output_type": "stream",
     "text": [
      "[1, 2, 3, 4, 5, 6, 7]\n",
      "[3, 4, 5, 6, 7, 1, 2]\n"
     ]
    }
   ],
   "source": [
    "def rotate(arr,d,n):\n",
    "    for i in range(d):\n",
    "        rotateOneByOne(arr,n) #iterate d times\n",
    "\n",
    "def rotateOneByOne(arr,n):\n",
    "    temp=arr[0]   #store \n",
    "    for i in range(n-1):\n",
    "        arr[i]=arr[i+1] #shift\n",
    "    arr[n-1]=temp#put it in position\n",
    "\n",
    "if __name__==\"__main__\":\n",
    "    arr=[1,2,3,4,5,6,7]\n",
    "    d=2\n",
    "    n=len(arr)\n",
    "    print(arr)\n",
    "    rotate(arr,d,n)\n",
    "    print(arr)\n",
    "        "
   ]
  },
  {
   "cell_type": "markdown",
   "metadata": {},
   "source": [
    "Time Complexity-> O(n*d) O(n) time for shift and it happens for O(d) times"
   ]
  },
  {
   "cell_type": "markdown",
   "metadata": {},
   "source": [
    "Another Approach-> <strong>Juggling Algorithm </strong> (Instead of moving one by one,<strong> moving in sets) </strong>where number of sets is equal to GCD of n and d and move the elements within sets.\n",
    "If GCD is 1 as is for the above example array (n = 7 and d =2), then elements will be moved within one set only, we just start with temp = arr[0] and keep moving arr[I+d] to arr[I] and finally store temp at the right place."
   ]
  },
  {
   "cell_type": "code",
   "execution_count": 4,
   "metadata": {},
   "outputs": [
    {
     "name": "stdout",
     "output_type": "stream",
     "text": [
      "[1, 2, 3, 4, 5, 6, 7, 8, 9, 10, 11, 12]\n",
      "[4, 5, 6, 7, 8, 9, 10, 11, 12, 1, 2, 3]\n"
     ]
    }
   ],
   "source": [
    "from math import gcd\n",
    "def rotate(arr,d,n):\n",
    "    g_c_d=gcd(d,n) #no of sets equal to gcd\n",
    "    for i in range(g_c_d):\n",
    "        temp=arr[i] #store the first element\n",
    "        j=i\n",
    "        while True:\n",
    "            k=j+d #one by one take the elements from all sets and move them to correct position\n",
    "            if k>=n:\n",
    "                k=k-n \n",
    "            if k==i:\n",
    "                break #position for the stored element\n",
    "            arr[j]=arr[k]\n",
    "            j=k # move the pointer to the next element of the set\n",
    "        arr[j]=temp\n",
    "\n",
    "if __name__==\"__main__\":\n",
    "    arr=[1,2,3,4,5,6,7,8,9,10,11,12]\n",
    "    d=3\n",
    "    n=len(arr)\n",
    "    print(arr)\n",
    "    rotate(arr,d,n)\n",
    "    print(arr)\n"
   ]
  },
  {
   "cell_type": "markdown",
   "metadata": {},
   "source": [
    "Time Complexity - O(n) and space - O(1)"
   ]
  },
  {
   "cell_type": "markdown",
   "metadata": {},
   "source": [
    "# Reversal algorithm for array rotation"
   ]
  },
  {
   "cell_type": "markdown",
   "metadata": {},
   "source": [
    "<pre>\n",
    "Let AB are the two parts of the input array where A = arr[0..d-1] and B = arr[d..n-1]. The idea of the algorithm is :\n",
    "\n",
    "Reverse A to get ArB, where Ar is reverse of A.\n",
    "Reverse B to get ArBr, where Br is reverse of B.\n",
    "Reverse all to get (ArBr) r = BA.\n",
    "Example :\n",
    "Let the array be arr[] = [1, 2, 3, 4, 5, 6, 7], d =2 and n = 7\n",
    "A = [1, 2] and B = [3, 4, 5, 6, 7]\n",
    "\n",
    "Reverse A, we get ArB = [2, 1, 3, 4, 5, 6, 7]\n",
    "Reverse B, we get ArBr = [2, 1, 7, 6, 5, 4, 3]\n",
    "Reverse all, we get (ArBr)r = [3, 4, 5, 6, 7, 1, 2]\n",
    "</pre>"
   ]
  },
  {
   "cell_type": "code",
   "execution_count": 9,
   "metadata": {},
   "outputs": [
    {
     "name": "stdout",
     "output_type": "stream",
     "text": [
      "array('i', [3, 4, 5, 6, 7, 1, 2])\n"
     ]
    }
   ],
   "source": [
    "import array\n",
    "\n",
    "def reverseArray(arr,start,end):\n",
    "    while start<end:\n",
    "        arr[start],arr[end]=arr[end],arr[start] #2 pointers\n",
    "        start+=1\n",
    "        end-=1\n",
    "\n",
    "\n",
    "def rotate(arr,n,d):\n",
    "\n",
    "    reverseArray(arr,0,d-1)\n",
    "    reverseArray(arr,d,n-1)\n",
    "    arr.reverse()\n",
    "\n",
    "\n",
    "\n",
    "arr=array.array('i',[1,2,3,4,5,6,7])\n",
    "rotate(arr,7,2)\n",
    "print(arr)\n"
   ]
  },
  {
   "cell_type": "markdown",
   "metadata": {},
   "source": [
    "<strong>Concept- 2 pointers to reverse the array</strong>"
   ]
  },
  {
   "cell_type": "markdown",
   "metadata": {},
   "source": [
    "Time Complexity - O(n) space-O(1)"
   ]
  },
  {
   "cell_type": "markdown",
   "metadata": {},
   "source": [
    "# Block swap algorithm for array rotation"
   ]
  },
  {
   "cell_type": "markdown",
   "metadata": {},
   "source": [
    "<pre>\n",
    "Initialize A = arr[0..d-1] and B = arr[d..n-1]\n",
    "1) Do following until size of A is equal to size of B\n",
    "\n",
    "  a)  If A is shorter, divide B into Bl and Br such that Br is of same \n",
    "       length as A. Swap A and Br to change ABlBr into BrBlA. Now A\n",
    "       is at its final place, so recur on pieces of B.  \n",
    "\n",
    "   b)  If A is longer, divide A into Al and Ar such that Al is of same \n",
    "       length as B Swap Al and B to change AlArB into BArAl. Now B\n",
    "       is at its final place, so recur on pieces of A.\n",
    "\n",
    "2)  Finally when A and B are of equal size, block swap them.\n",
    "</pre>"
   ]
  },
  {
   "cell_type": "code",
   "execution_count": 19,
   "metadata": {},
   "outputs": [
    {
     "name": "stdout",
     "output_type": "stream",
     "text": [
      "[1, 2, 3, 4, 5, 6, 7]\n",
      "[6, 7, 3, 4, 5, 1, 2]\n",
      "[4, 5, 3, 6, 7, 1, 2]\n",
      "[3, 5, 4, 6, 7, 1, 2]\n",
      "[3, 4, 5, 6, 7, 1, 2]\n"
     ]
    }
   ],
   "source": [
    "def swap(arr,start,end,n):\n",
    "    count=0\n",
    "    while count<n:\n",
    "        arr[start],arr[end]=arr[end],arr[start]\n",
    "        start+=1\n",
    "        end+=1\n",
    "        count+=1\n",
    "\n",
    "def rotate(arr,d,n):\n",
    "    i=d\n",
    "    j=n-d\n",
    "    while i!=j:\n",
    "        if i<j:\n",
    "            swap(arr,d-i,d+j-i,i)\n",
    "            j-=i\n",
    "        elif j<i:\n",
    "            swap(arr,d-i,d,j)\n",
    "            i-=j\n",
    "        print(arr)\n",
    "    swap(arr,d-i,d,i)\n",
    "\n",
    "if __name__ == \"__main__\":\n",
    "    arr=[1,2,3,4,5,6,7]\n",
    "    d=2\n",
    "    n=len(arr)\n",
    "    print(arr)\n",
    "    rotate(arr,d,n)\n",
    "    print(arr)"
   ]
  },
  {
   "cell_type": "markdown",
   "metadata": {},
   "source": [
    "Time Complexity-O(n)"
   ]
  },
  {
   "cell_type": "code",
   "execution_count": null,
   "metadata": {},
   "outputs": [],
   "source": []
  }
 ],
 "metadata": {
  "kernelspec": {
   "display_name": "Python 3",
   "language": "python",
   "name": "python3"
  },
  "language_info": {
   "codemirror_mode": {
    "name": "ipython",
    "version": 3
   },
   "file_extension": ".py",
   "mimetype": "text/x-python",
   "name": "python",
   "nbconvert_exporter": "python",
   "pygments_lexer": "ipython3",
   "version": "3.7.6"
  }
 },
 "nbformat": 4,
 "nbformat_minor": 4
}
